{
 "cells": [
  {
   "cell_type": "code",
   "execution_count": 1,
   "id": "58898d23",
   "metadata": {
    "_cell_guid": "b1076dfc-b9ad-4769-8c92-a6c4dae69d19",
    "_uuid": "8f2839f25d086af736a60e9eeb907d3b93b6e0e5",
    "execution": {
     "iopub.execute_input": "2022-03-23T23:25:15.356543Z",
     "iopub.status.busy": "2022-03-23T23:25:15.355035Z",
     "iopub.status.idle": "2022-03-23T23:25:15.509722Z",
     "shell.execute_reply": "2022-03-23T23:25:15.509174Z",
     "shell.execute_reply.started": "2022-03-23T23:08:56.637769Z"
    },
    "papermill": {
     "duration": 0.176837,
     "end_time": "2022-03-23T23:25:15.509864",
     "exception": false,
     "start_time": "2022-03-23T23:25:15.333027",
     "status": "completed"
    },
    "tags": []
   },
   "outputs": [
    {
     "name": "stdout",
     "output_type": "stream",
     "text": [
      "/kaggle/input/covid19-image-dataset/Covid19-dataset/test/Normal/0117.jpeg\n",
      "/kaggle/input/covid19-image-dataset/Covid19-dataset/test/Normal/0101.jpeg\n",
      "/kaggle/input/covid19-image-dataset/Covid19-dataset/test/Normal/0108.jpeg\n",
      "/kaggle/input/covid19-image-dataset/Covid19-dataset/test/Normal/0110.jpeg\n",
      "/kaggle/input/covid19-image-dataset/Covid19-dataset/test/Normal/0119.jpeg\n",
      "/kaggle/input/covid19-image-dataset/Covid19-dataset/test/Normal/0115.jpeg\n",
      "/kaggle/input/covid19-image-dataset/Covid19-dataset/test/Normal/0116.jpeg\n",
      "/kaggle/input/covid19-image-dataset/Covid19-dataset/test/Normal/0105.jpeg\n",
      "/kaggle/input/covid19-image-dataset/Covid19-dataset/test/Normal/0106.jpeg\n",
      "/kaggle/input/covid19-image-dataset/Covid19-dataset/test/Normal/0121.jpeg\n",
      "/kaggle/input/covid19-image-dataset/Covid19-dataset/test/Normal/0111.jpeg\n",
      "/kaggle/input/covid19-image-dataset/Covid19-dataset/test/Normal/0103.jpeg\n",
      "/kaggle/input/covid19-image-dataset/Covid19-dataset/test/Normal/0120.jpeg\n",
      "/kaggle/input/covid19-image-dataset/Covid19-dataset/test/Normal/0122.jpeg\n",
      "/kaggle/input/covid19-image-dataset/Covid19-dataset/test/Normal/0109.jpeg\n",
      "/kaggle/input/covid19-image-dataset/Covid19-dataset/test/Normal/0112.jpeg\n",
      "/kaggle/input/covid19-image-dataset/Covid19-dataset/test/Normal/0114.jpeg\n",
      "/kaggle/input/covid19-image-dataset/Covid19-dataset/test/Normal/0107.jpeg\n",
      "/kaggle/input/covid19-image-dataset/Covid19-dataset/test/Normal/0118.jpeg\n",
      "/kaggle/input/covid19-image-dataset/Covid19-dataset/test/Normal/0102.jpeg\n",
      "/kaggle/input/covid19-image-dataset/Covid19-dataset/test/Viral Pneumonia/0117.jpeg\n",
      "/kaggle/input/covid19-image-dataset/Covid19-dataset/test/Viral Pneumonia/0101.jpeg\n",
      "/kaggle/input/covid19-image-dataset/Covid19-dataset/test/Viral Pneumonia/0104.jpeg\n",
      "/kaggle/input/covid19-image-dataset/Covid19-dataset/test/Viral Pneumonia/0108.jpeg\n",
      "/kaggle/input/covid19-image-dataset/Covid19-dataset/test/Viral Pneumonia/0110.jpeg\n",
      "/kaggle/input/covid19-image-dataset/Covid19-dataset/test/Viral Pneumonia/0119.jpeg\n",
      "/kaggle/input/covid19-image-dataset/Covid19-dataset/test/Viral Pneumonia/0115.jpeg\n",
      "/kaggle/input/covid19-image-dataset/Covid19-dataset/test/Viral Pneumonia/0116.jpeg\n",
      "/kaggle/input/covid19-image-dataset/Covid19-dataset/test/Viral Pneumonia/0105.jpeg\n",
      "/kaggle/input/covid19-image-dataset/Covid19-dataset/test/Viral Pneumonia/0106.jpeg\n",
      "/kaggle/input/covid19-image-dataset/Covid19-dataset/test/Viral Pneumonia/0111.jpeg\n",
      "/kaggle/input/covid19-image-dataset/Covid19-dataset/test/Viral Pneumonia/0103.jpeg\n",
      "/kaggle/input/covid19-image-dataset/Covid19-dataset/test/Viral Pneumonia/0120.jpeg\n",
      "/kaggle/input/covid19-image-dataset/Covid19-dataset/test/Viral Pneumonia/0109.jpeg\n",
      "/kaggle/input/covid19-image-dataset/Covid19-dataset/test/Viral Pneumonia/0112.jpeg\n",
      "/kaggle/input/covid19-image-dataset/Covid19-dataset/test/Viral Pneumonia/0113.jpeg\n",
      "/kaggle/input/covid19-image-dataset/Covid19-dataset/test/Viral Pneumonia/0114.jpeg\n",
      "/kaggle/input/covid19-image-dataset/Covid19-dataset/test/Viral Pneumonia/0107.jpeg\n",
      "/kaggle/input/covid19-image-dataset/Covid19-dataset/test/Viral Pneumonia/0118.jpeg\n",
      "/kaggle/input/covid19-image-dataset/Covid19-dataset/test/Viral Pneumonia/0102.jpeg\n",
      "/kaggle/input/covid19-image-dataset/Covid19-dataset/test/Covid/0108.jpeg\n",
      "/kaggle/input/covid19-image-dataset/Covid19-dataset/test/Covid/0119.jpeg\n",
      "/kaggle/input/covid19-image-dataset/Covid19-dataset/test/Covid/0115.jpeg\n",
      "/kaggle/input/covid19-image-dataset/Covid19-dataset/test/Covid/auntminnie-2020_01_31_20_24_2322_2020_01_31_x-ray_coronavirus_US.jpg\n",
      "/kaggle/input/covid19-image-dataset/Covid19-dataset/test/Covid/COVID-00037.jpg\n",
      "/kaggle/input/covid19-image-dataset/Covid19-dataset/test/Covid/0106.jpeg\n",
      "/kaggle/input/covid19-image-dataset/Covid19-dataset/test/Covid/0111.jpg\n",
      "/kaggle/input/covid19-image-dataset/Covid19-dataset/test/Covid/COVID-00022.jpg\n",
      "/kaggle/input/covid19-image-dataset/Covid19-dataset/test/Covid/auntminnie-a-2020_01_28_23_51_6665_2020_01_28_Vietnam_coronavirus.jpeg\n",
      "/kaggle/input/covid19-image-dataset/Covid19-dataset/test/Covid/0120.jpg\n",
      "/kaggle/input/covid19-image-dataset/Covid19-dataset/test/Covid/094.png\n",
      "/kaggle/input/covid19-image-dataset/Covid19-dataset/test/Covid/COVID-00003b.jpg\n",
      "/kaggle/input/covid19-image-dataset/Covid19-dataset/test/Covid/0105.png\n",
      "/kaggle/input/covid19-image-dataset/Covid19-dataset/test/Covid/radiopaedia-2019-novel-coronavirus-infected-pneumonia.jpg\n",
      "/kaggle/input/covid19-image-dataset/Covid19-dataset/test/Covid/auntminnie-c-2020_01_28_23_51_6665_2020_01_28_Vietnam_coronavirus.jpeg\n",
      "/kaggle/input/covid19-image-dataset/Covid19-dataset/test/Covid/0112.jpg\n",
      "/kaggle/input/covid19-image-dataset/Covid19-dataset/test/Covid/COVID-00012.jpg\n",
      "/kaggle/input/covid19-image-dataset/Covid19-dataset/test/Covid/COVID-00033.jpg\n",
      "/kaggle/input/covid19-image-dataset/Covid19-dataset/test/Covid/0113.jpg\n",
      "/kaggle/input/covid19-image-dataset/Covid19-dataset/test/Covid/0100.jpeg\n",
      "/kaggle/input/covid19-image-dataset/Covid19-dataset/test/Covid/auntminnie-b-2020_01_28_23_51_6665_2020_01_28_Vietnam_coronavirus.jpeg\n",
      "/kaggle/input/covid19-image-dataset/Covid19-dataset/test/Covid/098.jpeg\n",
      "/kaggle/input/covid19-image-dataset/Covid19-dataset/test/Covid/096.png\n",
      "/kaggle/input/covid19-image-dataset/Covid19-dataset/test/Covid/auntminnie-d-2020_01_28_23_51_6665_2020_01_28_Vietnam_coronavirus.jpeg\n",
      "/kaggle/input/covid19-image-dataset/Covid19-dataset/test/Covid/0118.jpeg\n",
      "/kaggle/input/covid19-image-dataset/Covid19-dataset/test/Covid/0102.jpeg\n",
      "/kaggle/input/covid19-image-dataset/Covid19-dataset/train/Normal/071.jpeg\n",
      "/kaggle/input/covid19-image-dataset/Covid19-dataset/train/Normal/014.jpeg\n",
      "/kaggle/input/covid19-image-dataset/Covid19-dataset/train/Normal/073.jpeg\n",
      "/kaggle/input/covid19-image-dataset/Covid19-dataset/train/Normal/05.jpeg\n",
      "/kaggle/input/covid19-image-dataset/Covid19-dataset/train/Normal/023.jpeg\n",
      "/kaggle/input/covid19-image-dataset/Covid19-dataset/train/Normal/01.jpeg\n",
      "/kaggle/input/covid19-image-dataset/Covid19-dataset/train/Normal/096.jpeg\n",
      "/kaggle/input/covid19-image-dataset/Covid19-dataset/train/Normal/060.jpeg\n",
      "/kaggle/input/covid19-image-dataset/Covid19-dataset/train/Normal/063.jpeg\n",
      "/kaggle/input/covid19-image-dataset/Covid19-dataset/train/Normal/059.jpeg\n",
      "/kaggle/input/covid19-image-dataset/Covid19-dataset/train/Normal/087.jpeg\n",
      "/kaggle/input/covid19-image-dataset/Covid19-dataset/train/Normal/064.jpeg\n",
      "/kaggle/input/covid19-image-dataset/Covid19-dataset/train/Normal/011.jpeg\n",
      "/kaggle/input/covid19-image-dataset/Covid19-dataset/train/Normal/068.jpeg\n",
      "/kaggle/input/covid19-image-dataset/Covid19-dataset/train/Normal/058.jpeg\n",
      "/kaggle/input/covid19-image-dataset/Covid19-dataset/train/Normal/020.jpeg\n",
      "/kaggle/input/covid19-image-dataset/Covid19-dataset/train/Normal/050.jpeg\n",
      "/kaggle/input/covid19-image-dataset/Covid19-dataset/train/Normal/03.jpeg\n",
      "/kaggle/input/covid19-image-dataset/Covid19-dataset/train/Normal/02.jpeg\n",
      "/kaggle/input/covid19-image-dataset/Covid19-dataset/train/Normal/093.jpeg\n",
      "/kaggle/input/covid19-image-dataset/Covid19-dataset/train/Normal/016.jpeg\n",
      "/kaggle/input/covid19-image-dataset/Covid19-dataset/train/Normal/010.jpeg\n",
      "/kaggle/input/covid19-image-dataset/Covid19-dataset/train/Normal/018.jpeg\n",
      "/kaggle/input/covid19-image-dataset/Covid19-dataset/train/Normal/067.jpeg\n",
      "/kaggle/input/covid19-image-dataset/Covid19-dataset/train/Normal/088.jpeg\n",
      "/kaggle/input/covid19-image-dataset/Covid19-dataset/train/Normal/054.jpeg\n",
      "/kaggle/input/covid19-image-dataset/Covid19-dataset/train/Normal/052.jpeg\n",
      "/kaggle/input/covid19-image-dataset/Covid19-dataset/train/Normal/084.jpeg\n",
      "/kaggle/input/covid19-image-dataset/Covid19-dataset/train/Normal/04.jpeg\n",
      "/kaggle/input/covid19-image-dataset/Covid19-dataset/train/Normal/066.jpeg\n",
      "/kaggle/input/covid19-image-dataset/Covid19-dataset/train/Normal/079.jpeg\n",
      "/kaggle/input/covid19-image-dataset/Covid19-dataset/train/Normal/077.jpeg\n",
      "/kaggle/input/covid19-image-dataset/Covid19-dataset/train/Normal/082.jpeg\n",
      "/kaggle/input/covid19-image-dataset/Covid19-dataset/train/Normal/056.jpeg\n",
      "/kaggle/input/covid19-image-dataset/Covid19-dataset/train/Normal/094.jpeg\n",
      "/kaggle/input/covid19-image-dataset/Covid19-dataset/train/Normal/080.jpeg\n",
      "/kaggle/input/covid19-image-dataset/Covid19-dataset/train/Normal/057.jpeg\n",
      "/kaggle/input/covid19-image-dataset/Covid19-dataset/train/Normal/019.jpeg\n",
      "/kaggle/input/covid19-image-dataset/Covid19-dataset/train/Normal/021.jpeg\n",
      "/kaggle/input/covid19-image-dataset/Covid19-dataset/train/Normal/074.jpeg\n",
      "/kaggle/input/covid19-image-dataset/Covid19-dataset/train/Normal/061.jpeg\n",
      "/kaggle/input/covid19-image-dataset/Covid19-dataset/train/Normal/08.jpeg\n",
      "/kaggle/input/covid19-image-dataset/Covid19-dataset/train/Normal/069.jpeg\n",
      "/kaggle/input/covid19-image-dataset/Covid19-dataset/train/Normal/062.jpeg\n",
      "/kaggle/input/covid19-image-dataset/Covid19-dataset/train/Normal/06.jpeg\n",
      "/kaggle/input/covid19-image-dataset/Covid19-dataset/train/Normal/013.jpeg\n",
      "/kaggle/input/covid19-image-dataset/Covid19-dataset/train/Normal/051.jpeg\n",
      "/kaggle/input/covid19-image-dataset/Covid19-dataset/train/Normal/097.jpeg\n",
      "/kaggle/input/covid19-image-dataset/Covid19-dataset/train/Normal/024.jpeg\n",
      "/kaggle/input/covid19-image-dataset/Covid19-dataset/train/Normal/015.jpeg\n",
      "/kaggle/input/covid19-image-dataset/Covid19-dataset/train/Normal/012.jpeg\n",
      "/kaggle/input/covid19-image-dataset/Covid19-dataset/train/Normal/081.jpeg\n",
      "/kaggle/input/covid19-image-dataset/Covid19-dataset/train/Normal/095.jpeg\n",
      "/kaggle/input/covid19-image-dataset/Covid19-dataset/train/Normal/072.jpeg\n",
      "/kaggle/input/covid19-image-dataset/Covid19-dataset/train/Normal/092.jpeg\n",
      "/kaggle/input/covid19-image-dataset/Covid19-dataset/train/Normal/055.jpeg\n",
      "/kaggle/input/covid19-image-dataset/Covid19-dataset/train/Normal/086.jpeg\n",
      "/kaggle/input/covid19-image-dataset/Covid19-dataset/train/Normal/053.jpeg\n",
      "/kaggle/input/covid19-image-dataset/Covid19-dataset/train/Normal/025.jpeg\n",
      "/kaggle/input/covid19-image-dataset/Covid19-dataset/train/Normal/022.jpeg\n",
      "/kaggle/input/covid19-image-dataset/Covid19-dataset/train/Normal/017.jpeg\n",
      "/kaggle/input/covid19-image-dataset/Covid19-dataset/train/Normal/065.jpeg\n",
      "/kaggle/input/covid19-image-dataset/Covid19-dataset/train/Normal/091.jpeg\n",
      "/kaggle/input/covid19-image-dataset/Covid19-dataset/train/Normal/076.jpeg\n",
      "/kaggle/input/covid19-image-dataset/Covid19-dataset/train/Normal/07.jpeg\n",
      "/kaggle/input/covid19-image-dataset/Covid19-dataset/train/Normal/083.jpeg\n",
      "/kaggle/input/covid19-image-dataset/Covid19-dataset/train/Normal/075.jpeg\n",
      "/kaggle/input/covid19-image-dataset/Covid19-dataset/train/Normal/070.jpeg\n",
      "/kaggle/input/covid19-image-dataset/Covid19-dataset/train/Normal/09.jpeg\n",
      "/kaggle/input/covid19-image-dataset/Covid19-dataset/train/Normal/085.jpeg\n",
      "/kaggle/input/covid19-image-dataset/Covid19-dataset/train/Viral Pneumonia/071.jpeg\n",
      "/kaggle/input/covid19-image-dataset/Covid19-dataset/train/Viral Pneumonia/035.jpeg\n",
      "/kaggle/input/covid19-image-dataset/Covid19-dataset/train/Viral Pneumonia/032.jpeg\n",
      "/kaggle/input/covid19-image-dataset/Covid19-dataset/train/Viral Pneumonia/073.jpeg\n",
      "/kaggle/input/covid19-image-dataset/Covid19-dataset/train/Viral Pneumonia/037.jpeg\n",
      "/kaggle/input/covid19-image-dataset/Covid19-dataset/train/Viral Pneumonia/05.jpeg\n",
      "/kaggle/input/covid19-image-dataset/Covid19-dataset/train/Viral Pneumonia/023.jpeg\n",
      "/kaggle/input/covid19-image-dataset/Covid19-dataset/train/Viral Pneumonia/01.jpeg\n",
      "/kaggle/input/covid19-image-dataset/Covid19-dataset/train/Viral Pneumonia/096.jpeg\n",
      "/kaggle/input/covid19-image-dataset/Covid19-dataset/train/Viral Pneumonia/063.jpeg\n",
      "/kaggle/input/covid19-image-dataset/Covid19-dataset/train/Viral Pneumonia/044.jpeg\n",
      "/kaggle/input/covid19-image-dataset/Covid19-dataset/train/Viral Pneumonia/064.jpeg\n",
      "/kaggle/input/covid19-image-dataset/Covid19-dataset/train/Viral Pneumonia/036.jpeg\n",
      "/kaggle/input/covid19-image-dataset/Covid19-dataset/train/Viral Pneumonia/011.jpeg\n",
      "/kaggle/input/covid19-image-dataset/Covid19-dataset/train/Viral Pneumonia/068.jpeg\n",
      "/kaggle/input/covid19-image-dataset/Covid19-dataset/train/Viral Pneumonia/058.jpeg\n",
      "/kaggle/input/covid19-image-dataset/Covid19-dataset/train/Viral Pneumonia/020.jpeg\n",
      "/kaggle/input/covid19-image-dataset/Covid19-dataset/train/Viral Pneumonia/03.jpeg\n",
      "/kaggle/input/covid19-image-dataset/Covid19-dataset/train/Viral Pneumonia/02.jpeg\n",
      "/kaggle/input/covid19-image-dataset/Covid19-dataset/train/Viral Pneumonia/016.jpeg\n",
      "/kaggle/input/covid19-image-dataset/Covid19-dataset/train/Viral Pneumonia/010.jpeg\n",
      "/kaggle/input/covid19-image-dataset/Covid19-dataset/train/Viral Pneumonia/018.jpeg\n",
      "/kaggle/input/covid19-image-dataset/Covid19-dataset/train/Viral Pneumonia/067.jpeg\n",
      "/kaggle/input/covid19-image-dataset/Covid19-dataset/train/Viral Pneumonia/054.jpeg\n",
      "/kaggle/input/covid19-image-dataset/Covid19-dataset/train/Viral Pneumonia/052.jpeg\n",
      "/kaggle/input/covid19-image-dataset/Covid19-dataset/train/Viral Pneumonia/084.jpeg\n",
      "/kaggle/input/covid19-image-dataset/Covid19-dataset/train/Viral Pneumonia/04.jpeg\n",
      "/kaggle/input/covid19-image-dataset/Covid19-dataset/train/Viral Pneumonia/066.jpeg\n",
      "/kaggle/input/covid19-image-dataset/Covid19-dataset/train/Viral Pneumonia/042.jpeg\n",
      "/kaggle/input/covid19-image-dataset/Covid19-dataset/train/Viral Pneumonia/077.jpeg\n",
      "/kaggle/input/covid19-image-dataset/Covid19-dataset/train/Viral Pneumonia/041.jpeg\n",
      "/kaggle/input/covid19-image-dataset/Covid19-dataset/train/Viral Pneumonia/082.jpeg\n",
      "/kaggle/input/covid19-image-dataset/Covid19-dataset/train/Viral Pneumonia/056.jpeg\n",
      "/kaggle/input/covid19-image-dataset/Covid19-dataset/train/Viral Pneumonia/094.jpeg\n",
      "/kaggle/input/covid19-image-dataset/Covid19-dataset/train/Viral Pneumonia/038.jpeg\n",
      "/kaggle/input/covid19-image-dataset/Covid19-dataset/train/Viral Pneumonia/057.jpeg\n",
      "/kaggle/input/covid19-image-dataset/Covid19-dataset/train/Viral Pneumonia/019.jpeg\n",
      "/kaggle/input/covid19-image-dataset/Covid19-dataset/train/Viral Pneumonia/021.jpeg\n",
      "/kaggle/input/covid19-image-dataset/Covid19-dataset/train/Viral Pneumonia/027.jpeg\n",
      "/kaggle/input/covid19-image-dataset/Covid19-dataset/train/Viral Pneumonia/046.jpeg\n",
      "/kaggle/input/covid19-image-dataset/Covid19-dataset/train/Viral Pneumonia/074.jpeg\n",
      "/kaggle/input/covid19-image-dataset/Covid19-dataset/train/Viral Pneumonia/061.jpeg\n",
      "/kaggle/input/covid19-image-dataset/Covid19-dataset/train/Viral Pneumonia/08.jpeg\n",
      "/kaggle/input/covid19-image-dataset/Covid19-dataset/train/Viral Pneumonia/062.jpeg\n",
      "/kaggle/input/covid19-image-dataset/Covid19-dataset/train/Viral Pneumonia/045.jpeg\n",
      "/kaggle/input/covid19-image-dataset/Covid19-dataset/train/Viral Pneumonia/033.jpeg\n",
      "/kaggle/input/covid19-image-dataset/Covid19-dataset/train/Viral Pneumonia/06.jpeg\n",
      "/kaggle/input/covid19-image-dataset/Covid19-dataset/train/Viral Pneumonia/013.jpeg\n",
      "/kaggle/input/covid19-image-dataset/Covid19-dataset/train/Viral Pneumonia/051.jpeg\n",
      "/kaggle/input/covid19-image-dataset/Covid19-dataset/train/Viral Pneumonia/078.jpeg\n",
      "/kaggle/input/covid19-image-dataset/Covid19-dataset/train/Viral Pneumonia/024.jpeg\n",
      "/kaggle/input/covid19-image-dataset/Covid19-dataset/train/Viral Pneumonia/034.jpeg\n",
      "/kaggle/input/covid19-image-dataset/Covid19-dataset/train/Viral Pneumonia/012.jpeg\n",
      "/kaggle/input/covid19-image-dataset/Covid19-dataset/train/Viral Pneumonia/081.jpeg\n",
      "/kaggle/input/covid19-image-dataset/Covid19-dataset/train/Viral Pneumonia/095.jpeg\n",
      "/kaggle/input/covid19-image-dataset/Covid19-dataset/train/Viral Pneumonia/072.jpeg\n",
      "/kaggle/input/covid19-image-dataset/Covid19-dataset/train/Viral Pneumonia/055.jpeg\n",
      "/kaggle/input/covid19-image-dataset/Covid19-dataset/train/Viral Pneumonia/043.jpeg\n",
      "/kaggle/input/covid19-image-dataset/Covid19-dataset/train/Viral Pneumonia/053.jpeg\n",
      "/kaggle/input/covid19-image-dataset/Covid19-dataset/train/Viral Pneumonia/025.jpeg\n",
      "/kaggle/input/covid19-image-dataset/Covid19-dataset/train/Viral Pneumonia/022.jpeg\n",
      "/kaggle/input/covid19-image-dataset/Covid19-dataset/train/Viral Pneumonia/065.jpeg\n",
      "/kaggle/input/covid19-image-dataset/Covid19-dataset/train/Viral Pneumonia/076.jpeg\n",
      "/kaggle/input/covid19-image-dataset/Covid19-dataset/train/Viral Pneumonia/047.jpeg\n",
      "/kaggle/input/covid19-image-dataset/Covid19-dataset/train/Viral Pneumonia/07.jpeg\n",
      "/kaggle/input/covid19-image-dataset/Covid19-dataset/train/Viral Pneumonia/083.jpeg\n",
      "/kaggle/input/covid19-image-dataset/Covid19-dataset/train/Viral Pneumonia/048.jpeg\n",
      "/kaggle/input/covid19-image-dataset/Covid19-dataset/train/Viral Pneumonia/075.jpeg\n",
      "/kaggle/input/covid19-image-dataset/Covid19-dataset/train/Viral Pneumonia/031.jpeg\n",
      "/kaggle/input/covid19-image-dataset/Covid19-dataset/train/Viral Pneumonia/09.jpeg\n",
      "/kaggle/input/covid19-image-dataset/Covid19-dataset/train/Covid/032.jpeg\n",
      "/kaggle/input/covid19-image-dataset/Covid19-dataset/train/Covid/01.jpeg\n",
      "/kaggle/input/covid19-image-dataset/Covid19-dataset/train/Covid/COVID-00014.jpg\n",
      "/kaggle/input/covid19-image-dataset/Covid19-dataset/train/Covid/080.jpg\n",
      "/kaggle/input/covid19-image-dataset/Covid19-dataset/train/Covid/060.jpeg\n",
      "/kaggle/input/covid19-image-dataset/Covid19-dataset/train/Covid/092.png\n",
      "/kaggle/input/covid19-image-dataset/Covid19-dataset/train/Covid/COVID-00005.jpg\n",
      "/kaggle/input/covid19-image-dataset/Covid19-dataset/train/Covid/COVID-00031.jpg\n",
      "/kaggle/input/covid19-image-dataset/Covid19-dataset/train/Covid/059.jpeg\n",
      "/kaggle/input/covid19-image-dataset/Covid19-dataset/train/Covid/067.jpg\n",
      "/kaggle/input/covid19-image-dataset/Covid19-dataset/train/Covid/044.jpeg\n",
      "/kaggle/input/covid19-image-dataset/Covid19-dataset/train/Covid/COVID-00037.jpg\n",
      "/kaggle/input/covid19-image-dataset/Covid19-dataset/train/Covid/069.jpg\n",
      "/kaggle/input/covid19-image-dataset/Covid19-dataset/train/Covid/089.jpg\n",
      "/kaggle/input/covid19-image-dataset/Covid19-dataset/train/Covid/076.jpg\n",
      "/kaggle/input/covid19-image-dataset/Covid19-dataset/train/Covid/COVID-00032.jpg\n",
      "/kaggle/input/covid19-image-dataset/Covid19-dataset/train/Covid/COVID-00027.jpg\n",
      "/kaggle/input/covid19-image-dataset/Covid19-dataset/train/Covid/058.jpeg\n",
      "/kaggle/input/covid19-image-dataset/Covid19-dataset/train/Covid/050.jpeg\n",
      "/kaggle/input/covid19-image-dataset/Covid19-dataset/train/Covid/03.jpeg\n",
      "/kaggle/input/covid19-image-dataset/Covid19-dataset/train/Covid/02.jpeg\n",
      "/kaggle/input/covid19-image-dataset/Covid19-dataset/train/Covid/COVID-00003a.jpg\n",
      "/kaggle/input/covid19-image-dataset/Covid19-dataset/train/Covid/056.jpg\n",
      "/kaggle/input/covid19-image-dataset/Covid19-dataset/train/Covid/033.png\n",
      "/kaggle/input/covid19-image-dataset/Covid19-dataset/train/Covid/COVID-00016.jpg\n",
      "/kaggle/input/covid19-image-dataset/Covid19-dataset/train/Covid/COVID-00017.jpg\n",
      "/kaggle/input/covid19-image-dataset/Covid19-dataset/train/Covid/COVID-00022.jpg\n",
      "/kaggle/input/covid19-image-dataset/Covid19-dataset/train/Covid/09.png\n",
      "/kaggle/input/covid19-image-dataset/Covid19-dataset/train/Covid/088.jpeg\n",
      "/kaggle/input/covid19-image-dataset/Covid19-dataset/train/Covid/068.jpg\n",
      "/kaggle/input/covid19-image-dataset/Covid19-dataset/train/Covid/COVID-00034.jpg\n",
      "/kaggle/input/covid19-image-dataset/Covid19-dataset/train/Covid/064.jpg\n",
      "/kaggle/input/covid19-image-dataset/Covid19-dataset/train/Covid/COVID-00029.jpg\n",
      "/kaggle/input/covid19-image-dataset/Covid19-dataset/train/Covid/015.jpg\n",
      "/kaggle/input/covid19-image-dataset/Covid19-dataset/train/Covid/COVID-00030.jpg\n",
      "/kaggle/input/covid19-image-dataset/Covid19-dataset/train/Covid/054.jpeg\n",
      "/kaggle/input/covid19-image-dataset/Covid19-dataset/train/Covid/086.jpg\n",
      "/kaggle/input/covid19-image-dataset/Covid19-dataset/train/Covid/052.jpeg\n",
      "/kaggle/input/covid19-image-dataset/Covid19-dataset/train/Covid/COVID-00007.jpg\n",
      "/kaggle/input/covid19-image-dataset/Covid19-dataset/train/Covid/COVID-00025.jpg\n",
      "/kaggle/input/covid19-image-dataset/Covid19-dataset/train/Covid/084.jpeg\n",
      "/kaggle/input/covid19-image-dataset/Covid19-dataset/train/Covid/079.jpeg\n",
      "/kaggle/input/covid19-image-dataset/Covid19-dataset/train/Covid/042.jpeg\n",
      "/kaggle/input/covid19-image-dataset/Covid19-dataset/train/Covid/COVID-00038.jpg\n",
      "/kaggle/input/covid19-image-dataset/Covid19-dataset/train/Covid/COVID-00003b.jpg\n",
      "/kaggle/input/covid19-image-dataset/Covid19-dataset/train/Covid/041.jpeg\n",
      "/kaggle/input/covid19-image-dataset/Covid19-dataset/train/Covid/COVID-00026.jpg\n",
      "/kaggle/input/covid19-image-dataset/Covid19-dataset/train/Covid/057.jpeg\n",
      "/kaggle/input/covid19-image-dataset/Covid19-dataset/train/Covid/021.jpeg\n",
      "/kaggle/input/covid19-image-dataset/Covid19-dataset/train/Covid/COVID-00001.jpg\n",
      "/kaggle/input/covid19-image-dataset/Covid19-dataset/train/Covid/027.jpeg\n",
      "/kaggle/input/covid19-image-dataset/Covid19-dataset/train/Covid/046.jpeg\n",
      "/kaggle/input/covid19-image-dataset/Covid19-dataset/train/Covid/COVID-00028.jpg\n",
      "/kaggle/input/covid19-image-dataset/Covid19-dataset/train/Covid/039.jpeg\n",
      "/kaggle/input/covid19-image-dataset/Covid19-dataset/train/Covid/071.jpg\n",
      "/kaggle/input/covid19-image-dataset/Covid19-dataset/train/Covid/08.jpeg\n",
      "/kaggle/input/covid19-image-dataset/Covid19-dataset/train/Covid/COVID-00009.jpg\n",
      "/kaggle/input/covid19-image-dataset/Covid19-dataset/train/Covid/062.jpeg\n",
      "/kaggle/input/covid19-image-dataset/Covid19-dataset/train/Covid/COVID-00024.jpg\n",
      "/kaggle/input/covid19-image-dataset/Covid19-dataset/train/Covid/045.jpeg\n",
      "/kaggle/input/covid19-image-dataset/Covid19-dataset/train/Covid/COVID-00018.jpg\n",
      "/kaggle/input/covid19-image-dataset/Covid19-dataset/train/Covid/019.png\n",
      "/kaggle/input/covid19-image-dataset/Covid19-dataset/train/Covid/COVID-00015a.png\n",
      "/kaggle/input/covid19-image-dataset/Covid19-dataset/train/Covid/COVID-00020.jpg\n",
      "/kaggle/input/covid19-image-dataset/Covid19-dataset/train/Covid/06.jpeg\n",
      "/kaggle/input/covid19-image-dataset/Covid19-dataset/train/Covid/061.jpg\n",
      "/kaggle/input/covid19-image-dataset/Covid19-dataset/train/Covid/051.jpeg\n",
      "/kaggle/input/covid19-image-dataset/Covid19-dataset/train/Covid/073.jpg\n",
      "/kaggle/input/covid19-image-dataset/Covid19-dataset/train/Covid/078.jpeg\n",
      "/kaggle/input/covid19-image-dataset/Covid19-dataset/train/Covid/024.jpeg\n",
      "/kaggle/input/covid19-image-dataset/Covid19-dataset/train/Covid/020.jpg\n",
      "/kaggle/input/covid19-image-dataset/Covid19-dataset/train/Covid/040.jpeg\n",
      "/kaggle/input/covid19-image-dataset/Covid19-dataset/train/Covid/COVID-00021.jpg\n",
      "/kaggle/input/covid19-image-dataset/Covid19-dataset/train/Covid/012.jpeg\n",
      "/kaggle/input/covid19-image-dataset/Covid19-dataset/train/Covid/COVID-00019.jpg\n",
      "/kaggle/input/covid19-image-dataset/Covid19-dataset/train/Covid/COVID-00012.jpg\n",
      "/kaggle/input/covid19-image-dataset/Covid19-dataset/train/Covid/081.jpeg\n",
      "/kaggle/input/covid19-image-dataset/Covid19-dataset/train/Covid/COVID-00033.jpg\n",
      "/kaggle/input/covid19-image-dataset/Covid19-dataset/train/Covid/072.jpeg\n",
      "/kaggle/input/covid19-image-dataset/Covid19-dataset/train/Covid/COVID-00011.jpg\n",
      "/kaggle/input/covid19-image-dataset/Covid19-dataset/train/Covid/074.jpg\n",
      "/kaggle/input/covid19-image-dataset/Covid19-dataset/train/Covid/055.jpeg\n",
      "/kaggle/input/covid19-image-dataset/Covid19-dataset/train/Covid/026.jpeg\n",
      "/kaggle/input/covid19-image-dataset/Covid19-dataset/train/Covid/043.jpeg\n",
      "/kaggle/input/covid19-image-dataset/Covid19-dataset/train/Covid/049.jpeg\n",
      "/kaggle/input/covid19-image-dataset/Covid19-dataset/train/Covid/COVID-00023.jpg\n",
      "/kaggle/input/covid19-image-dataset/Covid19-dataset/train/Covid/COVID-00036.jpg\n",
      "/kaggle/input/covid19-image-dataset/Covid19-dataset/train/Covid/COVID-00013a.jpg\n",
      "/kaggle/input/covid19-image-dataset/Covid19-dataset/train/Covid/053.jpeg\n",
      "/kaggle/input/covid19-image-dataset/Covid19-dataset/train/Covid/025.jpeg\n",
      "/kaggle/input/covid19-image-dataset/Covid19-dataset/train/Covid/COVID-00035.jpg\n",
      "/kaggle/input/covid19-image-dataset/Covid19-dataset/train/Covid/082.jpg\n",
      "/kaggle/input/covid19-image-dataset/Covid19-dataset/train/Covid/022.jpeg\n",
      "/kaggle/input/covid19-image-dataset/Covid19-dataset/train/Covid/COVID-00006.jpg\n",
      "/kaggle/input/covid19-image-dataset/Covid19-dataset/train/Covid/07.jpg\n",
      "/kaggle/input/covid19-image-dataset/Covid19-dataset/train/Covid/065.jpeg\n",
      "/kaggle/input/covid19-image-dataset/Covid19-dataset/train/Covid/047.jpeg\n",
      "/kaggle/input/covid19-image-dataset/Covid19-dataset/train/Covid/COVID-00013b.jpg\n",
      "/kaggle/input/covid19-image-dataset/Covid19-dataset/train/Covid/COVID-00010.jpg\n",
      "/kaggle/input/covid19-image-dataset/Covid19-dataset/train/Covid/COVID-00015b.png\n",
      "/kaggle/input/covid19-image-dataset/Covid19-dataset/train/Covid/COVID-00004.jpg\n",
      "/kaggle/input/covid19-image-dataset/Covid19-dataset/train/Covid/010.png\n",
      "/kaggle/input/covid19-image-dataset/Covid19-dataset/train/Covid/091.jpg\n",
      "/kaggle/input/covid19-image-dataset/Covid19-dataset/train/Covid/090.jpeg\n",
      "/kaggle/input/covid19-image-dataset/Covid19-dataset/train/Covid/083.jpeg\n",
      "/kaggle/input/covid19-image-dataset/Covid19-dataset/train/Covid/048.jpeg\n",
      "/kaggle/input/covid19-image-dataset/Covid19-dataset/train/Covid/COVID-00008.jpg\n",
      "/kaggle/input/covid19-image-dataset/Covid19-dataset/train/Covid/031.jpeg\n",
      "/kaggle/input/covid19-image-dataset/Covid19-dataset/train/Covid/04.png\n",
      "/kaggle/input/covid19-image-dataset/Covid19-dataset/train/Covid/COVID-00002.jpg\n",
      "/kaggle/input/covid19-image-dataset/Covid19-dataset/train/Covid/085.jpeg\n"
     ]
    }
   ],
   "source": [
    "# This Python 3 environment comes with many helpful analytics libraries installed\n",
    "# It is defined by the kaggle/python Docker image: https://github.com/kaggle/docker-python\n",
    "# For example, here's several helpful packages to load\n",
    "\n",
    "import numpy as np # linear algebra\n",
    "import pandas as pd # data processing, CSV file I/O (e.g. pd.read_csv)\n",
    "\n",
    "# Input data files are available in the read-only \"../input/\" directory\n",
    "# For example, running this (by clicking run or pressing Shift+Enter) will list all files under the input directory\n",
    "\n",
    "import os\n",
    "for dirname, _, filenames in os.walk('/kaggle/input'):\n",
    "    for filename in filenames:\n",
    "        print(os.path.join(dirname, filename))\n",
    "\n",
    "# You can write up to 20GB to the current directory (/kaggle/working/) that gets preserved as output when you create a version using \"Save & Run All\" \n",
    "# You can also write temporary files to /kaggle/temp/, but they won't be saved outside of the current session"
   ]
  },
  {
   "cell_type": "code",
   "execution_count": 2,
   "id": "0895cbd3",
   "metadata": {
    "execution": {
     "iopub.execute_input": "2022-03-23T23:25:15.549132Z",
     "iopub.status.busy": "2022-03-23T23:25:15.548350Z",
     "iopub.status.idle": "2022-03-23T23:25:15.550314Z",
     "shell.execute_reply": "2022-03-23T23:25:15.550746Z",
     "shell.execute_reply.started": "2022-03-23T23:09:00.767832Z"
    },
    "papermill": {
     "duration": 0.022432,
     "end_time": "2022-03-23T23:25:15.550867",
     "exception": false,
     "start_time": "2022-03-23T23:25:15.528435",
     "status": "completed"
    },
    "tags": []
   },
   "outputs": [],
   "source": [
    "IMAGE_SIZE = [224, 224] \n",
    "\n",
    "train_path = '../input/covid19-image-dataset/Covid19-dataset/train'\n",
    "valid_path = '../input/covid19-image-dataset/Covid19-dataset/test'"
   ]
  },
  {
   "cell_type": "code",
   "execution_count": 3,
   "id": "929e7d00",
   "metadata": {
    "execution": {
     "iopub.execute_input": "2022-03-23T23:25:15.593269Z",
     "iopub.status.busy": "2022-03-23T23:25:15.592609Z",
     "iopub.status.idle": "2022-03-23T23:25:20.818286Z",
     "shell.execute_reply": "2022-03-23T23:25:20.817772Z",
     "shell.execute_reply.started": "2022-03-23T23:09:59.372762Z"
    },
    "papermill": {
     "duration": 5.251469,
     "end_time": "2022-03-23T23:25:20.818427",
     "exception": false,
     "start_time": "2022-03-23T23:25:15.566958",
     "status": "completed"
    },
    "tags": []
   },
   "outputs": [],
   "source": [
    "from tensorflow.keras.layers import Input, Lambda, Dense, Flatten\n",
    "from tensorflow.keras.models import Model\n",
    "from tensorflow.keras.applications.resnet50 import ResNet50\n",
    "from keras.applications.vgg16 import VGG16\n",
    "from tensorflow.keras.applications.resnet50 import preprocess_input\n",
    "from tensorflow.keras.preprocessing import image\n",
    "from tensorflow.keras.preprocessing.image import ImageDataGenerator,load_img\n",
    "from tensorflow.keras.models import Sequential\n",
    "import numpy as np\n",
    "from glob import glob\n",
    "import matplotlib.pyplot as plt"
   ]
  },
  {
   "cell_type": "code",
   "execution_count": 4,
   "id": "b37a38dc",
   "metadata": {
    "execution": {
     "iopub.execute_input": "2022-03-23T23:25:20.859004Z",
     "iopub.status.busy": "2022-03-23T23:25:20.857981Z",
     "iopub.status.idle": "2022-03-23T23:25:23.953302Z",
     "shell.execute_reply": "2022-03-23T23:25:23.952798Z",
     "shell.execute_reply.started": "2022-03-23T23:10:09.341690Z"
    },
    "papermill": {
     "duration": 3.118527,
     "end_time": "2022-03-23T23:25:23.953440",
     "exception": false,
     "start_time": "2022-03-23T23:25:20.834913",
     "status": "completed"
    },
    "tags": []
   },
   "outputs": [
    {
     "name": "stderr",
     "output_type": "stream",
     "text": [
      "2022-03-23 23:25:20.942699: I tensorflow/stream_executor/cuda/cuda_gpu_executor.cc:937] successful NUMA node read from SysFS had negative value (-1), but there must be at least one NUMA node, so returning NUMA node zero\n",
      "2022-03-23 23:25:21.025616: I tensorflow/stream_executor/cuda/cuda_gpu_executor.cc:937] successful NUMA node read from SysFS had negative value (-1), but there must be at least one NUMA node, so returning NUMA node zero\n",
      "2022-03-23 23:25:21.026311: I tensorflow/stream_executor/cuda/cuda_gpu_executor.cc:937] successful NUMA node read from SysFS had negative value (-1), but there must be at least one NUMA node, so returning NUMA node zero\n",
      "2022-03-23 23:25:21.027475: I tensorflow/core/platform/cpu_feature_guard.cc:142] This TensorFlow binary is optimized with oneAPI Deep Neural Network Library (oneDNN) to use the following CPU instructions in performance-critical operations:  AVX2 AVX512F FMA\n",
      "To enable them in other operations, rebuild TensorFlow with the appropriate compiler flags.\n",
      "2022-03-23 23:25:21.028736: I tensorflow/stream_executor/cuda/cuda_gpu_executor.cc:937] successful NUMA node read from SysFS had negative value (-1), but there must be at least one NUMA node, so returning NUMA node zero\n",
      "2022-03-23 23:25:21.029405: I tensorflow/stream_executor/cuda/cuda_gpu_executor.cc:937] successful NUMA node read from SysFS had negative value (-1), but there must be at least one NUMA node, so returning NUMA node zero\n",
      "2022-03-23 23:25:21.030020: I tensorflow/stream_executor/cuda/cuda_gpu_executor.cc:937] successful NUMA node read from SysFS had negative value (-1), but there must be at least one NUMA node, so returning NUMA node zero\n",
      "2022-03-23 23:25:22.841263: I tensorflow/stream_executor/cuda/cuda_gpu_executor.cc:937] successful NUMA node read from SysFS had negative value (-1), but there must be at least one NUMA node, so returning NUMA node zero\n",
      "2022-03-23 23:25:22.842014: I tensorflow/stream_executor/cuda/cuda_gpu_executor.cc:937] successful NUMA node read from SysFS had negative value (-1), but there must be at least one NUMA node, so returning NUMA node zero\n",
      "2022-03-23 23:25:22.842686: I tensorflow/stream_executor/cuda/cuda_gpu_executor.cc:937] successful NUMA node read from SysFS had negative value (-1), but there must be at least one NUMA node, so returning NUMA node zero\n",
      "2022-03-23 23:25:22.843308: I tensorflow/core/common_runtime/gpu/gpu_device.cc:1510] Created device /job:localhost/replica:0/task:0/device:GPU:0 with 15403 MB memory:  -> device: 0, name: Tesla P100-PCIE-16GB, pci bus id: 0000:00:04.0, compute capability: 6.0\n"
     ]
    },
    {
     "name": "stdout",
     "output_type": "stream",
     "text": [
      "Downloading data from https://storage.googleapis.com/tensorflow/keras-applications/vgg16/vgg16_weights_tf_dim_ordering_tf_kernels_notop.h5\n",
      "58892288/58889256 [==============================] - 0s 0us/step\n",
      "58900480/58889256 [==============================] - 0s 0us/step\n"
     ]
    }
   ],
   "source": [
    "vgg = VGG16(input_shape=IMAGE_SIZE + [3], weights='imagenet', include_top=False)\n"
   ]
  },
  {
   "cell_type": "code",
   "execution_count": 5,
   "id": "d124e2e6",
   "metadata": {
    "execution": {
     "iopub.execute_input": "2022-03-23T23:25:23.998876Z",
     "iopub.status.busy": "2022-03-23T23:25:23.998364Z",
     "iopub.status.idle": "2022-03-23T23:25:24.001649Z",
     "shell.execute_reply": "2022-03-23T23:25:24.002051Z",
     "shell.execute_reply.started": "2022-03-23T23:11:11.598985Z"
    },
    "papermill": {
     "duration": 0.02873,
     "end_time": "2022-03-23T23:25:24.002198",
     "exception": false,
     "start_time": "2022-03-23T23:25:23.973468",
     "status": "completed"
    },
    "tags": []
   },
   "outputs": [],
   "source": [
    "for layer in vgg.layers:\n",
    "  layer.trainable=False"
   ]
  },
  {
   "cell_type": "code",
   "execution_count": 6,
   "id": "25c8e03b",
   "metadata": {
    "execution": {
     "iopub.execute_input": "2022-03-23T23:25:24.045163Z",
     "iopub.status.busy": "2022-03-23T23:25:24.044653Z",
     "iopub.status.idle": "2022-03-23T23:25:24.048763Z",
     "shell.execute_reply": "2022-03-23T23:25:24.048339Z",
     "shell.execute_reply.started": "2022-03-23T23:11:29.358067Z"
    },
    "papermill": {
     "duration": 0.026621,
     "end_time": "2022-03-23T23:25:24.048862",
     "exception": false,
     "start_time": "2022-03-23T23:25:24.022241",
     "status": "completed"
    },
    "tags": []
   },
   "outputs": [],
   "source": [
    "folders=glob( '../input/covid19-image-dataset/Covid19-dataset/train/*')"
   ]
  },
  {
   "cell_type": "code",
   "execution_count": 7,
   "id": "71e6a74c",
   "metadata": {
    "execution": {
     "iopub.execute_input": "2022-03-23T23:25:24.094611Z",
     "iopub.status.busy": "2022-03-23T23:25:24.094066Z",
     "iopub.status.idle": "2022-03-23T23:25:24.109225Z",
     "shell.execute_reply": "2022-03-23T23:25:24.108784Z",
     "shell.execute_reply.started": "2022-03-23T23:11:52.493457Z"
    },
    "papermill": {
     "duration": 0.040215,
     "end_time": "2022-03-23T23:25:24.109331",
     "exception": false,
     "start_time": "2022-03-23T23:25:24.069116",
     "status": "completed"
    },
    "tags": []
   },
   "outputs": [],
   "source": [
    "x=Flatten()(vgg.output)\n",
    "\n",
    "prediction=Dense(len(folders),activation='softmax')(x)\n",
    "\n",
    "\n",
    "model = Model(inputs=vgg.input, outputs=prediction)\n"
   ]
  },
  {
   "cell_type": "code",
   "execution_count": 8,
   "id": "1f70ddcf",
   "metadata": {
    "execution": {
     "iopub.execute_input": "2022-03-23T23:25:24.159297Z",
     "iopub.status.busy": "2022-03-23T23:25:24.155411Z",
     "iopub.status.idle": "2022-03-23T23:25:24.162678Z",
     "shell.execute_reply": "2022-03-23T23:25:24.163093Z",
     "shell.execute_reply.started": "2022-03-23T23:12:04.933017Z"
    },
    "papermill": {
     "duration": 0.034452,
     "end_time": "2022-03-23T23:25:24.163237",
     "exception": false,
     "start_time": "2022-03-23T23:25:24.128785",
     "status": "completed"
    },
    "tags": []
   },
   "outputs": [
    {
     "name": "stdout",
     "output_type": "stream",
     "text": [
      "Model: \"model\"\n",
      "_________________________________________________________________\n",
      "Layer (type)                 Output Shape              Param #   \n",
      "=================================================================\n",
      "input_1 (InputLayer)         [(None, 224, 224, 3)]     0         \n",
      "_________________________________________________________________\n",
      "block1_conv1 (Conv2D)        (None, 224, 224, 64)      1792      \n",
      "_________________________________________________________________\n",
      "block1_conv2 (Conv2D)        (None, 224, 224, 64)      36928     \n",
      "_________________________________________________________________\n",
      "block1_pool (MaxPooling2D)   (None, 112, 112, 64)      0         \n",
      "_________________________________________________________________\n",
      "block2_conv1 (Conv2D)        (None, 112, 112, 128)     73856     \n",
      "_________________________________________________________________\n",
      "block2_conv2 (Conv2D)        (None, 112, 112, 128)     147584    \n",
      "_________________________________________________________________\n",
      "block2_pool (MaxPooling2D)   (None, 56, 56, 128)       0         \n",
      "_________________________________________________________________\n",
      "block3_conv1 (Conv2D)        (None, 56, 56, 256)       295168    \n",
      "_________________________________________________________________\n",
      "block3_conv2 (Conv2D)        (None, 56, 56, 256)       590080    \n",
      "_________________________________________________________________\n",
      "block3_conv3 (Conv2D)        (None, 56, 56, 256)       590080    \n",
      "_________________________________________________________________\n",
      "block3_pool (MaxPooling2D)   (None, 28, 28, 256)       0         \n",
      "_________________________________________________________________\n",
      "block4_conv1 (Conv2D)        (None, 28, 28, 512)       1180160   \n",
      "_________________________________________________________________\n",
      "block4_conv2 (Conv2D)        (None, 28, 28, 512)       2359808   \n",
      "_________________________________________________________________\n",
      "block4_conv3 (Conv2D)        (None, 28, 28, 512)       2359808   \n",
      "_________________________________________________________________\n",
      "block4_pool (MaxPooling2D)   (None, 14, 14, 512)       0         \n",
      "_________________________________________________________________\n",
      "block5_conv1 (Conv2D)        (None, 14, 14, 512)       2359808   \n",
      "_________________________________________________________________\n",
      "block5_conv2 (Conv2D)        (None, 14, 14, 512)       2359808   \n",
      "_________________________________________________________________\n",
      "block5_conv3 (Conv2D)        (None, 14, 14, 512)       2359808   \n",
      "_________________________________________________________________\n",
      "block5_pool (MaxPooling2D)   (None, 7, 7, 512)         0         \n",
      "_________________________________________________________________\n",
      "flatten (Flatten)            (None, 25088)             0         \n",
      "_________________________________________________________________\n",
      "dense (Dense)                (None, 3)                 75267     \n",
      "=================================================================\n",
      "Total params: 14,789,955\n",
      "Trainable params: 75,267\n",
      "Non-trainable params: 14,714,688\n",
      "_________________________________________________________________\n"
     ]
    }
   ],
   "source": [
    "model.summary()"
   ]
  },
  {
   "cell_type": "code",
   "execution_count": 9,
   "id": "3984d52b",
   "metadata": {
    "execution": {
     "iopub.execute_input": "2022-03-23T23:25:24.211505Z",
     "iopub.status.busy": "2022-03-23T23:25:24.210707Z",
     "iopub.status.idle": "2022-03-23T23:25:24.216748Z",
     "shell.execute_reply": "2022-03-23T23:25:24.216308Z",
     "shell.execute_reply.started": "2022-03-23T23:13:33.298425Z"
    },
    "papermill": {
     "duration": 0.033521,
     "end_time": "2022-03-23T23:25:24.216851",
     "exception": false,
     "start_time": "2022-03-23T23:25:24.183330",
     "status": "completed"
    },
    "tags": []
   },
   "outputs": [],
   "source": [
    "model.compile(\n",
    "  loss='categorical_crossentropy',\n",
    "  optimizer='adam',\n",
    "  metrics=['accuracy']\n",
    ")"
   ]
  },
  {
   "cell_type": "code",
   "execution_count": 10,
   "id": "1e54ff22",
   "metadata": {
    "execution": {
     "iopub.execute_input": "2022-03-23T23:25:24.262352Z",
     "iopub.status.busy": "2022-03-23T23:25:24.261640Z",
     "iopub.status.idle": "2022-03-23T23:25:24.263980Z",
     "shell.execute_reply": "2022-03-23T23:25:24.263596Z",
     "shell.execute_reply.started": "2022-03-23T23:16:20.714137Z"
    },
    "papermill": {
     "duration": 0.02725,
     "end_time": "2022-03-23T23:25:24.264082",
     "exception": false,
     "start_time": "2022-03-23T23:25:24.236832",
     "status": "completed"
    },
    "tags": []
   },
   "outputs": [],
   "source": [
    "from tensorflow.keras.preprocessing.image import ImageDataGenerator\n",
    "\n",
    "train_datagen = ImageDataGenerator(rescale = 1./255,\n",
    "                                    horizontal_flip = True,\n",
    "                                    rotation_range=20,\n",
    "                                    zoom_range=0.15,\n",
    "                                    width_shift_range=0.2,\n",
    "    height_shift_range=0.2,\n",
    "    shear_range=0.15,\n",
    "    fill_mode=\"nearest\")\n",
    "\n",
    "test_datagen = ImageDataGenerator(rescale = 1./255)"
   ]
  },
  {
   "cell_type": "code",
   "execution_count": 11,
   "id": "618e203f",
   "metadata": {
    "execution": {
     "iopub.execute_input": "2022-03-23T23:25:24.308589Z",
     "iopub.status.busy": "2022-03-23T23:25:24.307803Z",
     "iopub.status.idle": "2022-03-23T23:25:24.413722Z",
     "shell.execute_reply": "2022-03-23T23:25:24.413254Z",
     "shell.execute_reply.started": "2022-03-23T23:16:35.517674Z"
    },
    "papermill": {
     "duration": 0.129853,
     "end_time": "2022-03-23T23:25:24.413833",
     "exception": false,
     "start_time": "2022-03-23T23:25:24.283980",
     "status": "completed"
    },
    "tags": []
   },
   "outputs": [
    {
     "name": "stdout",
     "output_type": "stream",
     "text": [
      "Found 251 images belonging to 3 classes.\n"
     ]
    }
   ],
   "source": [
    "training_set = train_datagen.flow_from_directory('../input/covid19-image-dataset/Covid19-dataset/train',\n",
    "                                                 target_size = (224, 224),\n",
    "                                                 batch_size = 32,\n",
    "                                                 class_mode = 'categorical')"
   ]
  },
  {
   "cell_type": "code",
   "execution_count": 12,
   "id": "d22a7033",
   "metadata": {
    "execution": {
     "iopub.execute_input": "2022-03-23T23:25:24.459192Z",
     "iopub.status.busy": "2022-03-23T23:25:24.458650Z",
     "iopub.status.idle": "2022-03-23T23:25:24.563217Z",
     "shell.execute_reply": "2022-03-23T23:25:24.562642Z",
     "shell.execute_reply.started": "2022-03-23T23:16:47.210565Z"
    },
    "papermill": {
     "duration": 0.128929,
     "end_time": "2022-03-23T23:25:24.563372",
     "exception": false,
     "start_time": "2022-03-23T23:25:24.434443",
     "status": "completed"
    },
    "tags": []
   },
   "outputs": [
    {
     "name": "stdout",
     "output_type": "stream",
     "text": [
      "Found 66 images belonging to 3 classes.\n"
     ]
    }
   ],
   "source": [
    "test_set = test_datagen.flow_from_directory('../input/covid19-image-dataset/Covid19-dataset/test',\n",
    "                                            target_size = (224, 224),\n",
    "                                            batch_size = 32,\n",
    "                                            class_mode = 'categorical')"
   ]
  },
  {
   "cell_type": "code",
   "execution_count": 13,
   "id": "a97195e9",
   "metadata": {
    "execution": {
     "iopub.execute_input": "2022-03-23T23:25:24.617023Z",
     "iopub.status.busy": "2022-03-23T23:25:24.616198Z",
     "iopub.status.idle": "2022-03-23T23:28:58.028162Z",
     "shell.execute_reply": "2022-03-23T23:28:58.027708Z",
     "shell.execute_reply.started": "2022-03-23T23:17:16.071425Z"
    },
    "papermill": {
     "duration": 213.44146,
     "end_time": "2022-03-23T23:28:58.028303",
     "exception": false,
     "start_time": "2022-03-23T23:25:24.586843",
     "status": "completed"
    },
    "tags": []
   },
   "outputs": [
    {
     "name": "stderr",
     "output_type": "stream",
     "text": [
      "/opt/conda/lib/python3.7/site-packages/keras/engine/training.py:1972: UserWarning: `Model.fit_generator` is deprecated and will be removed in a future version. Please use `Model.fit`, which supports generators.\n",
      "  warnings.warn('`Model.fit_generator` is deprecated and '\n",
      "2022-03-23 23:25:26.676435: I tensorflow/compiler/mlir/mlir_graph_optimization_pass.cc:185] None of the MLIR Optimization Passes are enabled (registered 2)\n"
     ]
    },
    {
     "name": "stdout",
     "output_type": "stream",
     "text": [
      "Epoch 1/15\n"
     ]
    },
    {
     "name": "stderr",
     "output_type": "stream",
     "text": [
      "2022-03-23 23:25:30.128967: I tensorflow/stream_executor/cuda/cuda_dnn.cc:369] Loaded cuDNN version 8005\n"
     ]
    },
    {
     "name": "stdout",
     "output_type": "stream",
     "text": [
      "8/8 [==============================] - 26s 2s/step - loss: 1.6848 - accuracy: 0.4382 - val_loss: 0.6665 - val_accuracy: 0.6515\n",
      "Epoch 2/15\n",
      "8/8 [==============================] - 13s 2s/step - loss: 0.6081 - accuracy: 0.7371 - val_loss: 0.7462 - val_accuracy: 0.6970\n",
      "Epoch 3/15\n",
      "8/8 [==============================] - 13s 2s/step - loss: 0.4477 - accuracy: 0.8008 - val_loss: 0.2876 - val_accuracy: 0.8939\n",
      "Epoch 4/15\n",
      "8/8 [==============================] - 13s 2s/step - loss: 0.3456 - accuracy: 0.8606 - val_loss: 0.3445 - val_accuracy: 0.8030\n",
      "Epoch 5/15\n",
      "8/8 [==============================] - 13s 2s/step - loss: 0.2564 - accuracy: 0.9084 - val_loss: 0.2309 - val_accuracy: 0.9242\n",
      "Epoch 6/15\n",
      "8/8 [==============================] - 13s 2s/step - loss: 0.2452 - accuracy: 0.9004 - val_loss: 0.3302 - val_accuracy: 0.8182\n",
      "Epoch 7/15\n",
      "8/8 [==============================] - 13s 2s/step - loss: 0.2306 - accuracy: 0.9323 - val_loss: 0.2373 - val_accuracy: 0.8788\n",
      "Epoch 8/15\n",
      "8/8 [==============================] - 14s 2s/step - loss: 0.1990 - accuracy: 0.9323 - val_loss: 0.2226 - val_accuracy: 0.9091\n",
      "Epoch 9/15\n",
      "8/8 [==============================] - 13s 2s/step - loss: 0.1715 - accuracy: 0.9602 - val_loss: 0.1931 - val_accuracy: 0.9242\n",
      "Epoch 10/15\n",
      "8/8 [==============================] - 14s 2s/step - loss: 0.1422 - accuracy: 0.9562 - val_loss: 0.2366 - val_accuracy: 0.9091\n",
      "Epoch 11/15\n",
      "8/8 [==============================] - 13s 2s/step - loss: 0.2079 - accuracy: 0.9323 - val_loss: 0.4435 - val_accuracy: 0.8030\n",
      "Epoch 12/15\n",
      "8/8 [==============================] - 13s 2s/step - loss: 0.1541 - accuracy: 0.9402 - val_loss: 0.2351 - val_accuracy: 0.8939\n",
      "Epoch 13/15\n",
      "8/8 [==============================] - 13s 2s/step - loss: 0.1407 - accuracy: 0.9602 - val_loss: 0.1861 - val_accuracy: 0.8788\n",
      "Epoch 14/15\n",
      "8/8 [==============================] - 13s 2s/step - loss: 0.1415 - accuracy: 0.9641 - val_loss: 0.2015 - val_accuracy: 0.9091\n",
      "Epoch 15/15\n",
      "8/8 [==============================] - 14s 2s/step - loss: 0.1071 - accuracy: 0.9761 - val_loss: 0.1675 - val_accuracy: 0.9242\n"
     ]
    }
   ],
   "source": [
    "r = model.fit_generator(\n",
    "  training_set,\n",
    "  validation_data=test_set,\n",
    "  epochs=15,\n",
    "  steps_per_epoch=len(training_set),\n",
    "  validation_steps=len(test_set)\n",
    ")"
   ]
  },
  {
   "cell_type": "code",
   "execution_count": 14,
   "id": "110984ec",
   "metadata": {
    "execution": {
     "iopub.execute_input": "2022-03-23T23:28:58.171319Z",
     "iopub.status.busy": "2022-03-23T23:28:58.170187Z",
     "iopub.status.idle": "2022-03-23T23:28:58.173942Z",
     "shell.execute_reply": "2022-03-23T23:28:58.174344Z",
     "shell.execute_reply.started": "2022-03-23T23:21:08.459731Z"
    },
    "papermill": {
     "duration": 0.078793,
     "end_time": "2022-03-23T23:28:58.174483",
     "exception": false,
     "start_time": "2022-03-23T23:28:58.095690",
     "status": "completed"
    },
    "tags": []
   },
   "outputs": [
    {
     "data": {
      "text/plain": [
       "{'loss': [1.684774398803711,\n",
       "  0.6080502867698669,\n",
       "  0.44767674803733826,\n",
       "  0.3456108868122101,\n",
       "  0.25635817646980286,\n",
       "  0.24518121778964996,\n",
       "  0.23061631619930267,\n",
       "  0.19904156029224396,\n",
       "  0.17150728404521942,\n",
       "  0.14222347736358643,\n",
       "  0.20792976021766663,\n",
       "  0.15409009158611298,\n",
       "  0.14074519276618958,\n",
       "  0.14149519801139832,\n",
       "  0.10712451487779617],\n",
       " 'accuracy': [0.43824702501296997,\n",
       "  0.737051784992218,\n",
       "  0.8007968068122864,\n",
       "  0.8605577945709229,\n",
       "  0.9083665609359741,\n",
       "  0.9003984332084656,\n",
       "  0.9322709441184998,\n",
       "  0.9322709441184998,\n",
       "  0.9601593613624573,\n",
       "  0.9561753273010254,\n",
       "  0.9322709441184998,\n",
       "  0.9402390718460083,\n",
       "  0.9601593613624573,\n",
       "  0.9641434550285339,\n",
       "  0.9760956168174744],\n",
       " 'val_loss': [0.6664706468582153,\n",
       "  0.7461579442024231,\n",
       "  0.28764238953590393,\n",
       "  0.34447187185287476,\n",
       "  0.23092779517173767,\n",
       "  0.3301963210105896,\n",
       "  0.23727257549762726,\n",
       "  0.22259823977947235,\n",
       "  0.19308221340179443,\n",
       "  0.2366473376750946,\n",
       "  0.4435059726238251,\n",
       "  0.23510676622390747,\n",
       "  0.18609975278377533,\n",
       "  0.20150882005691528,\n",
       "  0.16751955449581146],\n",
       " 'val_accuracy': [0.6515151262283325,\n",
       "  0.6969696879386902,\n",
       "  0.8939393758773804,\n",
       "  0.8030303120613098,\n",
       "  0.9242424368858337,\n",
       "  0.8181818127632141,\n",
       "  0.8787878751754761,\n",
       "  0.9090909361839294,\n",
       "  0.9242424368858337,\n",
       "  0.9090909361839294,\n",
       "  0.8030303120613098,\n",
       "  0.8939393758773804,\n",
       "  0.8787878751754761,\n",
       "  0.9090909361839294,\n",
       "  0.9242424368858337]}"
      ]
     },
     "execution_count": 14,
     "metadata": {},
     "output_type": "execute_result"
    }
   ],
   "source": [
    "r.history"
   ]
  },
  {
   "cell_type": "code",
   "execution_count": 15,
   "id": "26496708",
   "metadata": {
    "execution": {
     "iopub.execute_input": "2022-03-23T23:28:58.318755Z",
     "iopub.status.busy": "2022-03-23T23:28:58.317909Z",
     "iopub.status.idle": "2022-03-23T23:28:58.523935Z",
     "shell.execute_reply": "2022-03-23T23:28:58.524437Z",
     "shell.execute_reply.started": "2022-03-23T23:22:12.687876Z"
    },
    "papermill": {
     "duration": 0.282865,
     "end_time": "2022-03-23T23:28:58.524607",
     "exception": false,
     "start_time": "2022-03-23T23:28:58.241742",
     "status": "completed"
    },
    "tags": []
   },
   "outputs": [
    {
     "data": {
      "image/png": "[encoded data removed]",
      "text/plain": [
       "<Figure size 432x288 with 1 Axes>"
      ]
     },
     "metadata": {
      "needs_background": "light"
     },
     "output_type": "display_data"
    },
    {
     "data": {
      "text/plain": [
       "<Figure size 432x288 with 0 Axes>"
      ]
     },
     "metadata": {},
     "output_type": "display_data"
    }
   ],
   "source": [
    "plt.plot(r.history['loss'], label='train loss')\n",
    "plt.plot(r.history['val_loss'], label='val loss')\n",
    "plt.legend()\n",
    "plt.show()\n",
    "plt.savefig('LossVal_loss')"
   ]
  },
  {
   "cell_type": "code",
   "execution_count": 16,
   "id": "78cb9c3e",
   "metadata": {
    "execution": {
     "iopub.execute_input": "2022-03-23T23:28:58.674378Z",
     "iopub.status.busy": "2022-03-23T23:28:58.673572Z",
     "iopub.status.idle": "2022-03-23T23:28:58.858833Z",
     "shell.execute_reply": "2022-03-23T23:28:58.859280Z",
     "shell.execute_reply.started": "2022-03-23T23:22:32.112638Z"
    },
    "papermill": {
     "duration": 0.263743,
     "end_time": "2022-03-23T23:28:58.859434",
     "exception": false,
     "start_time": "2022-03-23T23:28:58.595691",
     "status": "completed"
    },
    "tags": []
   },
   "outputs": [
    {
     "data": {
      "image/png": "[encoded data removed]",
      "text/plain": [
       "<Figure size 432x288 with 1 Axes>"
      ]
     },
     "metadata": {
      "needs_background": "light"
     },
     "output_type": "display_data"
    },
    {
     "data": {
      "text/plain": [
       "<Figure size 432x288 with 0 Axes>"
      ]
     },
     "metadata": {},
     "output_type": "display_data"
    }
   ],
   "source": [
    "plt.plot(r.history['accuracy'], label='train acc')\n",
    "plt.plot(r.history['val_accuracy'], label='val acc')\n",
    "plt.legend()\n",
    "plt.show()\n",
    "plt.savefig('AccVal_acc')"
   ]
  },
  {
   "cell_type": "code",
   "execution_count": 17,
   "id": "bb766764",
   "metadata": {
    "execution": {
     "iopub.execute_input": "2022-03-23T23:28:59.013856Z",
     "iopub.status.busy": "2022-03-23T23:28:59.012323Z",
     "iopub.status.idle": "2022-03-23T23:29:01.164416Z",
     "shell.execute_reply": "2022-03-23T23:29:01.163849Z",
     "shell.execute_reply.started": "2022-03-23T23:22:45.180539Z"
    },
    "papermill": {
     "duration": 2.229504,
     "end_time": "2022-03-23T23:29:01.164557",
     "exception": false,
     "start_time": "2022-03-23T23:28:58.935053",
     "status": "completed"
    },
    "tags": []
   },
   "outputs": [
    {
     "data": {
      "text/plain": [
       "array([[4.37261595e-04, 9.15077142e-03, 9.90411937e-01],\n",
       "       [9.73993540e-01, 2.51992270e-02, 8.07163306e-04],\n",
       "       [9.45451102e-05, 9.81309533e-01, 1.85958929e-02],\n",
       "       [9.93617058e-01, 2.41128600e-05, 6.35878416e-03],\n",
       "       [9.50696468e-01, 1.35317342e-02, 3.57718654e-02],\n",
       "       [4.04338446e-03, 9.93107140e-01, 2.84951366e-03],\n",
       "       [1.13792294e-05, 9.44468319e-01, 5.55202551e-02],\n",
       "       [9.95691478e-01, 2.05075159e-03, 2.25785188e-03],\n",
       "       [2.36554042e-04, 6.42832100e-01, 3.56931299e-01],\n",
       "       [6.39321804e-02, 1.21419288e-01, 8.14648569e-01],\n",
       "       [1.24822051e-04, 1.59450471e-01, 8.40424776e-01],\n",
       "       [9.98229444e-01, 2.26779866e-05, 1.74782169e-03],\n",
       "       [2.60226312e-04, 9.63676333e-01, 3.60634476e-02],\n",
       "       [1.04369968e-03, 5.31890810e-01, 4.67065513e-01],\n",
       "       [9.80767429e-01, 1.00508893e-04, 1.91319566e-02],\n",
       "       [5.44731192e-05, 2.31783599e-01, 7.68161952e-01],\n",
       "       [2.27020448e-03, 9.32922006e-01, 6.48078471e-02],\n",
       "       [4.95872955e-05, 8.84383857e-01, 1.15566596e-01],\n",
       "       [9.97176051e-01, 4.38959367e-04, 2.38495995e-03],\n",
       "       [9.99641895e-01, 7.30944957e-05, 2.85032846e-04],\n",
       "       [9.98147011e-01, 2.25725271e-05, 1.83038018e-03],\n",
       "       [3.78743789e-05, 9.87356305e-01, 1.26057314e-02],\n",
       "       [4.37069102e-04, 8.85123089e-02, 9.11050618e-01],\n",
       "       [9.96013641e-01, 7.57208909e-04, 3.22924042e-03],\n",
       "       [1.28844066e-03, 1.24216592e-03, 9.97469425e-01],\n",
       "       [9.96385455e-01, 1.28019380e-03, 2.33432301e-03],\n",
       "       [4.12536348e-04, 6.63642108e-01, 3.35945338e-01],\n",
       "       [3.10093383e-05, 8.81700814e-01, 1.18268229e-01],\n",
       "       [8.54381993e-02, 1.09285004e-01, 8.05276811e-01],\n",
       "       [9.99954820e-01, 1.89895093e-06, 4.32181077e-05],\n",
       "       [1.12799557e-04, 3.61245096e-01, 6.38642132e-01],\n",
       "       [9.94571626e-01, 3.77311604e-03, 1.65522774e-03],\n",
       "       [7.98605906e-05, 5.70779383e-01, 4.29140747e-01],\n",
       "       [6.19919374e-05, 6.44101948e-03, 9.93497014e-01],\n",
       "       [9.94396567e-01, 8.78863735e-04, 4.72461525e-03],\n",
       "       [1.40312541e-05, 2.14095004e-02, 9.78576481e-01],\n",
       "       [9.72587287e-01, 3.66417866e-04, 2.70463321e-02],\n",
       "       [9.62098718e-01, 4.63513797e-03, 3.32661755e-02],\n",
       "       [9.90861297e-01, 7.65948440e-04, 8.37271567e-03],\n",
       "       [4.22839148e-05, 8.41950476e-01, 1.58007264e-01],\n",
       "       [9.99103606e-01, 8.43619346e-05, 8.12065962e-04],\n",
       "       [9.08780959e-04, 5.54929376e-01, 4.44161832e-01],\n",
       "       [9.95691478e-01, 2.05075159e-03, 2.25785188e-03],\n",
       "       [9.07885134e-02, 3.09258010e-02, 8.78285706e-01],\n",
       "       [9.99446213e-01, 4.02522972e-04, 1.51359985e-04],\n",
       "       [4.01350781e-02, 9.52355683e-01, 7.50916405e-03],\n",
       "       [3.32726305e-03, 8.19841444e-01, 1.76831275e-01],\n",
       "       [5.11081133e-04, 1.14725053e-01, 8.84763837e-01],\n",
       "       [9.93773580e-01, 1.07728434e-03, 5.14900824e-03],\n",
       "       [9.51788485e-01, 3.09658907e-02, 1.72455963e-02],\n",
       "       [6.43254200e-04, 2.78189719e-01, 7.21167028e-01],\n",
       "       [9.92239475e-01, 3.65898741e-04, 7.39469659e-03],\n",
       "       [1.71578402e-04, 1.18482940e-01, 8.81345451e-01],\n",
       "       [4.38697785e-02, 2.51842272e-02, 9.30945992e-01],\n",
       "       [5.47552081e-05, 9.94335234e-01, 5.61001152e-03],\n",
       "       [1.00580372e-04, 5.45388818e-01, 4.54510599e-01],\n",
       "       [3.77894402e-03, 4.25017104e-02, 9.53719318e-01],\n",
       "       [9.96779740e-01, 1.78672162e-05, 3.20249633e-03],\n",
       "       [9.99577105e-01, 1.10215929e-04, 3.12613556e-04],\n",
       "       [3.93884739e-06, 6.74138308e-01, 3.25857729e-01],\n",
       "       [7.55221909e-03, 6.31548882e-01, 3.60898912e-01],\n",
       "       [2.52421061e-03, 1.50938347e-01, 8.46537471e-01],\n",
       "       [9.94912505e-01, 1.05905958e-04, 4.98153176e-03],\n",
       "       [9.87413077e-05, 4.48371977e-01, 5.51529288e-01],\n",
       "       [1.80870557e-05, 9.81507719e-01, 1.84740871e-02],\n",
       "       [1.88166159e-05, 2.25493498e-02, 9.77431774e-01]], dtype=float32)"
      ]
     },
     "execution_count": 17,
     "metadata": {},
     "output_type": "execute_result"
    }
   ],
   "source": [
    "y_pred=model.predict(test_set)\n",
    "y_pred"
   ]
  },
  {
   "cell_type": "code",
   "execution_count": null,
   "id": "7f2d6463",
   "metadata": {
    "papermill": {
     "duration": 0.070085,
     "end_time": "2022-03-23T23:29:01.305327",
     "exception": false,
     "start_time": "2022-03-23T23:29:01.235242",
     "status": "completed"
    },
    "tags": []
   },
   "outputs": [],
   "source": []
  }
 ],
 "metadata": {
  "kernelspec": {
   "display_name": "Python 3",
   "language": "python",
   "name": "python3"
  },
  "language_info": {
   "codemirror_mode": {
    "name": "ipython",
    "version": 3
   },
   "file_extension": ".py",
   "mimetype": "text/x-python",
   "name": "python",
   "nbconvert_exporter": "python",
   "pygments_lexer": "ipython3",
   "version": "3.7.12"
  },
  "papermill": {
   "default_parameters": {},
   "duration": 237.401258,
   "end_time": "2022-03-23T23:29:04.760057",
   "environment_variables": {},
   "exception": null,
   "input_path": "__notebook__.ipynb",
   "output_path": "__notebook__.ipynb",
   "parameters": {},
   "start_time": "2022-03-23T23:25:07.358799",
   "version": "2.3.3"
  }
 },
 "nbformat": 4,
 "nbformat_minor": 5
}
