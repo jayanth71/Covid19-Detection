{
 "cells": [
  {
   "cell_type": "code",
   "execution_count": 1,
   "id": "a0973fb2",
   "metadata": {
    "_cell_guid": "b1076dfc-b9ad-4769-8c92-a6c4dae69d19",
    "_uuid": "8f2839f25d086af736a60e9eeb907d3b93b6e0e5",
    "execution": {
     "iopub.execute_input": "2022-03-23T22:38:38.356560Z",
     "iopub.status.busy": "2022-03-23T22:38:38.354973Z",
     "iopub.status.idle": "2022-03-23T22:38:38.478326Z",
     "shell.execute_reply": "2022-03-23T22:38:38.477612Z",
     "shell.execute_reply.started": "2022-03-23T22:33:18.979399Z"
    },
    "papermill": {
     "duration": 0.144605,
     "end_time": "2022-03-23T22:38:38.478515",
     "exception": false,
     "start_time": "2022-03-23T22:38:38.333910",
     "status": "completed"
    },
    "tags": []
   },
   "outputs": [
    {
     "name": "stdout",
     "output_type": "stream",
     "text": [
      "/kaggle/input/covid19-image-dataset/Covid19-dataset/test/Normal/0117.jpeg\n",
      "/kaggle/input/covid19-image-dataset/Covid19-dataset/test/Normal/0101.jpeg\n",
      "/kaggle/input/covid19-image-dataset/Covid19-dataset/test/Normal/0108.jpeg\n",
      "/kaggle/input/covid19-image-dataset/Covid19-dataset/test/Normal/0110.jpeg\n",
      "/kaggle/input/covid19-image-dataset/Covid19-dataset/test/Normal/0119.jpeg\n",
      "/kaggle/input/covid19-image-dataset/Covid19-dataset/test/Normal/0115.jpeg\n",
      "/kaggle/input/covid19-image-dataset/Covid19-dataset/test/Normal/0116.jpeg\n",
      "/kaggle/input/covid19-image-dataset/Covid19-dataset/test/Normal/0105.jpeg\n",
      "/kaggle/input/covid19-image-dataset/Covid19-dataset/test/Normal/0106.jpeg\n",
      "/kaggle/input/covid19-image-dataset/Covid19-dataset/test/Normal/0121.jpeg\n",
      "/kaggle/input/covid19-image-dataset/Covid19-dataset/test/Normal/0111.jpeg\n",
      "/kaggle/input/covid19-image-dataset/Covid19-dataset/test/Normal/0103.jpeg\n",
      "/kaggle/input/covid19-image-dataset/Covid19-dataset/test/Normal/0120.jpeg\n",
      "/kaggle/input/covid19-image-dataset/Covid19-dataset/test/Normal/0122.jpeg\n",
      "/kaggle/input/covid19-image-dataset/Covid19-dataset/test/Normal/0109.jpeg\n",
      "/kaggle/input/covid19-image-dataset/Covid19-dataset/test/Normal/0112.jpeg\n",
      "/kaggle/input/covid19-image-dataset/Covid19-dataset/test/Normal/0114.jpeg\n",
      "/kaggle/input/covid19-image-dataset/Covid19-dataset/test/Normal/0107.jpeg\n",
      "/kaggle/input/covid19-image-dataset/Covid19-dataset/test/Normal/0118.jpeg\n",
      "/kaggle/input/covid19-image-dataset/Covid19-dataset/test/Normal/0102.jpeg\n",
      "/kaggle/input/covid19-image-dataset/Covid19-dataset/test/Viral Pneumonia/0117.jpeg\n",
      "/kaggle/input/covid19-image-dataset/Covid19-dataset/test/Viral Pneumonia/0101.jpeg\n",
      "/kaggle/input/covid19-image-dataset/Covid19-dataset/test/Viral Pneumonia/0104.jpeg\n",
      "/kaggle/input/covid19-image-dataset/Covid19-dataset/test/Viral Pneumonia/0108.jpeg\n",
      "/kaggle/input/covid19-image-dataset/Covid19-dataset/test/Viral Pneumonia/0110.jpeg\n",
      "/kaggle/input/covid19-image-dataset/Covid19-dataset/test/Viral Pneumonia/0119.jpeg\n",
      "/kaggle/input/covid19-image-dataset/Covid19-dataset/test/Viral Pneumonia/0115.jpeg\n",
      "/kaggle/input/covid19-image-dataset/Covid19-dataset/test/Viral Pneumonia/0116.jpeg\n",
      "/kaggle/input/covid19-image-dataset/Covid19-dataset/test/Viral Pneumonia/0105.jpeg\n",
      "/kaggle/input/covid19-image-dataset/Covid19-dataset/test/Viral Pneumonia/0106.jpeg\n",
      "/kaggle/input/covid19-image-dataset/Covid19-dataset/test/Viral Pneumonia/0111.jpeg\n",
      "/kaggle/input/covid19-image-dataset/Covid19-dataset/test/Viral Pneumonia/0103.jpeg\n",
      "/kaggle/input/covid19-image-dataset/Covid19-dataset/test/Viral Pneumonia/0120.jpeg\n",
      "/kaggle/input/covid19-image-dataset/Covid19-dataset/test/Viral Pneumonia/0109.jpeg\n",
      "/kaggle/input/covid19-image-dataset/Covid19-dataset/test/Viral Pneumonia/0112.jpeg\n",
      "/kaggle/input/covid19-image-dataset/Covid19-dataset/test/Viral Pneumonia/0113.jpeg\n",
      "/kaggle/input/covid19-image-dataset/Covid19-dataset/test/Viral Pneumonia/0114.jpeg\n",
      "/kaggle/input/covid19-image-dataset/Covid19-dataset/test/Viral Pneumonia/0107.jpeg\n",
      "/kaggle/input/covid19-image-dataset/Covid19-dataset/test/Viral Pneumonia/0118.jpeg\n",
      "/kaggle/input/covid19-image-dataset/Covid19-dataset/test/Viral Pneumonia/0102.jpeg\n",
      "/kaggle/input/covid19-image-dataset/Covid19-dataset/test/Covid/0108.jpeg\n",
      "/kaggle/input/covid19-image-dataset/Covid19-dataset/test/Covid/0119.jpeg\n",
      "/kaggle/input/covid19-image-dataset/Covid19-dataset/test/Covid/0115.jpeg\n",
      "/kaggle/input/covid19-image-dataset/Covid19-dataset/test/Covid/auntminnie-2020_01_31_20_24_2322_2020_01_31_x-ray_coronavirus_US.jpg\n",
      "/kaggle/input/covid19-image-dataset/Covid19-dataset/test/Covid/COVID-00037.jpg\n",
      "/kaggle/input/covid19-image-dataset/Covid19-dataset/test/Covid/0106.jpeg\n",
      "/kaggle/input/covid19-image-dataset/Covid19-dataset/test/Covid/0111.jpg\n",
      "/kaggle/input/covid19-image-dataset/Covid19-dataset/test/Covid/COVID-00022.jpg\n",
      "/kaggle/input/covid19-image-dataset/Covid19-dataset/test/Covid/auntminnie-a-2020_01_28_23_51_6665_2020_01_28_Vietnam_coronavirus.jpeg\n",
      "/kaggle/input/covid19-image-dataset/Covid19-dataset/test/Covid/0120.jpg\n",
      "/kaggle/input/covid19-image-dataset/Covid19-dataset/test/Covid/094.png\n",
      "/kaggle/input/covid19-image-dataset/Covid19-dataset/test/Covid/COVID-00003b.jpg\n",
      "/kaggle/input/covid19-image-dataset/Covid19-dataset/test/Covid/0105.png\n",
      "/kaggle/input/covid19-image-dataset/Covid19-dataset/test/Covid/radiopaedia-2019-novel-coronavirus-infected-pneumonia.jpg\n",
      "/kaggle/input/covid19-image-dataset/Covid19-dataset/test/Covid/auntminnie-c-2020_01_28_23_51_6665_2020_01_28_Vietnam_coronavirus.jpeg\n",
      "/kaggle/input/covid19-image-dataset/Covid19-dataset/test/Covid/0112.jpg\n",
      "/kaggle/input/covid19-image-dataset/Covid19-dataset/test/Covid/COVID-00012.jpg\n",
      "/kaggle/input/covid19-image-dataset/Covid19-dataset/test/Covid/COVID-00033.jpg\n",
      "/kaggle/input/covid19-image-dataset/Covid19-dataset/test/Covid/0113.jpg\n",
      "/kaggle/input/covid19-image-dataset/Covid19-dataset/test/Covid/0100.jpeg\n",
      "/kaggle/input/covid19-image-dataset/Covid19-dataset/test/Covid/auntminnie-b-2020_01_28_23_51_6665_2020_01_28_Vietnam_coronavirus.jpeg\n",
      "/kaggle/input/covid19-image-dataset/Covid19-dataset/test/Covid/098.jpeg\n",
      "/kaggle/input/covid19-image-dataset/Covid19-dataset/test/Covid/096.png\n",
      "/kaggle/input/covid19-image-dataset/Covid19-dataset/test/Covid/auntminnie-d-2020_01_28_23_51_6665_2020_01_28_Vietnam_coronavirus.jpeg\n",
      "/kaggle/input/covid19-image-dataset/Covid19-dataset/test/Covid/0118.jpeg\n",
      "/kaggle/input/covid19-image-dataset/Covid19-dataset/test/Covid/0102.jpeg\n",
      "/kaggle/input/covid19-image-dataset/Covid19-dataset/train/Normal/071.jpeg\n",
      "/kaggle/input/covid19-image-dataset/Covid19-dataset/train/Normal/014.jpeg\n",
      "/kaggle/input/covid19-image-dataset/Covid19-dataset/train/Normal/073.jpeg\n",
      "/kaggle/input/covid19-image-dataset/Covid19-dataset/train/Normal/05.jpeg\n",
      "/kaggle/input/covid19-image-dataset/Covid19-dataset/train/Normal/023.jpeg\n",
      "/kaggle/input/covid19-image-dataset/Covid19-dataset/train/Normal/01.jpeg\n",
      "/kaggle/input/covid19-image-dataset/Covid19-dataset/train/Normal/096.jpeg\n",
      "/kaggle/input/covid19-image-dataset/Covid19-dataset/train/Normal/060.jpeg\n",
      "/kaggle/input/covid19-image-dataset/Covid19-dataset/train/Normal/063.jpeg\n",
      "/kaggle/input/covid19-image-dataset/Covid19-dataset/train/Normal/059.jpeg\n",
      "/kaggle/input/covid19-image-dataset/Covid19-dataset/train/Normal/087.jpeg\n",
      "/kaggle/input/covid19-image-dataset/Covid19-dataset/train/Normal/064.jpeg\n",
      "/kaggle/input/covid19-image-dataset/Covid19-dataset/train/Normal/011.jpeg\n",
      "/kaggle/input/covid19-image-dataset/Covid19-dataset/train/Normal/068.jpeg\n",
      "/kaggle/input/covid19-image-dataset/Covid19-dataset/train/Normal/058.jpeg\n",
      "/kaggle/input/covid19-image-dataset/Covid19-dataset/train/Normal/020.jpeg\n",
      "/kaggle/input/covid19-image-dataset/Covid19-dataset/train/Normal/050.jpeg\n",
      "/kaggle/input/covid19-image-dataset/Covid19-dataset/train/Normal/03.jpeg\n",
      "/kaggle/input/covid19-image-dataset/Covid19-dataset/train/Normal/02.jpeg\n",
      "/kaggle/input/covid19-image-dataset/Covid19-dataset/train/Normal/093.jpeg\n",
      "/kaggle/input/covid19-image-dataset/Covid19-dataset/train/Normal/016.jpeg\n",
      "/kaggle/input/covid19-image-dataset/Covid19-dataset/train/Normal/010.jpeg\n",
      "/kaggle/input/covid19-image-dataset/Covid19-dataset/train/Normal/018.jpeg\n",
      "/kaggle/input/covid19-image-dataset/Covid19-dataset/train/Normal/067.jpeg\n",
      "/kaggle/input/covid19-image-dataset/Covid19-dataset/train/Normal/088.jpeg\n",
      "/kaggle/input/covid19-image-dataset/Covid19-dataset/train/Normal/054.jpeg\n",
      "/kaggle/input/covid19-image-dataset/Covid19-dataset/train/Normal/052.jpeg\n",
      "/kaggle/input/covid19-image-dataset/Covid19-dataset/train/Normal/084.jpeg\n",
      "/kaggle/input/covid19-image-dataset/Covid19-dataset/train/Normal/04.jpeg\n",
      "/kaggle/input/covid19-image-dataset/Covid19-dataset/train/Normal/066.jpeg\n",
      "/kaggle/input/covid19-image-dataset/Covid19-dataset/train/Normal/079.jpeg\n",
      "/kaggle/input/covid19-image-dataset/Covid19-dataset/train/Normal/077.jpeg\n",
      "/kaggle/input/covid19-image-dataset/Covid19-dataset/train/Normal/082.jpeg\n",
      "/kaggle/input/covid19-image-dataset/Covid19-dataset/train/Normal/056.jpeg\n",
      "/kaggle/input/covid19-image-dataset/Covid19-dataset/train/Normal/094.jpeg\n",
      "/kaggle/input/covid19-image-dataset/Covid19-dataset/train/Normal/080.jpeg\n",
      "/kaggle/input/covid19-image-dataset/Covid19-dataset/train/Normal/057.jpeg\n",
      "/kaggle/input/covid19-image-dataset/Covid19-dataset/train/Normal/019.jpeg\n",
      "/kaggle/input/covid19-image-dataset/Covid19-dataset/train/Normal/021.jpeg\n",
      "/kaggle/input/covid19-image-dataset/Covid19-dataset/train/Normal/074.jpeg\n",
      "/kaggle/input/covid19-image-dataset/Covid19-dataset/train/Normal/061.jpeg\n",
      "/kaggle/input/covid19-image-dataset/Covid19-dataset/train/Normal/08.jpeg\n",
      "/kaggle/input/covid19-image-dataset/Covid19-dataset/train/Normal/069.jpeg\n",
      "/kaggle/input/covid19-image-dataset/Covid19-dataset/train/Normal/062.jpeg\n",
      "/kaggle/input/covid19-image-dataset/Covid19-dataset/train/Normal/06.jpeg\n",
      "/kaggle/input/covid19-image-dataset/Covid19-dataset/train/Normal/013.jpeg\n",
      "/kaggle/input/covid19-image-dataset/Covid19-dataset/train/Normal/051.jpeg\n",
      "/kaggle/input/covid19-image-dataset/Covid19-dataset/train/Normal/097.jpeg\n",
      "/kaggle/input/covid19-image-dataset/Covid19-dataset/train/Normal/024.jpeg\n",
      "/kaggle/input/covid19-image-dataset/Covid19-dataset/train/Normal/015.jpeg\n",
      "/kaggle/input/covid19-image-dataset/Covid19-dataset/train/Normal/012.jpeg\n",
      "/kaggle/input/covid19-image-dataset/Covid19-dataset/train/Normal/081.jpeg\n",
      "/kaggle/input/covid19-image-dataset/Covid19-dataset/train/Normal/095.jpeg\n",
      "/kaggle/input/covid19-image-dataset/Covid19-dataset/train/Normal/072.jpeg\n",
      "/kaggle/input/covid19-image-dataset/Covid19-dataset/train/Normal/092.jpeg\n",
      "/kaggle/input/covid19-image-dataset/Covid19-dataset/train/Normal/055.jpeg\n",
      "/kaggle/input/covid19-image-dataset/Covid19-dataset/train/Normal/086.jpeg\n",
      "/kaggle/input/covid19-image-dataset/Covid19-dataset/train/Normal/053.jpeg\n",
      "/kaggle/input/covid19-image-dataset/Covid19-dataset/train/Normal/025.jpeg\n",
      "/kaggle/input/covid19-image-dataset/Covid19-dataset/train/Normal/022.jpeg\n",
      "/kaggle/input/covid19-image-dataset/Covid19-dataset/train/Normal/017.jpeg\n",
      "/kaggle/input/covid19-image-dataset/Covid19-dataset/train/Normal/065.jpeg\n",
      "/kaggle/input/covid19-image-dataset/Covid19-dataset/train/Normal/091.jpeg\n",
      "/kaggle/input/covid19-image-dataset/Covid19-dataset/train/Normal/076.jpeg\n",
      "/kaggle/input/covid19-image-dataset/Covid19-dataset/train/Normal/07.jpeg\n",
      "/kaggle/input/covid19-image-dataset/Covid19-dataset/train/Normal/083.jpeg\n",
      "/kaggle/input/covid19-image-dataset/Covid19-dataset/train/Normal/075.jpeg\n",
      "/kaggle/input/covid19-image-dataset/Covid19-dataset/train/Normal/070.jpeg\n",
      "/kaggle/input/covid19-image-dataset/Covid19-dataset/train/Normal/09.jpeg\n",
      "/kaggle/input/covid19-image-dataset/Covid19-dataset/train/Normal/085.jpeg\n",
      "/kaggle/input/covid19-image-dataset/Covid19-dataset/train/Viral Pneumonia/071.jpeg\n",
      "/kaggle/input/covid19-image-dataset/Covid19-dataset/train/Viral Pneumonia/035.jpeg\n",
      "/kaggle/input/covid19-image-dataset/Covid19-dataset/train/Viral Pneumonia/032.jpeg\n",
      "/kaggle/input/covid19-image-dataset/Covid19-dataset/train/Viral Pneumonia/073.jpeg\n",
      "/kaggle/input/covid19-image-dataset/Covid19-dataset/train/Viral Pneumonia/037.jpeg\n",
      "/kaggle/input/covid19-image-dataset/Covid19-dataset/train/Viral Pneumonia/05.jpeg\n",
      "/kaggle/input/covid19-image-dataset/Covid19-dataset/train/Viral Pneumonia/023.jpeg\n",
      "/kaggle/input/covid19-image-dataset/Covid19-dataset/train/Viral Pneumonia/01.jpeg\n",
      "/kaggle/input/covid19-image-dataset/Covid19-dataset/train/Viral Pneumonia/096.jpeg\n",
      "/kaggle/input/covid19-image-dataset/Covid19-dataset/train/Viral Pneumonia/063.jpeg\n",
      "/kaggle/input/covid19-image-dataset/Covid19-dataset/train/Viral Pneumonia/044.jpeg\n",
      "/kaggle/input/covid19-image-dataset/Covid19-dataset/train/Viral Pneumonia/064.jpeg\n",
      "/kaggle/input/covid19-image-dataset/Covid19-dataset/train/Viral Pneumonia/036.jpeg\n",
      "/kaggle/input/covid19-image-dataset/Covid19-dataset/train/Viral Pneumonia/011.jpeg\n",
      "/kaggle/input/covid19-image-dataset/Covid19-dataset/train/Viral Pneumonia/068.jpeg\n",
      "/kaggle/input/covid19-image-dataset/Covid19-dataset/train/Viral Pneumonia/058.jpeg\n",
      "/kaggle/input/covid19-image-dataset/Covid19-dataset/train/Viral Pneumonia/020.jpeg\n",
      "/kaggle/input/covid19-image-dataset/Covid19-dataset/train/Viral Pneumonia/03.jpeg\n",
      "/kaggle/input/covid19-image-dataset/Covid19-dataset/train/Viral Pneumonia/02.jpeg\n",
      "/kaggle/input/covid19-image-dataset/Covid19-dataset/train/Viral Pneumonia/016.jpeg\n",
      "/kaggle/input/covid19-image-dataset/Covid19-dataset/train/Viral Pneumonia/010.jpeg\n",
      "/kaggle/input/covid19-image-dataset/Covid19-dataset/train/Viral Pneumonia/018.jpeg\n",
      "/kaggle/input/covid19-image-dataset/Covid19-dataset/train/Viral Pneumonia/067.jpeg\n",
      "/kaggle/input/covid19-image-dataset/Covid19-dataset/train/Viral Pneumonia/054.jpeg\n",
      "/kaggle/input/covid19-image-dataset/Covid19-dataset/train/Viral Pneumonia/052.jpeg\n",
      "/kaggle/input/covid19-image-dataset/Covid19-dataset/train/Viral Pneumonia/084.jpeg\n",
      "/kaggle/input/covid19-image-dataset/Covid19-dataset/train/Viral Pneumonia/04.jpeg\n",
      "/kaggle/input/covid19-image-dataset/Covid19-dataset/train/Viral Pneumonia/066.jpeg\n",
      "/kaggle/input/covid19-image-dataset/Covid19-dataset/train/Viral Pneumonia/042.jpeg\n",
      "/kaggle/input/covid19-image-dataset/Covid19-dataset/train/Viral Pneumonia/077.jpeg\n",
      "/kaggle/input/covid19-image-dataset/Covid19-dataset/train/Viral Pneumonia/041.jpeg\n",
      "/kaggle/input/covid19-image-dataset/Covid19-dataset/train/Viral Pneumonia/082.jpeg\n",
      "/kaggle/input/covid19-image-dataset/Covid19-dataset/train/Viral Pneumonia/056.jpeg\n",
      "/kaggle/input/covid19-image-dataset/Covid19-dataset/train/Viral Pneumonia/094.jpeg\n",
      "/kaggle/input/covid19-image-dataset/Covid19-dataset/train/Viral Pneumonia/038.jpeg\n",
      "/kaggle/input/covid19-image-dataset/Covid19-dataset/train/Viral Pneumonia/057.jpeg\n",
      "/kaggle/input/covid19-image-dataset/Covid19-dataset/train/Viral Pneumonia/019.jpeg\n",
      "/kaggle/input/covid19-image-dataset/Covid19-dataset/train/Viral Pneumonia/021.jpeg\n",
      "/kaggle/input/covid19-image-dataset/Covid19-dataset/train/Viral Pneumonia/027.jpeg\n",
      "/kaggle/input/covid19-image-dataset/Covid19-dataset/train/Viral Pneumonia/046.jpeg\n",
      "/kaggle/input/covid19-image-dataset/Covid19-dataset/train/Viral Pneumonia/074.jpeg\n",
      "/kaggle/input/covid19-image-dataset/Covid19-dataset/train/Viral Pneumonia/061.jpeg\n",
      "/kaggle/input/covid19-image-dataset/Covid19-dataset/train/Viral Pneumonia/08.jpeg\n",
      "/kaggle/input/covid19-image-dataset/Covid19-dataset/train/Viral Pneumonia/062.jpeg\n",
      "/kaggle/input/covid19-image-dataset/Covid19-dataset/train/Viral Pneumonia/045.jpeg\n",
      "/kaggle/input/covid19-image-dataset/Covid19-dataset/train/Viral Pneumonia/033.jpeg\n",
      "/kaggle/input/covid19-image-dataset/Covid19-dataset/train/Viral Pneumonia/06.jpeg\n",
      "/kaggle/input/covid19-image-dataset/Covid19-dataset/train/Viral Pneumonia/013.jpeg\n",
      "/kaggle/input/covid19-image-dataset/Covid19-dataset/train/Viral Pneumonia/051.jpeg\n",
      "/kaggle/input/covid19-image-dataset/Covid19-dataset/train/Viral Pneumonia/078.jpeg\n",
      "/kaggle/input/covid19-image-dataset/Covid19-dataset/train/Viral Pneumonia/024.jpeg\n",
      "/kaggle/input/covid19-image-dataset/Covid19-dataset/train/Viral Pneumonia/034.jpeg\n",
      "/kaggle/input/covid19-image-dataset/Covid19-dataset/train/Viral Pneumonia/012.jpeg\n",
      "/kaggle/input/covid19-image-dataset/Covid19-dataset/train/Viral Pneumonia/081.jpeg\n",
      "/kaggle/input/covid19-image-dataset/Covid19-dataset/train/Viral Pneumonia/095.jpeg\n",
      "/kaggle/input/covid19-image-dataset/Covid19-dataset/train/Viral Pneumonia/072.jpeg\n",
      "/kaggle/input/covid19-image-dataset/Covid19-dataset/train/Viral Pneumonia/055.jpeg\n",
      "/kaggle/input/covid19-image-dataset/Covid19-dataset/train/Viral Pneumonia/043.jpeg\n",
      "/kaggle/input/covid19-image-dataset/Covid19-dataset/train/Viral Pneumonia/053.jpeg\n",
      "/kaggle/input/covid19-image-dataset/Covid19-dataset/train/Viral Pneumonia/025.jpeg\n",
      "/kaggle/input/covid19-image-dataset/Covid19-dataset/train/Viral Pneumonia/022.jpeg\n",
      "/kaggle/input/covid19-image-dataset/Covid19-dataset/train/Viral Pneumonia/065.jpeg\n",
      "/kaggle/input/covid19-image-dataset/Covid19-dataset/train/Viral Pneumonia/076.jpeg\n",
      "/kaggle/input/covid19-image-dataset/Covid19-dataset/train/Viral Pneumonia/047.jpeg\n",
      "/kaggle/input/covid19-image-dataset/Covid19-dataset/train/Viral Pneumonia/07.jpeg\n",
      "/kaggle/input/covid19-image-dataset/Covid19-dataset/train/Viral Pneumonia/083.jpeg\n",
      "/kaggle/input/covid19-image-dataset/Covid19-dataset/train/Viral Pneumonia/048.jpeg\n",
      "/kaggle/input/covid19-image-dataset/Covid19-dataset/train/Viral Pneumonia/075.jpeg\n",
      "/kaggle/input/covid19-image-dataset/Covid19-dataset/train/Viral Pneumonia/031.jpeg\n",
      "/kaggle/input/covid19-image-dataset/Covid19-dataset/train/Viral Pneumonia/09.jpeg\n",
      "/kaggle/input/covid19-image-dataset/Covid19-dataset/train/Covid/032.jpeg\n",
      "/kaggle/input/covid19-image-dataset/Covid19-dataset/train/Covid/01.jpeg\n",
      "/kaggle/input/covid19-image-dataset/Covid19-dataset/train/Covid/COVID-00014.jpg\n",
      "/kaggle/input/covid19-image-dataset/Covid19-dataset/train/Covid/080.jpg\n",
      "/kaggle/input/covid19-image-dataset/Covid19-dataset/train/Covid/060.jpeg\n",
      "/kaggle/input/covid19-image-dataset/Covid19-dataset/train/Covid/092.png\n",
      "/kaggle/input/covid19-image-dataset/Covid19-dataset/train/Covid/COVID-00005.jpg\n",
      "/kaggle/input/covid19-image-dataset/Covid19-dataset/train/Covid/COVID-00031.jpg\n",
      "/kaggle/input/covid19-image-dataset/Covid19-dataset/train/Covid/059.jpeg\n",
      "/kaggle/input/covid19-image-dataset/Covid19-dataset/train/Covid/067.jpg\n",
      "/kaggle/input/covid19-image-dataset/Covid19-dataset/train/Covid/044.jpeg\n",
      "/kaggle/input/covid19-image-dataset/Covid19-dataset/train/Covid/COVID-00037.jpg\n",
      "/kaggle/input/covid19-image-dataset/Covid19-dataset/train/Covid/069.jpg\n",
      "/kaggle/input/covid19-image-dataset/Covid19-dataset/train/Covid/089.jpg\n",
      "/kaggle/input/covid19-image-dataset/Covid19-dataset/train/Covid/076.jpg\n",
      "/kaggle/input/covid19-image-dataset/Covid19-dataset/train/Covid/COVID-00032.jpg\n",
      "/kaggle/input/covid19-image-dataset/Covid19-dataset/train/Covid/COVID-00027.jpg\n",
      "/kaggle/input/covid19-image-dataset/Covid19-dataset/train/Covid/058.jpeg\n",
      "/kaggle/input/covid19-image-dataset/Covid19-dataset/train/Covid/050.jpeg\n",
      "/kaggle/input/covid19-image-dataset/Covid19-dataset/train/Covid/03.jpeg\n",
      "/kaggle/input/covid19-image-dataset/Covid19-dataset/train/Covid/02.jpeg\n",
      "/kaggle/input/covid19-image-dataset/Covid19-dataset/train/Covid/COVID-00003a.jpg\n",
      "/kaggle/input/covid19-image-dataset/Covid19-dataset/train/Covid/056.jpg\n",
      "/kaggle/input/covid19-image-dataset/Covid19-dataset/train/Covid/033.png\n",
      "/kaggle/input/covid19-image-dataset/Covid19-dataset/train/Covid/COVID-00016.jpg\n",
      "/kaggle/input/covid19-image-dataset/Covid19-dataset/train/Covid/COVID-00017.jpg\n",
      "/kaggle/input/covid19-image-dataset/Covid19-dataset/train/Covid/COVID-00022.jpg\n",
      "/kaggle/input/covid19-image-dataset/Covid19-dataset/train/Covid/09.png\n",
      "/kaggle/input/covid19-image-dataset/Covid19-dataset/train/Covid/088.jpeg\n",
      "/kaggle/input/covid19-image-dataset/Covid19-dataset/train/Covid/068.jpg\n",
      "/kaggle/input/covid19-image-dataset/Covid19-dataset/train/Covid/COVID-00034.jpg\n",
      "/kaggle/input/covid19-image-dataset/Covid19-dataset/train/Covid/064.jpg\n",
      "/kaggle/input/covid19-image-dataset/Covid19-dataset/train/Covid/COVID-00029.jpg\n",
      "/kaggle/input/covid19-image-dataset/Covid19-dataset/train/Covid/015.jpg\n",
      "/kaggle/input/covid19-image-dataset/Covid19-dataset/train/Covid/COVID-00030.jpg\n",
      "/kaggle/input/covid19-image-dataset/Covid19-dataset/train/Covid/054.jpeg\n",
      "/kaggle/input/covid19-image-dataset/Covid19-dataset/train/Covid/086.jpg\n",
      "/kaggle/input/covid19-image-dataset/Covid19-dataset/train/Covid/052.jpeg\n",
      "/kaggle/input/covid19-image-dataset/Covid19-dataset/train/Covid/COVID-00007.jpg\n",
      "/kaggle/input/covid19-image-dataset/Covid19-dataset/train/Covid/COVID-00025.jpg\n",
      "/kaggle/input/covid19-image-dataset/Covid19-dataset/train/Covid/084.jpeg\n",
      "/kaggle/input/covid19-image-dataset/Covid19-dataset/train/Covid/079.jpeg\n",
      "/kaggle/input/covid19-image-dataset/Covid19-dataset/train/Covid/042.jpeg\n",
      "/kaggle/input/covid19-image-dataset/Covid19-dataset/train/Covid/COVID-00038.jpg\n",
      "/kaggle/input/covid19-image-dataset/Covid19-dataset/train/Covid/COVID-00003b.jpg\n",
      "/kaggle/input/covid19-image-dataset/Covid19-dataset/train/Covid/041.jpeg\n",
      "/kaggle/input/covid19-image-dataset/Covid19-dataset/train/Covid/COVID-00026.jpg\n",
      "/kaggle/input/covid19-image-dataset/Covid19-dataset/train/Covid/057.jpeg\n",
      "/kaggle/input/covid19-image-dataset/Covid19-dataset/train/Covid/021.jpeg\n",
      "/kaggle/input/covid19-image-dataset/Covid19-dataset/train/Covid/COVID-00001.jpg\n",
      "/kaggle/input/covid19-image-dataset/Covid19-dataset/train/Covid/027.jpeg\n",
      "/kaggle/input/covid19-image-dataset/Covid19-dataset/train/Covid/046.jpeg\n",
      "/kaggle/input/covid19-image-dataset/Covid19-dataset/train/Covid/COVID-00028.jpg\n",
      "/kaggle/input/covid19-image-dataset/Covid19-dataset/train/Covid/039.jpeg\n",
      "/kaggle/input/covid19-image-dataset/Covid19-dataset/train/Covid/071.jpg\n",
      "/kaggle/input/covid19-image-dataset/Covid19-dataset/train/Covid/08.jpeg\n",
      "/kaggle/input/covid19-image-dataset/Covid19-dataset/train/Covid/COVID-00009.jpg\n",
      "/kaggle/input/covid19-image-dataset/Covid19-dataset/train/Covid/062.jpeg\n",
      "/kaggle/input/covid19-image-dataset/Covid19-dataset/train/Covid/COVID-00024.jpg\n",
      "/kaggle/input/covid19-image-dataset/Covid19-dataset/train/Covid/045.jpeg\n",
      "/kaggle/input/covid19-image-dataset/Covid19-dataset/train/Covid/COVID-00018.jpg\n",
      "/kaggle/input/covid19-image-dataset/Covid19-dataset/train/Covid/019.png\n",
      "/kaggle/input/covid19-image-dataset/Covid19-dataset/train/Covid/COVID-00015a.png\n",
      "/kaggle/input/covid19-image-dataset/Covid19-dataset/train/Covid/COVID-00020.jpg\n",
      "/kaggle/input/covid19-image-dataset/Covid19-dataset/train/Covid/06.jpeg\n",
      "/kaggle/input/covid19-image-dataset/Covid19-dataset/train/Covid/061.jpg\n",
      "/kaggle/input/covid19-image-dataset/Covid19-dataset/train/Covid/051.jpeg\n",
      "/kaggle/input/covid19-image-dataset/Covid19-dataset/train/Covid/073.jpg\n",
      "/kaggle/input/covid19-image-dataset/Covid19-dataset/train/Covid/078.jpeg\n",
      "/kaggle/input/covid19-image-dataset/Covid19-dataset/train/Covid/024.jpeg\n",
      "/kaggle/input/covid19-image-dataset/Covid19-dataset/train/Covid/020.jpg\n",
      "/kaggle/input/covid19-image-dataset/Covid19-dataset/train/Covid/040.jpeg\n",
      "/kaggle/input/covid19-image-dataset/Covid19-dataset/train/Covid/COVID-00021.jpg\n",
      "/kaggle/input/covid19-image-dataset/Covid19-dataset/train/Covid/012.jpeg\n",
      "/kaggle/input/covid19-image-dataset/Covid19-dataset/train/Covid/COVID-00019.jpg\n",
      "/kaggle/input/covid19-image-dataset/Covid19-dataset/train/Covid/COVID-00012.jpg\n",
      "/kaggle/input/covid19-image-dataset/Covid19-dataset/train/Covid/081.jpeg\n",
      "/kaggle/input/covid19-image-dataset/Covid19-dataset/train/Covid/COVID-00033.jpg\n",
      "/kaggle/input/covid19-image-dataset/Covid19-dataset/train/Covid/072.jpeg\n",
      "/kaggle/input/covid19-image-dataset/Covid19-dataset/train/Covid/COVID-00011.jpg\n",
      "/kaggle/input/covid19-image-dataset/Covid19-dataset/train/Covid/074.jpg\n",
      "/kaggle/input/covid19-image-dataset/Covid19-dataset/train/Covid/055.jpeg\n",
      "/kaggle/input/covid19-image-dataset/Covid19-dataset/train/Covid/026.jpeg\n",
      "/kaggle/input/covid19-image-dataset/Covid19-dataset/train/Covid/043.jpeg\n",
      "/kaggle/input/covid19-image-dataset/Covid19-dataset/train/Covid/049.jpeg\n",
      "/kaggle/input/covid19-image-dataset/Covid19-dataset/train/Covid/COVID-00023.jpg\n",
      "/kaggle/input/covid19-image-dataset/Covid19-dataset/train/Covid/COVID-00036.jpg\n",
      "/kaggle/input/covid19-image-dataset/Covid19-dataset/train/Covid/COVID-00013a.jpg\n",
      "/kaggle/input/covid19-image-dataset/Covid19-dataset/train/Covid/053.jpeg\n",
      "/kaggle/input/covid19-image-dataset/Covid19-dataset/train/Covid/025.jpeg\n",
      "/kaggle/input/covid19-image-dataset/Covid19-dataset/train/Covid/COVID-00035.jpg\n",
      "/kaggle/input/covid19-image-dataset/Covid19-dataset/train/Covid/082.jpg\n",
      "/kaggle/input/covid19-image-dataset/Covid19-dataset/train/Covid/022.jpeg\n",
      "/kaggle/input/covid19-image-dataset/Covid19-dataset/train/Covid/COVID-00006.jpg\n",
      "/kaggle/input/covid19-image-dataset/Covid19-dataset/train/Covid/07.jpg\n",
      "/kaggle/input/covid19-image-dataset/Covid19-dataset/train/Covid/065.jpeg\n",
      "/kaggle/input/covid19-image-dataset/Covid19-dataset/train/Covid/047.jpeg\n",
      "/kaggle/input/covid19-image-dataset/Covid19-dataset/train/Covid/COVID-00013b.jpg\n",
      "/kaggle/input/covid19-image-dataset/Covid19-dataset/train/Covid/COVID-00010.jpg\n",
      "/kaggle/input/covid19-image-dataset/Covid19-dataset/train/Covid/COVID-00015b.png\n",
      "/kaggle/input/covid19-image-dataset/Covid19-dataset/train/Covid/COVID-00004.jpg\n",
      "/kaggle/input/covid19-image-dataset/Covid19-dataset/train/Covid/010.png\n",
      "/kaggle/input/covid19-image-dataset/Covid19-dataset/train/Covid/091.jpg\n",
      "/kaggle/input/covid19-image-dataset/Covid19-dataset/train/Covid/090.jpeg\n",
      "/kaggle/input/covid19-image-dataset/Covid19-dataset/train/Covid/083.jpeg\n",
      "/kaggle/input/covid19-image-dataset/Covid19-dataset/train/Covid/048.jpeg\n",
      "/kaggle/input/covid19-image-dataset/Covid19-dataset/train/Covid/COVID-00008.jpg\n",
      "/kaggle/input/covid19-image-dataset/Covid19-dataset/train/Covid/031.jpeg\n",
      "/kaggle/input/covid19-image-dataset/Covid19-dataset/train/Covid/04.png\n",
      "/kaggle/input/covid19-image-dataset/Covid19-dataset/train/Covid/COVID-00002.jpg\n",
      "/kaggle/input/covid19-image-dataset/Covid19-dataset/train/Covid/085.jpeg\n"
     ]
    }
   ],
   "source": [
    "# This Python 3 environment comes with many helpful analytics libraries installed\n",
    "# It is defined by the kaggle/python Docker image: https://github.com/kaggle/docker-python\n",
    "# For example, here's several helpful packages to load\n",
    "\n",
    "import numpy as np # linear algebra\n",
    "import pandas as pd # data processing, CSV file I/O (e.g. pd.read_csv)\n",
    "\n",
    "# Input data files are available in the read-only \"../input/\" directory\n",
    "# For example, running this (by clicking run or pressing Shift+Enter) will list all files under the input directory\n",
    "\n",
    "import os\n",
    "for dirname, _, filenames in os.walk('/kaggle/input'):\n",
    "    for filename in filenames:\n",
    "        print(os.path.join(dirname, filename))\n",
    "\n",
    "# You can write up to 20GB to the current directory (/kaggle/working/) that gets preserved as output when you create a version using \"Save & Run All\" \n",
    "# You can also write temporary files to /kaggle/temp/, but they won't be saved outside of the current session"
   ]
  },
  {
   "cell_type": "code",
   "execution_count": 2,
   "id": "c0bb6a62",
   "metadata": {
    "execution": {
     "iopub.execute_input": "2022-03-23T22:38:38.520322Z",
     "iopub.status.busy": "2022-03-23T22:38:38.519804Z",
     "iopub.status.idle": "2022-03-23T22:38:44.061607Z",
     "shell.execute_reply": "2022-03-23T22:38:44.061065Z",
     "shell.execute_reply.started": "2022-03-23T22:33:19.105138Z"
    },
    "papermill": {
     "duration": 5.563896,
     "end_time": "2022-03-23T22:38:44.061742",
     "exception": false,
     "start_time": "2022-03-23T22:38:38.497846",
     "status": "completed"
    },
    "tags": []
   },
   "outputs": [],
   "source": [
    "from tensorflow.keras.layers import Input, Lambda, Dense, Flatten\n",
    "from tensorflow.keras.models import Model\n",
    "from tensorflow.keras.applications.resnet50 import ResNet50\n",
    "from keras.applications.vgg16 import VGG16\n",
    "from tensorflow.keras.applications.resnet50 import preprocess_input\n",
    "from tensorflow.keras.preprocessing import image\n",
    "from tensorflow.keras.preprocessing.image import ImageDataGenerator,load_img\n",
    "from tensorflow.keras.models import Sequential\n",
    "import numpy as np\n",
    "from glob import glob\n",
    "import matplotlib.pyplot as plt"
   ]
  },
  {
   "cell_type": "code",
   "execution_count": 3,
   "id": "969cb0c3",
   "metadata": {
    "execution": {
     "iopub.execute_input": "2022-03-23T22:38:44.099601Z",
     "iopub.status.busy": "2022-03-23T22:38:44.098940Z",
     "iopub.status.idle": "2022-03-23T22:38:44.101720Z",
     "shell.execute_reply": "2022-03-23T22:38:44.101213Z",
     "shell.execute_reply.started": "2022-03-23T22:33:24.210550Z"
    },
    "papermill": {
     "duration": 0.022697,
     "end_time": "2022-03-23T22:38:44.101826",
     "exception": false,
     "start_time": "2022-03-23T22:38:44.079129",
     "status": "completed"
    },
    "tags": []
   },
   "outputs": [],
   "source": [
    "IMAGE_SIZE = [224, 224] \n",
    "\n",
    "train_path = '../input/covid19-image-dataset/Covid19-dataset/train'\n",
    "valid_path = '../input/covid19-image-dataset/Covid19-dataset/test'"
   ]
  },
  {
   "cell_type": "code",
   "execution_count": 4,
   "id": "cabf2f6f",
   "metadata": {
    "execution": {
     "iopub.execute_input": "2022-03-23T22:38:44.140528Z",
     "iopub.status.busy": "2022-03-23T22:38:44.140049Z",
     "iopub.status.idle": "2022-03-23T22:38:47.297002Z",
     "shell.execute_reply": "2022-03-23T22:38:47.296326Z",
     "shell.execute_reply.started": "2022-03-23T22:33:24.219779Z"
    },
    "papermill": {
     "duration": 3.178843,
     "end_time": "2022-03-23T22:38:47.297140",
     "exception": false,
     "start_time": "2022-03-23T22:38:44.118297",
     "status": "completed"
    },
    "tags": []
   },
   "outputs": [
    {
     "name": "stderr",
     "output_type": "stream",
     "text": [
      "2022-03-23 22:38:44.220903: I tensorflow/stream_executor/cuda/cuda_gpu_executor.cc:937] successful NUMA node read from SysFS had negative value (-1), but there must be at least one NUMA node, so returning NUMA node zero\n",
      "2022-03-23 22:38:44.315455: I tensorflow/stream_executor/cuda/cuda_gpu_executor.cc:937] successful NUMA node read from SysFS had negative value (-1), but there must be at least one NUMA node, so returning NUMA node zero\n",
      "2022-03-23 22:38:44.316131: I tensorflow/stream_executor/cuda/cuda_gpu_executor.cc:937] successful NUMA node read from SysFS had negative value (-1), but there must be at least one NUMA node, so returning NUMA node zero\n",
      "2022-03-23 22:38:44.317206: I tensorflow/core/platform/cpu_feature_guard.cc:142] This TensorFlow binary is optimized with oneAPI Deep Neural Network Library (oneDNN) to use the following CPU instructions in performance-critical operations:  AVX2 AVX512F FMA\n",
      "To enable them in other operations, rebuild TensorFlow with the appropriate compiler flags.\n",
      "2022-03-23 22:38:44.318755: I tensorflow/stream_executor/cuda/cuda_gpu_executor.cc:937] successful NUMA node read from SysFS had negative value (-1), but there must be at least one NUMA node, so returning NUMA node zero\n",
      "2022-03-23 22:38:44.319385: I tensorflow/stream_executor/cuda/cuda_gpu_executor.cc:937] successful NUMA node read from SysFS had negative value (-1), but there must be at least one NUMA node, so returning NUMA node zero\n",
      "2022-03-23 22:38:44.319993: I tensorflow/stream_executor/cuda/cuda_gpu_executor.cc:937] successful NUMA node read from SysFS had negative value (-1), but there must be at least one NUMA node, so returning NUMA node zero\n",
      "2022-03-23 22:38:46.229718: I tensorflow/stream_executor/cuda/cuda_gpu_executor.cc:937] successful NUMA node read from SysFS had negative value (-1), but there must be at least one NUMA node, so returning NUMA node zero\n",
      "2022-03-23 22:38:46.230552: I tensorflow/stream_executor/cuda/cuda_gpu_executor.cc:937] successful NUMA node read from SysFS had negative value (-1), but there must be at least one NUMA node, so returning NUMA node zero\n",
      "2022-03-23 22:38:46.231206: I tensorflow/stream_executor/cuda/cuda_gpu_executor.cc:937] successful NUMA node read from SysFS had negative value (-1), but there must be at least one NUMA node, so returning NUMA node zero\n",
      "2022-03-23 22:38:46.231821: I tensorflow/core/common_runtime/gpu/gpu_device.cc:1510] Created device /job:localhost/replica:0/task:0/device:GPU:0 with 15403 MB memory:  -> device: 0, name: Tesla P100-PCIE-16GB, pci bus id: 0000:00:04.0, compute capability: 6.0\n"
     ]
    },
    {
     "name": "stdout",
     "output_type": "stream",
     "text": [
      "Downloading data from https://storage.googleapis.com/tensorflow/keras-applications/vgg16/vgg16_weights_tf_dim_ordering_tf_kernels_notop.h5\n",
      "58892288/58889256 [==============================] - 0s 0us/step\n",
      "58900480/58889256 [==============================] - 0s 0us/step\n"
     ]
    }
   ],
   "source": [
    "vgg = VGG16(input_shape=IMAGE_SIZE + [3], weights='imagenet', include_top=False)\n"
   ]
  },
  {
   "cell_type": "code",
   "execution_count": 5,
   "id": "1ee79e05",
   "metadata": {
    "execution": {
     "iopub.execute_input": "2022-03-23T22:38:47.342484Z",
     "iopub.status.busy": "2022-03-23T22:38:47.339293Z",
     "iopub.status.idle": "2022-03-23T22:38:47.344302Z",
     "shell.execute_reply": "2022-03-23T22:38:47.344753Z",
     "shell.execute_reply.started": "2022-03-23T22:33:27.400882Z"
    },
    "papermill": {
     "duration": 0.027707,
     "end_time": "2022-03-23T22:38:47.344887",
     "exception": false,
     "start_time": "2022-03-23T22:38:47.317180",
     "status": "completed"
    },
    "tags": []
   },
   "outputs": [],
   "source": [
    "for layer in vgg.layers:\n",
    "  layer.trainable=False\n"
   ]
  },
  {
   "cell_type": "code",
   "execution_count": 6,
   "id": "5414f172",
   "metadata": {
    "execution": {
     "iopub.execute_input": "2022-03-23T22:38:47.387868Z",
     "iopub.status.busy": "2022-03-23T22:38:47.387345Z",
     "iopub.status.idle": "2022-03-23T22:38:47.392123Z",
     "shell.execute_reply": "2022-03-23T22:38:47.391692Z",
     "shell.execute_reply.started": "2022-03-23T22:33:27.409828Z"
    },
    "papermill": {
     "duration": 0.027726,
     "end_time": "2022-03-23T22:38:47.392225",
     "exception": false,
     "start_time": "2022-03-23T22:38:47.364499",
     "status": "completed"
    },
    "tags": []
   },
   "outputs": [],
   "source": [
    "folders=glob( '../input/covid19-image-dataset/Covid19-dataset/train/*')"
   ]
  },
  {
   "cell_type": "code",
   "execution_count": 7,
   "id": "8ed41516",
   "metadata": {
    "execution": {
     "iopub.execute_input": "2022-03-23T22:38:47.440035Z",
     "iopub.status.busy": "2022-03-23T22:38:47.436920Z",
     "iopub.status.idle": "2022-03-23T22:38:47.453349Z",
     "shell.execute_reply": "2022-03-23T22:38:47.452941Z",
     "shell.execute_reply.started": "2022-03-23T22:33:27.422801Z"
    },
    "papermill": {
     "duration": 0.040986,
     "end_time": "2022-03-23T22:38:47.453457",
     "exception": false,
     "start_time": "2022-03-23T22:38:47.412471",
     "status": "completed"
    },
    "tags": []
   },
   "outputs": [],
   "source": [
    "x=Flatten()(vgg.output)\n",
    "\n",
    "prediction=Dense(len(folders),activation='softmax')(x)\n",
    "\n",
    "\n",
    "model = Model(inputs=vgg.input, outputs=prediction)\n"
   ]
  },
  {
   "cell_type": "code",
   "execution_count": 8,
   "id": "48b5f050",
   "metadata": {
    "execution": {
     "iopub.execute_input": "2022-03-23T22:38:47.501300Z",
     "iopub.status.busy": "2022-03-23T22:38:47.497872Z",
     "iopub.status.idle": "2022-03-23T22:38:47.510285Z",
     "shell.execute_reply": "2022-03-23T22:38:47.509858Z",
     "shell.execute_reply.started": "2022-03-23T22:33:27.445123Z"
    },
    "papermill": {
     "duration": 0.037391,
     "end_time": "2022-03-23T22:38:47.510385",
     "exception": false,
     "start_time": "2022-03-23T22:38:47.472994",
     "status": "completed"
    },
    "tags": []
   },
   "outputs": [
    {
     "name": "stdout",
     "output_type": "stream",
     "text": [
      "Model: \"model\"\n",
      "_________________________________________________________________\n",
      "Layer (type)                 Output Shape              Param #   \n",
      "=================================================================\n",
      "input_1 (InputLayer)         [(None, 224, 224, 3)]     0         \n",
      "_________________________________________________________________\n",
      "block1_conv1 (Conv2D)        (None, 224, 224, 64)      1792      \n",
      "_________________________________________________________________\n",
      "block1_conv2 (Conv2D)        (None, 224, 224, 64)      36928     \n",
      "_________________________________________________________________\n",
      "block1_pool (MaxPooling2D)   (None, 112, 112, 64)      0         \n",
      "_________________________________________________________________\n",
      "block2_conv1 (Conv2D)        (None, 112, 112, 128)     73856     \n",
      "_________________________________________________________________\n",
      "block2_conv2 (Conv2D)        (None, 112, 112, 128)     147584    \n",
      "_________________________________________________________________\n",
      "block2_pool (MaxPooling2D)   (None, 56, 56, 128)       0         \n",
      "_________________________________________________________________\n",
      "block3_conv1 (Conv2D)        (None, 56, 56, 256)       295168    \n",
      "_________________________________________________________________\n",
      "block3_conv2 (Conv2D)        (None, 56, 56, 256)       590080    \n",
      "_________________________________________________________________\n",
      "block3_conv3 (Conv2D)        (None, 56, 56, 256)       590080    \n",
      "_________________________________________________________________\n",
      "block3_pool (MaxPooling2D)   (None, 28, 28, 256)       0         \n",
      "_________________________________________________________________\n",
      "block4_conv1 (Conv2D)        (None, 28, 28, 512)       1180160   \n",
      "_________________________________________________________________\n",
      "block4_conv2 (Conv2D)        (None, 28, 28, 512)       2359808   \n",
      "_________________________________________________________________\n",
      "block4_conv3 (Conv2D)        (None, 28, 28, 512)       2359808   \n",
      "_________________________________________________________________\n",
      "block4_pool (MaxPooling2D)   (None, 14, 14, 512)       0         \n",
      "_________________________________________________________________\n",
      "block5_conv1 (Conv2D)        (None, 14, 14, 512)       2359808   \n",
      "_________________________________________________________________\n",
      "block5_conv2 (Conv2D)        (None, 14, 14, 512)       2359808   \n",
      "_________________________________________________________________\n",
      "block5_conv3 (Conv2D)        (None, 14, 14, 512)       2359808   \n",
      "_________________________________________________________________\n",
      "block5_pool (MaxPooling2D)   (None, 7, 7, 512)         0         \n",
      "_________________________________________________________________\n",
      "flatten (Flatten)            (None, 25088)             0         \n",
      "_________________________________________________________________\n",
      "dense (Dense)                (None, 3)                 75267     \n",
      "=================================================================\n",
      "Total params: 14,789,955\n",
      "Trainable params: 75,267\n",
      "Non-trainable params: 14,714,688\n",
      "_________________________________________________________________\n"
     ]
    }
   ],
   "source": [
    "model.summary()"
   ]
  },
  {
   "cell_type": "code",
   "execution_count": 9,
   "id": "9afe0f68",
   "metadata": {
    "execution": {
     "iopub.execute_input": "2022-03-23T22:38:47.558883Z",
     "iopub.status.busy": "2022-03-23T22:38:47.557983Z",
     "iopub.status.idle": "2022-03-23T22:38:47.564364Z",
     "shell.execute_reply": "2022-03-23T22:38:47.563709Z",
     "shell.execute_reply.started": "2022-03-23T22:33:27.462113Z"
    },
    "papermill": {
     "duration": 0.033798,
     "end_time": "2022-03-23T22:38:47.564484",
     "exception": false,
     "start_time": "2022-03-23T22:38:47.530686",
     "status": "completed"
    },
    "tags": []
   },
   "outputs": [],
   "source": [
    "model.compile(\n",
    "  loss='categorical_crossentropy',\n",
    "  optimizer='adam',\n",
    "  metrics=['accuracy']\n",
    ")\n"
   ]
  },
  {
   "cell_type": "code",
   "execution_count": 10,
   "id": "332b3264",
   "metadata": {
    "execution": {
     "iopub.execute_input": "2022-03-23T22:38:47.609384Z",
     "iopub.status.busy": "2022-03-23T22:38:47.608737Z",
     "iopub.status.idle": "2022-03-23T22:38:47.610895Z",
     "shell.execute_reply": "2022-03-23T22:38:47.611331Z",
     "shell.execute_reply.started": "2022-03-23T22:33:27.478002Z"
    },
    "papermill": {
     "duration": 0.026712,
     "end_time": "2022-03-23T22:38:47.611443",
     "exception": false,
     "start_time": "2022-03-23T22:38:47.584731",
     "status": "completed"
    },
    "tags": []
   },
   "outputs": [],
   "source": [
    "from tensorflow.keras.preprocessing.image import ImageDataGenerator\n",
    "\n",
    "train_datagen = ImageDataGenerator(rescale = 1./255,\n",
    "                                   shear_range = 0.2,\n",
    "                                   zoom_range = 0.2,\n",
    "                                   horizontal_flip = True)\n",
    "\n",
    "test_datagen = ImageDataGenerator(rescale = 1./255)"
   ]
  },
  {
   "cell_type": "code",
   "execution_count": 11,
   "id": "878c441c",
   "metadata": {
    "execution": {
     "iopub.execute_input": "2022-03-23T22:38:47.665657Z",
     "iopub.status.busy": "2022-03-23T22:38:47.664863Z",
     "iopub.status.idle": "2022-03-23T22:38:47.770270Z",
     "shell.execute_reply": "2022-03-23T22:38:47.769863Z",
     "shell.execute_reply.started": "2022-03-23T22:33:27.485174Z"
    },
    "papermill": {
     "duration": 0.129256,
     "end_time": "2022-03-23T22:38:47.770375",
     "exception": false,
     "start_time": "2022-03-23T22:38:47.641119",
     "status": "completed"
    },
    "tags": []
   },
   "outputs": [
    {
     "name": "stdout",
     "output_type": "stream",
     "text": [
      "Found 251 images belonging to 3 classes.\n"
     ]
    }
   ],
   "source": [
    "training_set = train_datagen.flow_from_directory('../input/covid19-image-dataset/Covid19-dataset/train',\n",
    "                                                 target_size = (224, 224),\n",
    "                                                 batch_size = 32,\n",
    "                                                 class_mode = 'categorical')"
   ]
  },
  {
   "cell_type": "code",
   "execution_count": 12,
   "id": "8df1b97f",
   "metadata": {
    "execution": {
     "iopub.execute_input": "2022-03-23T22:38:47.815803Z",
     "iopub.status.busy": "2022-03-23T22:38:47.815052Z",
     "iopub.status.idle": "2022-03-23T22:38:47.919429Z",
     "shell.execute_reply": "2022-03-23T22:38:47.919041Z",
     "shell.execute_reply.started": "2022-03-23T22:33:27.598478Z"
    },
    "papermill": {
     "duration": 0.128675,
     "end_time": "2022-03-23T22:38:47.919550",
     "exception": false,
     "start_time": "2022-03-23T22:38:47.790875",
     "status": "completed"
    },
    "tags": []
   },
   "outputs": [
    {
     "name": "stdout",
     "output_type": "stream",
     "text": [
      "Found 66 images belonging to 3 classes.\n"
     ]
    }
   ],
   "source": [
    "test_set = test_datagen.flow_from_directory('../input/covid19-image-dataset/Covid19-dataset/test',\n",
    "                                            target_size = (224, 224),\n",
    "                                            batch_size = 32,\n",
    "                                            class_mode = 'categorical')"
   ]
  },
  {
   "cell_type": "code",
   "execution_count": 13,
   "id": "6926cc23",
   "metadata": {
    "execution": {
     "iopub.execute_input": "2022-03-23T22:38:47.968625Z",
     "iopub.status.busy": "2022-03-23T22:38:47.966951Z",
     "iopub.status.idle": "2022-03-23T22:42:20.275570Z",
     "shell.execute_reply": "2022-03-23T22:42:20.274970Z",
     "shell.execute_reply.started": "2022-03-23T22:33:27.705973Z"
    },
    "papermill": {
     "duration": 212.333812,
     "end_time": "2022-03-23T22:42:20.275736",
     "exception": false,
     "start_time": "2022-03-23T22:38:47.941924",
     "status": "completed"
    },
    "tags": []
   },
   "outputs": [
    {
     "name": "stderr",
     "output_type": "stream",
     "text": [
      "/opt/conda/lib/python3.7/site-packages/keras/engine/training.py:1972: UserWarning: `Model.fit_generator` is deprecated and will be removed in a future version. Please use `Model.fit`, which supports generators.\n",
      "  warnings.warn('`Model.fit_generator` is deprecated and '\n",
      "2022-03-23 22:38:49.829036: I tensorflow/compiler/mlir/mlir_graph_optimization_pass.cc:185] None of the MLIR Optimization Passes are enabled (registered 2)\n"
     ]
    },
    {
     "name": "stdout",
     "output_type": "stream",
     "text": [
      "Epoch 1/15\n"
     ]
    },
    {
     "name": "stderr",
     "output_type": "stream",
     "text": [
      "2022-03-23 22:38:53.514370: I tensorflow/stream_executor/cuda/cuda_dnn.cc:369] Loaded cuDNN version 8005\n"
     ]
    },
    {
     "name": "stdout",
     "output_type": "stream",
     "text": [
      "8/8 [==============================] - 28s 2s/step - loss: 0.9638 - accuracy: 0.6056 - val_loss: 0.4659 - val_accuracy: 0.7727\n",
      "Epoch 2/15\n",
      "8/8 [==============================] - 13s 2s/step - loss: 0.3800 - accuracy: 0.8526 - val_loss: 0.5894 - val_accuracy: 0.7273\n",
      "Epoch 3/15\n",
      "8/8 [==============================] - 13s 2s/step - loss: 0.2414 - accuracy: 0.9124 - val_loss: 0.2045 - val_accuracy: 0.8939\n",
      "Epoch 4/15\n",
      "8/8 [==============================] - 14s 2s/step - loss: 0.1502 - accuracy: 0.9482 - val_loss: 0.1580 - val_accuracy: 0.9394\n",
      "Epoch 5/15\n",
      "8/8 [==============================] - 13s 2s/step - loss: 0.1186 - accuracy: 0.9482 - val_loss: 0.1225 - val_accuracy: 0.9848\n",
      "Epoch 6/15\n",
      "8/8 [==============================] - 13s 2s/step - loss: 0.1034 - accuracy: 0.9602 - val_loss: 0.1498 - val_accuracy: 0.9394\n",
      "Epoch 7/15\n",
      "8/8 [==============================] - 13s 2s/step - loss: 0.0905 - accuracy: 0.9761 - val_loss: 0.1304 - val_accuracy: 0.9545\n",
      "Epoch 8/15\n",
      "8/8 [==============================] - 13s 2s/step - loss: 0.0728 - accuracy: 0.9801 - val_loss: 0.0946 - val_accuracy: 0.9848\n",
      "Epoch 9/15\n",
      "8/8 [==============================] - 13s 2s/step - loss: 0.0704 - accuracy: 0.9761 - val_loss: 0.0951 - val_accuracy: 0.9848\n",
      "Epoch 10/15\n",
      "8/8 [==============================] - 13s 2s/step - loss: 0.0644 - accuracy: 0.9801 - val_loss: 0.0929 - val_accuracy: 0.9697\n",
      "Epoch 11/15\n",
      "8/8 [==============================] - 13s 2s/step - loss: 0.0469 - accuracy: 0.9880 - val_loss: 0.1167 - val_accuracy: 0.9545\n",
      "Epoch 12/15\n",
      "8/8 [==============================] - 13s 2s/step - loss: 0.0528 - accuracy: 0.9880 - val_loss: 0.0958 - val_accuracy: 0.9848\n",
      "Epoch 13/15\n",
      "8/8 [==============================] - 13s 2s/step - loss: 0.0415 - accuracy: 0.9960 - val_loss: 0.1381 - val_accuracy: 0.9242\n",
      "Epoch 14/15\n",
      "8/8 [==============================] - 13s 2s/step - loss: 0.0378 - accuracy: 0.9960 - val_loss: 0.0861 - val_accuracy: 0.9848\n",
      "Epoch 15/15\n",
      "8/8 [==============================] - 13s 2s/step - loss: 0.0302 - accuracy: 0.9960 - val_loss: 0.0735 - val_accuracy: 0.9848\n"
     ]
    }
   ],
   "source": [
    "r = model.fit_generator(\n",
    "  training_set,\n",
    "  validation_data=test_set,\n",
    "  epochs=15,\n",
    "  steps_per_epoch=len(training_set),\n",
    "  validation_steps=len(test_set)\n",
    ")"
   ]
  },
  {
   "cell_type": "code",
   "execution_count": 14,
   "id": "2342c69f",
   "metadata": {
    "execution": {
     "iopub.execute_input": "2022-03-23T22:42:20.420278Z",
     "iopub.status.busy": "2022-03-23T22:42:20.419411Z",
     "iopub.status.idle": "2022-03-23T22:42:20.423058Z",
     "shell.execute_reply": "2022-03-23T22:42:20.423447Z",
     "shell.execute_reply.started": "2022-03-23T22:37:05.459004Z"
    },
    "papermill": {
     "duration": 0.077742,
     "end_time": "2022-03-23T22:42:20.423589",
     "exception": false,
     "start_time": "2022-03-23T22:42:20.345847",
     "status": "completed"
    },
    "tags": []
   },
   "outputs": [
    {
     "data": {
      "text/plain": [
       "{'loss': [0.9637683033943176,\n",
       "  0.3800245523452759,\n",
       "  0.24140219390392303,\n",
       "  0.15016193687915802,\n",
       "  0.11864393949508667,\n",
       "  0.103447325527668,\n",
       "  0.09046574681997299,\n",
       "  0.07282235473394394,\n",
       "  0.0704028308391571,\n",
       "  0.06438934057950974,\n",
       "  0.04694202169775963,\n",
       "  0.052765898406505585,\n",
       "  0.04145485907793045,\n",
       "  0.037846412509679794,\n",
       "  0.03024475648999214],\n",
       " 'accuracy': [0.6055777072906494,\n",
       "  0.8525896668434143,\n",
       "  0.912350594997406,\n",
       "  0.9482071995735168,\n",
       "  0.9482071995735168,\n",
       "  0.9601593613624573,\n",
       "  0.9760956168174744,\n",
       "  0.980079710483551,\n",
       "  0.9760956168174744,\n",
       "  0.980079710483551,\n",
       "  0.9880478382110596,\n",
       "  0.9880478382110596,\n",
       "  0.9960159659385681,\n",
       "  0.9960159659385681,\n",
       "  0.9960159659385681],\n",
       " 'val_loss': [0.4659188687801361,\n",
       "  0.5893568992614746,\n",
       "  0.20453572273254395,\n",
       "  0.15800274908542633,\n",
       "  0.12246556580066681,\n",
       "  0.14982207119464874,\n",
       "  0.13039198517799377,\n",
       "  0.094613216817379,\n",
       "  0.09510782361030579,\n",
       "  0.0928545892238617,\n",
       "  0.11672981083393097,\n",
       "  0.09581094980239868,\n",
       "  0.13807323575019836,\n",
       "  0.08606486767530441,\n",
       "  0.07350262254476547],\n",
       " 'val_accuracy': [0.7727272510528564,\n",
       "  0.7272727489471436,\n",
       "  0.8939393758773804,\n",
       "  0.939393937587738,\n",
       "  0.9848484992980957,\n",
       "  0.939393937587738,\n",
       "  0.9545454382896423,\n",
       "  0.9848484992980957,\n",
       "  0.9848484992980957,\n",
       "  0.9696969985961914,\n",
       "  0.9545454382896423,\n",
       "  0.9848484992980957,\n",
       "  0.9242424368858337,\n",
       "  0.9848484992980957,\n",
       "  0.9848484992980957]}"
      ]
     },
     "execution_count": 14,
     "metadata": {},
     "output_type": "execute_result"
    }
   ],
   "source": [
    "r.history"
   ]
  },
  {
   "cell_type": "code",
   "execution_count": 15,
   "id": "3d9e6045",
   "metadata": {
    "execution": {
     "iopub.execute_input": "2022-03-23T22:42:20.567780Z",
     "iopub.status.busy": "2022-03-23T22:42:20.564405Z",
     "iopub.status.idle": "2022-03-23T22:42:20.766809Z",
     "shell.execute_reply": "2022-03-23T22:42:20.766355Z",
     "shell.execute_reply.started": "2022-03-23T22:37:05.473480Z"
    },
    "papermill": {
     "duration": 0.27551,
     "end_time": "2022-03-23T22:42:20.766934",
     "exception": false,
     "start_time": "2022-03-23T22:42:20.491424",
     "status": "completed"
    },
    "tags": []
   },
   "outputs": [
    {
     "data": {
      "image/png": "[encoded data removed]",
      "text/plain": [
       "<Figure size 432x288 with 1 Axes>"
      ]
     },
     "metadata": {
      "needs_background": "light"
     },
     "output_type": "display_data"
    },
    {
     "data": {
      "text/plain": [
       "<Figure size 432x288 with 0 Axes>"
      ]
     },
     "metadata": {},
     "output_type": "display_data"
    }
   ],
   "source": [
    "plt.plot(r.history['loss'], label='train loss')\n",
    "plt.plot(r.history['val_loss'], label='val loss')\n",
    "plt.legend()\n",
    "plt.show()\n",
    "plt.savefig('LossVal_loss')"
   ]
  },
  {
   "cell_type": "code",
   "execution_count": 16,
   "id": "ff87bc06",
   "metadata": {
    "execution": {
     "iopub.execute_input": "2022-03-23T22:42:20.927541Z",
     "iopub.status.busy": "2022-03-23T22:42:20.926699Z",
     "iopub.status.idle": "2022-03-23T22:42:21.113744Z",
     "shell.execute_reply": "2022-03-23T22:42:21.113246Z",
     "shell.execute_reply.started": "2022-03-23T22:37:05.688967Z"
    },
    "papermill": {
     "duration": 0.275795,
     "end_time": "2022-03-23T22:42:21.113887",
     "exception": false,
     "start_time": "2022-03-23T22:42:20.838092",
     "status": "completed"
    },
    "tags": []
   },
   "outputs": [
    {
     "data": {
      "image/png": "[encoded data removed]",
      "text/plain": [
       "<Figure size 432x288 with 1 Axes>"
      ]
     },
     "metadata": {
      "needs_background": "light"
     },
     "output_type": "display_data"
    },
    {
     "data": {
      "text/plain": [
       "<Figure size 432x288 with 0 Axes>"
      ]
     },
     "metadata": {},
     "output_type": "display_data"
    }
   ],
   "source": [
    "plt.plot(r.history['accuracy'], label='train acc')\n",
    "plt.plot(r.history['val_accuracy'], label='val acc')\n",
    "plt.legend()\n",
    "plt.show()\n",
    "plt.savefig('AccVal_acc')\n"
   ]
  },
  {
   "cell_type": "code",
   "execution_count": 17,
   "id": "f03d61a8",
   "metadata": {
    "execution": {
     "iopub.execute_input": "2022-03-23T22:42:21.263883Z",
     "iopub.status.busy": "2022-03-23T22:42:21.262557Z",
     "iopub.status.idle": "2022-03-23T22:42:23.396995Z",
     "shell.execute_reply": "2022-03-23T22:42:23.396482Z",
     "shell.execute_reply.started": "2022-03-23T22:37:05.907235Z"
    },
    "papermill": {
     "duration": 2.209076,
     "end_time": "2022-03-23T22:42:23.397127",
     "exception": false,
     "start_time": "2022-03-23T22:42:21.188051",
     "status": "completed"
    },
    "tags": []
   },
   "outputs": [
    {
     "data": {
      "text/plain": [
       "array([[2.3591993e-04, 7.1773881e-01, 2.8202528e-01],\n",
       "       [6.2281953e-04, 2.1584468e-02, 9.7779274e-01],\n",
       "       [3.6953357e-03, 9.7976112e-01, 1.6543493e-02],\n",
       "       [9.9838746e-01, 9.1480411e-04, 6.9778250e-04],\n",
       "       [3.0516121e-03, 9.9554622e-01, 1.4022343e-03],\n",
       "       [3.0400814e-03, 2.1752587e-01, 7.7943403e-01],\n",
       "       [9.9904352e-01, 4.0079595e-04, 5.5567641e-04],\n",
       "       [2.5728335e-05, 9.3489355e-01, 6.5080754e-02],\n",
       "       [4.1280422e-02, 3.2190727e-03, 9.5550048e-01],\n",
       "       [9.7023273e-01, 1.6398923e-02, 1.3368273e-02],\n",
       "       [2.1795186e-05, 2.6379344e-03, 9.9734026e-01],\n",
       "       [5.0690494e-05, 7.0029449e-01, 2.9965481e-01],\n",
       "       [6.2875552e-05, 9.9851674e-01, 1.4203943e-03],\n",
       "       [5.1618752e-04, 1.7584586e-01, 8.2363790e-01],\n",
       "       [9.1127244e-05, 9.9582160e-01, 4.0872232e-03],\n",
       "       [9.3910471e-03, 2.2853187e-03, 9.8832357e-01],\n",
       "       [7.7094692e-06, 9.1977942e-01, 8.0212951e-02],\n",
       "       [4.6743393e-05, 1.2590711e-03, 9.9869424e-01],\n",
       "       [6.5516186e-04, 8.5499072e-01, 1.4435412e-01],\n",
       "       [9.8314625e-01, 1.7234427e-04, 1.6681375e-02],\n",
       "       [7.5863085e-05, 4.8637609e-03, 9.9506038e-01],\n",
       "       [3.7916627e-05, 9.7667158e-01, 2.3290472e-02],\n",
       "       [1.0183243e-05, 9.8691338e-01, 1.3076355e-02],\n",
       "       [9.9973065e-01, 7.3401825e-06, 2.6192627e-04],\n",
       "       [9.9923217e-01, 2.8493405e-05, 7.3937222e-04],\n",
       "       [9.9799442e-01, 2.9747930e-04, 1.7081717e-03],\n",
       "       [1.5353382e-04, 8.6135936e-01, 1.3848712e-01],\n",
       "       [8.4500309e-05, 1.1104550e-01, 8.8886994e-01],\n",
       "       [1.3219347e-02, 4.5431525e-02, 9.4134915e-01],\n",
       "       [9.9259019e-01, 2.9185631e-03, 4.4912635e-03],\n",
       "       [1.4753385e-04, 3.3575296e-04, 9.9951673e-01],\n",
       "       [9.9621117e-01, 3.4770537e-03, 3.1173174e-04],\n",
       "       [2.6395053e-05, 9.9222893e-01, 7.7447169e-03],\n",
       "       [9.9887294e-01, 7.0914330e-06, 1.1199042e-03],\n",
       "       [9.8538142e-01, 1.4201173e-04, 1.4476635e-02],\n",
       "       [9.9991012e-01, 1.3536409e-06, 8.8601308e-05],\n",
       "       [1.9114563e-04, 8.1407285e-01, 1.8573600e-01],\n",
       "       [9.9997783e-01, 1.1286872e-06, 2.1071404e-05],\n",
       "       [9.9970907e-01, 7.6285392e-06, 2.8332422e-04],\n",
       "       [9.9836713e-01, 1.9058575e-04, 1.4423637e-03],\n",
       "       [9.9890816e-01, 1.3344131e-04, 9.5834601e-04],\n",
       "       [2.0903902e-02, 9.7561491e-01, 3.4812156e-03],\n",
       "       [3.9341845e-02, 4.9566522e-02, 9.1109157e-01],\n",
       "       [6.0957193e-04, 1.7018722e-01, 8.2920325e-01],\n",
       "       [4.0547449e-05, 6.8495548e-01, 3.1500393e-01],\n",
       "       [9.9715060e-01, 8.0587727e-04, 2.0434887e-03],\n",
       "       [9.9870944e-01, 9.4466077e-06, 1.2811844e-03],\n",
       "       [9.9969745e-01, 5.1247065e-05, 2.5131283e-04],\n",
       "       [6.0840743e-04, 2.4071909e-03, 9.9698442e-01],\n",
       "       [9.1259030e-04, 8.1587517e-01, 1.8321231e-01],\n",
       "       [2.0946143e-04, 1.0629461e-01, 8.9349592e-01],\n",
       "       [1.3276386e-04, 5.4561816e-02, 9.4530541e-01],\n",
       "       [1.5360280e-04, 7.8452647e-01, 2.1531995e-01],\n",
       "       [9.5092022e-05, 1.5415600e-02, 9.8448932e-01],\n",
       "       [1.5188503e-04, 1.7828742e-03, 9.9806529e-01],\n",
       "       [9.6315074e-05, 8.6878270e-01, 1.3112099e-01],\n",
       "       [1.1635041e-03, 3.1207500e-02, 9.6762902e-01],\n",
       "       [9.9957329e-01, 2.6583353e-05, 4.0009341e-04],\n",
       "       [9.9374312e-01, 3.8570826e-04, 5.8712033e-03],\n",
       "       [9.9971837e-01, 2.0066496e-05, 2.6153319e-04],\n",
       "       [1.9081535e-05, 9.9858332e-01, 1.3976711e-03],\n",
       "       [9.8767686e-01, 6.7246484e-04, 1.1650759e-02],\n",
       "       [7.7595741e-06, 8.7672001e-01, 1.2327227e-01],\n",
       "       [8.8007832e-01, 3.2019027e-02, 8.7902747e-02],\n",
       "       [9.9581593e-01, 1.5796568e-03, 2.6043812e-03],\n",
       "       [9.9838746e-01, 9.1480062e-04, 6.9778383e-04]], dtype=float32)"
      ]
     },
     "execution_count": 17,
     "metadata": {},
     "output_type": "execute_result"
    }
   ],
   "source": [
    "y_pred=model.predict(test_set)\n",
    "y_pred"
   ]
  },
  {
   "cell_type": "code",
   "execution_count": null,
   "id": "c639f693",
   "metadata": {
    "papermill": {
     "duration": 0.072081,
     "end_time": "2022-03-23T22:42:23.541268",
     "exception": false,
     "start_time": "2022-03-23T22:42:23.469187",
     "status": "completed"
    },
    "tags": []
   },
   "outputs": [],
   "source": []
  }
 ],
 "metadata": {
  "kernelspec": {
   "display_name": "Python 3",
   "language": "python",
   "name": "python3"
  },
  "language_info": {
   "codemirror_mode": {
    "name": "ipython",
    "version": 3
   },
   "file_extension": ".py",
   "mimetype": "text/x-python",
   "name": "python",
   "nbconvert_exporter": "python",
   "pygments_lexer": "ipython3",
   "version": "3.7.12"
  },
  "papermill": {
   "default_parameters": {},
   "duration": 236.493523,
   "end_time": "2022-03-23T22:42:26.525154",
   "environment_variables": {},
   "exception": null,
   "input_path": "__notebook__.ipynb",
   "output_path": "__notebook__.ipynb",
   "parameters": {},
   "start_time": "2022-03-23T22:38:30.031631",
   "version": "2.3.3"
  }
 },
 "nbformat": 4,
 "nbformat_minor": 5
}
