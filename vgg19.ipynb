{
 "cells": [
  {
   "cell_type": "code",
   "execution_count": 1,
   "id": "fcf965fe",
   "metadata": {
    "_cell_guid": "b1076dfc-b9ad-4769-8c92-a6c4dae69d19",
    "_uuid": "8f2839f25d086af736a60e9eeb907d3b93b6e0e5",
    "execution": {
     "iopub.execute_input": "2022-03-24T00:35:09.756173Z",
     "iopub.status.busy": "2022-03-24T00:35:09.754681Z",
     "iopub.status.idle": "2022-03-24T00:35:09.939442Z",
     "shell.execute_reply": "2022-03-24T00:35:09.938680Z",
     "shell.execute_reply.started": "2022-03-24T00:22:34.139230Z"
    },
    "papermill": {
     "duration": 0.204836,
     "end_time": "2022-03-24T00:35:09.939626",
     "exception": false,
     "start_time": "2022-03-24T00:35:09.734790",
     "status": "completed"
    },
    "tags": []
   },
   "outputs": [
    {
     "name": "stdout",
     "output_type": "stream",
     "text": [
      "/kaggle/input/covid19-image-dataset/Covid19-dataset/test/Normal/0117.jpeg\n",
      "/kaggle/input/covid19-image-dataset/Covid19-dataset/test/Normal/0101.jpeg\n",
      "/kaggle/input/covid19-image-dataset/Covid19-dataset/test/Normal/0108.jpeg\n",
      "/kaggle/input/covid19-image-dataset/Covid19-dataset/test/Normal/0110.jpeg\n",
      "/kaggle/input/covid19-image-dataset/Covid19-dataset/test/Normal/0119.jpeg\n",
      "/kaggle/input/covid19-image-dataset/Covid19-dataset/test/Normal/0115.jpeg\n",
      "/kaggle/input/covid19-image-dataset/Covid19-dataset/test/Normal/0116.jpeg\n",
      "/kaggle/input/covid19-image-dataset/Covid19-dataset/test/Normal/0105.jpeg\n",
      "/kaggle/input/covid19-image-dataset/Covid19-dataset/test/Normal/0106.jpeg\n",
      "/kaggle/input/covid19-image-dataset/Covid19-dataset/test/Normal/0121.jpeg\n",
      "/kaggle/input/covid19-image-dataset/Covid19-dataset/test/Normal/0111.jpeg\n",
      "/kaggle/input/covid19-image-dataset/Covid19-dataset/test/Normal/0103.jpeg\n",
      "/kaggle/input/covid19-image-dataset/Covid19-dataset/test/Normal/0120.jpeg\n",
      "/kaggle/input/covid19-image-dataset/Covid19-dataset/test/Normal/0122.jpeg\n",
      "/kaggle/input/covid19-image-dataset/Covid19-dataset/test/Normal/0109.jpeg\n",
      "/kaggle/input/covid19-image-dataset/Covid19-dataset/test/Normal/0112.jpeg\n",
      "/kaggle/input/covid19-image-dataset/Covid19-dataset/test/Normal/0114.jpeg\n",
      "/kaggle/input/covid19-image-dataset/Covid19-dataset/test/Normal/0107.jpeg\n",
      "/kaggle/input/covid19-image-dataset/Covid19-dataset/test/Normal/0118.jpeg\n",
      "/kaggle/input/covid19-image-dataset/Covid19-dataset/test/Normal/0102.jpeg\n",
      "/kaggle/input/covid19-image-dataset/Covid19-dataset/test/Viral Pneumonia/0117.jpeg\n",
      "/kaggle/input/covid19-image-dataset/Covid19-dataset/test/Viral Pneumonia/0101.jpeg\n",
      "/kaggle/input/covid19-image-dataset/Covid19-dataset/test/Viral Pneumonia/0104.jpeg\n",
      "/kaggle/input/covid19-image-dataset/Covid19-dataset/test/Viral Pneumonia/0108.jpeg\n",
      "/kaggle/input/covid19-image-dataset/Covid19-dataset/test/Viral Pneumonia/0110.jpeg\n",
      "/kaggle/input/covid19-image-dataset/Covid19-dataset/test/Viral Pneumonia/0119.jpeg\n",
      "/kaggle/input/covid19-image-dataset/Covid19-dataset/test/Viral Pneumonia/0115.jpeg\n",
      "/kaggle/input/covid19-image-dataset/Covid19-dataset/test/Viral Pneumonia/0116.jpeg\n",
      "/kaggle/input/covid19-image-dataset/Covid19-dataset/test/Viral Pneumonia/0105.jpeg\n",
      "/kaggle/input/covid19-image-dataset/Covid19-dataset/test/Viral Pneumonia/0106.jpeg\n",
      "/kaggle/input/covid19-image-dataset/Covid19-dataset/test/Viral Pneumonia/0111.jpeg\n",
      "/kaggle/input/covid19-image-dataset/Covid19-dataset/test/Viral Pneumonia/0103.jpeg\n",
      "/kaggle/input/covid19-image-dataset/Covid19-dataset/test/Viral Pneumonia/0120.jpeg\n",
      "/kaggle/input/covid19-image-dataset/Covid19-dataset/test/Viral Pneumonia/0109.jpeg\n",
      "/kaggle/input/covid19-image-dataset/Covid19-dataset/test/Viral Pneumonia/0112.jpeg\n",
      "/kaggle/input/covid19-image-dataset/Covid19-dataset/test/Viral Pneumonia/0113.jpeg\n",
      "/kaggle/input/covid19-image-dataset/Covid19-dataset/test/Viral Pneumonia/0114.jpeg\n",
      "/kaggle/input/covid19-image-dataset/Covid19-dataset/test/Viral Pneumonia/0107.jpeg\n",
      "/kaggle/input/covid19-image-dataset/Covid19-dataset/test/Viral Pneumonia/0118.jpeg\n",
      "/kaggle/input/covid19-image-dataset/Covid19-dataset/test/Viral Pneumonia/0102.jpeg\n",
      "/kaggle/input/covid19-image-dataset/Covid19-dataset/test/Covid/0108.jpeg\n",
      "/kaggle/input/covid19-image-dataset/Covid19-dataset/test/Covid/0119.jpeg\n",
      "/kaggle/input/covid19-image-dataset/Covid19-dataset/test/Covid/0115.jpeg\n",
      "/kaggle/input/covid19-image-dataset/Covid19-dataset/test/Covid/auntminnie-2020_01_31_20_24_2322_2020_01_31_x-ray_coronavirus_US.jpg\n",
      "/kaggle/input/covid19-image-dataset/Covid19-dataset/test/Covid/COVID-00037.jpg\n",
      "/kaggle/input/covid19-image-dataset/Covid19-dataset/test/Covid/0106.jpeg\n",
      "/kaggle/input/covid19-image-dataset/Covid19-dataset/test/Covid/0111.jpg\n",
      "/kaggle/input/covid19-image-dataset/Covid19-dataset/test/Covid/COVID-00022.jpg\n",
      "/kaggle/input/covid19-image-dataset/Covid19-dataset/test/Covid/auntminnie-a-2020_01_28_23_51_6665_2020_01_28_Vietnam_coronavirus.jpeg\n",
      "/kaggle/input/covid19-image-dataset/Covid19-dataset/test/Covid/0120.jpg\n",
      "/kaggle/input/covid19-image-dataset/Covid19-dataset/test/Covid/094.png\n",
      "/kaggle/input/covid19-image-dataset/Covid19-dataset/test/Covid/COVID-00003b.jpg\n",
      "/kaggle/input/covid19-image-dataset/Covid19-dataset/test/Covid/0105.png\n",
      "/kaggle/input/covid19-image-dataset/Covid19-dataset/test/Covid/radiopaedia-2019-novel-coronavirus-infected-pneumonia.jpg\n",
      "/kaggle/input/covid19-image-dataset/Covid19-dataset/test/Covid/auntminnie-c-2020_01_28_23_51_6665_2020_01_28_Vietnam_coronavirus.jpeg\n",
      "/kaggle/input/covid19-image-dataset/Covid19-dataset/test/Covid/0112.jpg\n",
      "/kaggle/input/covid19-image-dataset/Covid19-dataset/test/Covid/COVID-00012.jpg\n",
      "/kaggle/input/covid19-image-dataset/Covid19-dataset/test/Covid/COVID-00033.jpg\n",
      "/kaggle/input/covid19-image-dataset/Covid19-dataset/test/Covid/0113.jpg\n",
      "/kaggle/input/covid19-image-dataset/Covid19-dataset/test/Covid/0100.jpeg\n",
      "/kaggle/input/covid19-image-dataset/Covid19-dataset/test/Covid/auntminnie-b-2020_01_28_23_51_6665_2020_01_28_Vietnam_coronavirus.jpeg\n",
      "/kaggle/input/covid19-image-dataset/Covid19-dataset/test/Covid/098.jpeg\n",
      "/kaggle/input/covid19-image-dataset/Covid19-dataset/test/Covid/096.png\n",
      "/kaggle/input/covid19-image-dataset/Covid19-dataset/test/Covid/auntminnie-d-2020_01_28_23_51_6665_2020_01_28_Vietnam_coronavirus.jpeg\n",
      "/kaggle/input/covid19-image-dataset/Covid19-dataset/test/Covid/0118.jpeg\n",
      "/kaggle/input/covid19-image-dataset/Covid19-dataset/test/Covid/0102.jpeg\n",
      "/kaggle/input/covid19-image-dataset/Covid19-dataset/train/Normal/071.jpeg\n",
      "/kaggle/input/covid19-image-dataset/Covid19-dataset/train/Normal/014.jpeg\n",
      "/kaggle/input/covid19-image-dataset/Covid19-dataset/train/Normal/073.jpeg\n",
      "/kaggle/input/covid19-image-dataset/Covid19-dataset/train/Normal/05.jpeg\n",
      "/kaggle/input/covid19-image-dataset/Covid19-dataset/train/Normal/023.jpeg\n",
      "/kaggle/input/covid19-image-dataset/Covid19-dataset/train/Normal/01.jpeg\n",
      "/kaggle/input/covid19-image-dataset/Covid19-dataset/train/Normal/096.jpeg\n",
      "/kaggle/input/covid19-image-dataset/Covid19-dataset/train/Normal/060.jpeg\n",
      "/kaggle/input/covid19-image-dataset/Covid19-dataset/train/Normal/063.jpeg\n",
      "/kaggle/input/covid19-image-dataset/Covid19-dataset/train/Normal/059.jpeg\n",
      "/kaggle/input/covid19-image-dataset/Covid19-dataset/train/Normal/087.jpeg\n",
      "/kaggle/input/covid19-image-dataset/Covid19-dataset/train/Normal/064.jpeg\n",
      "/kaggle/input/covid19-image-dataset/Covid19-dataset/train/Normal/011.jpeg\n",
      "/kaggle/input/covid19-image-dataset/Covid19-dataset/train/Normal/068.jpeg\n",
      "/kaggle/input/covid19-image-dataset/Covid19-dataset/train/Normal/058.jpeg\n",
      "/kaggle/input/covid19-image-dataset/Covid19-dataset/train/Normal/020.jpeg\n",
      "/kaggle/input/covid19-image-dataset/Covid19-dataset/train/Normal/050.jpeg\n",
      "/kaggle/input/covid19-image-dataset/Covid19-dataset/train/Normal/03.jpeg\n",
      "/kaggle/input/covid19-image-dataset/Covid19-dataset/train/Normal/02.jpeg\n",
      "/kaggle/input/covid19-image-dataset/Covid19-dataset/train/Normal/093.jpeg\n",
      "/kaggle/input/covid19-image-dataset/Covid19-dataset/train/Normal/016.jpeg\n",
      "/kaggle/input/covid19-image-dataset/Covid19-dataset/train/Normal/010.jpeg\n",
      "/kaggle/input/covid19-image-dataset/Covid19-dataset/train/Normal/018.jpeg\n",
      "/kaggle/input/covid19-image-dataset/Covid19-dataset/train/Normal/067.jpeg\n",
      "/kaggle/input/covid19-image-dataset/Covid19-dataset/train/Normal/088.jpeg\n",
      "/kaggle/input/covid19-image-dataset/Covid19-dataset/train/Normal/054.jpeg\n",
      "/kaggle/input/covid19-image-dataset/Covid19-dataset/train/Normal/052.jpeg\n",
      "/kaggle/input/covid19-image-dataset/Covid19-dataset/train/Normal/084.jpeg\n",
      "/kaggle/input/covid19-image-dataset/Covid19-dataset/train/Normal/04.jpeg\n",
      "/kaggle/input/covid19-image-dataset/Covid19-dataset/train/Normal/066.jpeg\n",
      "/kaggle/input/covid19-image-dataset/Covid19-dataset/train/Normal/079.jpeg\n",
      "/kaggle/input/covid19-image-dataset/Covid19-dataset/train/Normal/077.jpeg\n",
      "/kaggle/input/covid19-image-dataset/Covid19-dataset/train/Normal/082.jpeg\n",
      "/kaggle/input/covid19-image-dataset/Covid19-dataset/train/Normal/056.jpeg\n",
      "/kaggle/input/covid19-image-dataset/Covid19-dataset/train/Normal/094.jpeg\n",
      "/kaggle/input/covid19-image-dataset/Covid19-dataset/train/Normal/080.jpeg\n",
      "/kaggle/input/covid19-image-dataset/Covid19-dataset/train/Normal/057.jpeg\n",
      "/kaggle/input/covid19-image-dataset/Covid19-dataset/train/Normal/019.jpeg\n",
      "/kaggle/input/covid19-image-dataset/Covid19-dataset/train/Normal/021.jpeg\n",
      "/kaggle/input/covid19-image-dataset/Covid19-dataset/train/Normal/074.jpeg\n",
      "/kaggle/input/covid19-image-dataset/Covid19-dataset/train/Normal/061.jpeg\n",
      "/kaggle/input/covid19-image-dataset/Covid19-dataset/train/Normal/08.jpeg\n",
      "/kaggle/input/covid19-image-dataset/Covid19-dataset/train/Normal/069.jpeg\n",
      "/kaggle/input/covid19-image-dataset/Covid19-dataset/train/Normal/062.jpeg\n",
      "/kaggle/input/covid19-image-dataset/Covid19-dataset/train/Normal/06.jpeg\n",
      "/kaggle/input/covid19-image-dataset/Covid19-dataset/train/Normal/013.jpeg\n",
      "/kaggle/input/covid19-image-dataset/Covid19-dataset/train/Normal/051.jpeg\n",
      "/kaggle/input/covid19-image-dataset/Covid19-dataset/train/Normal/097.jpeg\n",
      "/kaggle/input/covid19-image-dataset/Covid19-dataset/train/Normal/024.jpeg\n",
      "/kaggle/input/covid19-image-dataset/Covid19-dataset/train/Normal/015.jpeg\n",
      "/kaggle/input/covid19-image-dataset/Covid19-dataset/train/Normal/012.jpeg\n",
      "/kaggle/input/covid19-image-dataset/Covid19-dataset/train/Normal/081.jpeg\n",
      "/kaggle/input/covid19-image-dataset/Covid19-dataset/train/Normal/095.jpeg\n",
      "/kaggle/input/covid19-image-dataset/Covid19-dataset/train/Normal/072.jpeg\n",
      "/kaggle/input/covid19-image-dataset/Covid19-dataset/train/Normal/092.jpeg\n",
      "/kaggle/input/covid19-image-dataset/Covid19-dataset/train/Normal/055.jpeg\n",
      "/kaggle/input/covid19-image-dataset/Covid19-dataset/train/Normal/086.jpeg\n",
      "/kaggle/input/covid19-image-dataset/Covid19-dataset/train/Normal/053.jpeg\n",
      "/kaggle/input/covid19-image-dataset/Covid19-dataset/train/Normal/025.jpeg\n",
      "/kaggle/input/covid19-image-dataset/Covid19-dataset/train/Normal/022.jpeg\n",
      "/kaggle/input/covid19-image-dataset/Covid19-dataset/train/Normal/017.jpeg\n",
      "/kaggle/input/covid19-image-dataset/Covid19-dataset/train/Normal/065.jpeg\n",
      "/kaggle/input/covid19-image-dataset/Covid19-dataset/train/Normal/091.jpeg\n",
      "/kaggle/input/covid19-image-dataset/Covid19-dataset/train/Normal/076.jpeg\n",
      "/kaggle/input/covid19-image-dataset/Covid19-dataset/train/Normal/07.jpeg\n",
      "/kaggle/input/covid19-image-dataset/Covid19-dataset/train/Normal/083.jpeg\n",
      "/kaggle/input/covid19-image-dataset/Covid19-dataset/train/Normal/075.jpeg\n",
      "/kaggle/input/covid19-image-dataset/Covid19-dataset/train/Normal/070.jpeg\n",
      "/kaggle/input/covid19-image-dataset/Covid19-dataset/train/Normal/09.jpeg\n",
      "/kaggle/input/covid19-image-dataset/Covid19-dataset/train/Normal/085.jpeg\n",
      "/kaggle/input/covid19-image-dataset/Covid19-dataset/train/Viral Pneumonia/071.jpeg\n",
      "/kaggle/input/covid19-image-dataset/Covid19-dataset/train/Viral Pneumonia/035.jpeg\n",
      "/kaggle/input/covid19-image-dataset/Covid19-dataset/train/Viral Pneumonia/032.jpeg\n",
      "/kaggle/input/covid19-image-dataset/Covid19-dataset/train/Viral Pneumonia/073.jpeg\n",
      "/kaggle/input/covid19-image-dataset/Covid19-dataset/train/Viral Pneumonia/037.jpeg\n",
      "/kaggle/input/covid19-image-dataset/Covid19-dataset/train/Viral Pneumonia/05.jpeg\n",
      "/kaggle/input/covid19-image-dataset/Covid19-dataset/train/Viral Pneumonia/023.jpeg\n",
      "/kaggle/input/covid19-image-dataset/Covid19-dataset/train/Viral Pneumonia/01.jpeg\n",
      "/kaggle/input/covid19-image-dataset/Covid19-dataset/train/Viral Pneumonia/096.jpeg\n",
      "/kaggle/input/covid19-image-dataset/Covid19-dataset/train/Viral Pneumonia/063.jpeg\n",
      "/kaggle/input/covid19-image-dataset/Covid19-dataset/train/Viral Pneumonia/044.jpeg\n",
      "/kaggle/input/covid19-image-dataset/Covid19-dataset/train/Viral Pneumonia/064.jpeg\n",
      "/kaggle/input/covid19-image-dataset/Covid19-dataset/train/Viral Pneumonia/036.jpeg\n",
      "/kaggle/input/covid19-image-dataset/Covid19-dataset/train/Viral Pneumonia/011.jpeg\n",
      "/kaggle/input/covid19-image-dataset/Covid19-dataset/train/Viral Pneumonia/068.jpeg\n",
      "/kaggle/input/covid19-image-dataset/Covid19-dataset/train/Viral Pneumonia/058.jpeg\n",
      "/kaggle/input/covid19-image-dataset/Covid19-dataset/train/Viral Pneumonia/020.jpeg\n",
      "/kaggle/input/covid19-image-dataset/Covid19-dataset/train/Viral Pneumonia/03.jpeg\n",
      "/kaggle/input/covid19-image-dataset/Covid19-dataset/train/Viral Pneumonia/02.jpeg\n",
      "/kaggle/input/covid19-image-dataset/Covid19-dataset/train/Viral Pneumonia/016.jpeg\n",
      "/kaggle/input/covid19-image-dataset/Covid19-dataset/train/Viral Pneumonia/010.jpeg\n",
      "/kaggle/input/covid19-image-dataset/Covid19-dataset/train/Viral Pneumonia/018.jpeg\n",
      "/kaggle/input/covid19-image-dataset/Covid19-dataset/train/Viral Pneumonia/067.jpeg\n",
      "/kaggle/input/covid19-image-dataset/Covid19-dataset/train/Viral Pneumonia/054.jpeg\n",
      "/kaggle/input/covid19-image-dataset/Covid19-dataset/train/Viral Pneumonia/052.jpeg\n",
      "/kaggle/input/covid19-image-dataset/Covid19-dataset/train/Viral Pneumonia/084.jpeg\n",
      "/kaggle/input/covid19-image-dataset/Covid19-dataset/train/Viral Pneumonia/04.jpeg\n",
      "/kaggle/input/covid19-image-dataset/Covid19-dataset/train/Viral Pneumonia/066.jpeg\n",
      "/kaggle/input/covid19-image-dataset/Covid19-dataset/train/Viral Pneumonia/042.jpeg\n",
      "/kaggle/input/covid19-image-dataset/Covid19-dataset/train/Viral Pneumonia/077.jpeg\n",
      "/kaggle/input/covid19-image-dataset/Covid19-dataset/train/Viral Pneumonia/041.jpeg\n",
      "/kaggle/input/covid19-image-dataset/Covid19-dataset/train/Viral Pneumonia/082.jpeg\n",
      "/kaggle/input/covid19-image-dataset/Covid19-dataset/train/Viral Pneumonia/056.jpeg\n",
      "/kaggle/input/covid19-image-dataset/Covid19-dataset/train/Viral Pneumonia/094.jpeg\n",
      "/kaggle/input/covid19-image-dataset/Covid19-dataset/train/Viral Pneumonia/038.jpeg\n",
      "/kaggle/input/covid19-image-dataset/Covid19-dataset/train/Viral Pneumonia/057.jpeg\n",
      "/kaggle/input/covid19-image-dataset/Covid19-dataset/train/Viral Pneumonia/019.jpeg\n",
      "/kaggle/input/covid19-image-dataset/Covid19-dataset/train/Viral Pneumonia/021.jpeg\n",
      "/kaggle/input/covid19-image-dataset/Covid19-dataset/train/Viral Pneumonia/027.jpeg\n",
      "/kaggle/input/covid19-image-dataset/Covid19-dataset/train/Viral Pneumonia/046.jpeg\n",
      "/kaggle/input/covid19-image-dataset/Covid19-dataset/train/Viral Pneumonia/074.jpeg\n",
      "/kaggle/input/covid19-image-dataset/Covid19-dataset/train/Viral Pneumonia/061.jpeg\n",
      "/kaggle/input/covid19-image-dataset/Covid19-dataset/train/Viral Pneumonia/08.jpeg\n",
      "/kaggle/input/covid19-image-dataset/Covid19-dataset/train/Viral Pneumonia/062.jpeg\n",
      "/kaggle/input/covid19-image-dataset/Covid19-dataset/train/Viral Pneumonia/045.jpeg\n",
      "/kaggle/input/covid19-image-dataset/Covid19-dataset/train/Viral Pneumonia/033.jpeg\n",
      "/kaggle/input/covid19-image-dataset/Covid19-dataset/train/Viral Pneumonia/06.jpeg\n",
      "/kaggle/input/covid19-image-dataset/Covid19-dataset/train/Viral Pneumonia/013.jpeg\n",
      "/kaggle/input/covid19-image-dataset/Covid19-dataset/train/Viral Pneumonia/051.jpeg\n",
      "/kaggle/input/covid19-image-dataset/Covid19-dataset/train/Viral Pneumonia/078.jpeg\n",
      "/kaggle/input/covid19-image-dataset/Covid19-dataset/train/Viral Pneumonia/024.jpeg\n",
      "/kaggle/input/covid19-image-dataset/Covid19-dataset/train/Viral Pneumonia/034.jpeg\n",
      "/kaggle/input/covid19-image-dataset/Covid19-dataset/train/Viral Pneumonia/012.jpeg\n",
      "/kaggle/input/covid19-image-dataset/Covid19-dataset/train/Viral Pneumonia/081.jpeg\n",
      "/kaggle/input/covid19-image-dataset/Covid19-dataset/train/Viral Pneumonia/095.jpeg\n",
      "/kaggle/input/covid19-image-dataset/Covid19-dataset/train/Viral Pneumonia/072.jpeg\n",
      "/kaggle/input/covid19-image-dataset/Covid19-dataset/train/Viral Pneumonia/055.jpeg\n",
      "/kaggle/input/covid19-image-dataset/Covid19-dataset/train/Viral Pneumonia/043.jpeg\n",
      "/kaggle/input/covid19-image-dataset/Covid19-dataset/train/Viral Pneumonia/053.jpeg\n",
      "/kaggle/input/covid19-image-dataset/Covid19-dataset/train/Viral Pneumonia/025.jpeg\n",
      "/kaggle/input/covid19-image-dataset/Covid19-dataset/train/Viral Pneumonia/022.jpeg\n",
      "/kaggle/input/covid19-image-dataset/Covid19-dataset/train/Viral Pneumonia/065.jpeg\n",
      "/kaggle/input/covid19-image-dataset/Covid19-dataset/train/Viral Pneumonia/076.jpeg\n",
      "/kaggle/input/covid19-image-dataset/Covid19-dataset/train/Viral Pneumonia/047.jpeg\n",
      "/kaggle/input/covid19-image-dataset/Covid19-dataset/train/Viral Pneumonia/07.jpeg\n",
      "/kaggle/input/covid19-image-dataset/Covid19-dataset/train/Viral Pneumonia/083.jpeg\n",
      "/kaggle/input/covid19-image-dataset/Covid19-dataset/train/Viral Pneumonia/048.jpeg\n",
      "/kaggle/input/covid19-image-dataset/Covid19-dataset/train/Viral Pneumonia/075.jpeg\n",
      "/kaggle/input/covid19-image-dataset/Covid19-dataset/train/Viral Pneumonia/031.jpeg\n",
      "/kaggle/input/covid19-image-dataset/Covid19-dataset/train/Viral Pneumonia/09.jpeg\n",
      "/kaggle/input/covid19-image-dataset/Covid19-dataset/train/Covid/032.jpeg\n",
      "/kaggle/input/covid19-image-dataset/Covid19-dataset/train/Covid/01.jpeg\n",
      "/kaggle/input/covid19-image-dataset/Covid19-dataset/train/Covid/COVID-00014.jpg\n",
      "/kaggle/input/covid19-image-dataset/Covid19-dataset/train/Covid/080.jpg\n",
      "/kaggle/input/covid19-image-dataset/Covid19-dataset/train/Covid/060.jpeg\n",
      "/kaggle/input/covid19-image-dataset/Covid19-dataset/train/Covid/092.png\n",
      "/kaggle/input/covid19-image-dataset/Covid19-dataset/train/Covid/COVID-00005.jpg\n",
      "/kaggle/input/covid19-image-dataset/Covid19-dataset/train/Covid/COVID-00031.jpg\n",
      "/kaggle/input/covid19-image-dataset/Covid19-dataset/train/Covid/059.jpeg\n",
      "/kaggle/input/covid19-image-dataset/Covid19-dataset/train/Covid/067.jpg\n",
      "/kaggle/input/covid19-image-dataset/Covid19-dataset/train/Covid/044.jpeg\n",
      "/kaggle/input/covid19-image-dataset/Covid19-dataset/train/Covid/COVID-00037.jpg\n",
      "/kaggle/input/covid19-image-dataset/Covid19-dataset/train/Covid/069.jpg\n",
      "/kaggle/input/covid19-image-dataset/Covid19-dataset/train/Covid/089.jpg\n",
      "/kaggle/input/covid19-image-dataset/Covid19-dataset/train/Covid/076.jpg\n",
      "/kaggle/input/covid19-image-dataset/Covid19-dataset/train/Covid/COVID-00032.jpg\n",
      "/kaggle/input/covid19-image-dataset/Covid19-dataset/train/Covid/COVID-00027.jpg\n",
      "/kaggle/input/covid19-image-dataset/Covid19-dataset/train/Covid/058.jpeg\n",
      "/kaggle/input/covid19-image-dataset/Covid19-dataset/train/Covid/050.jpeg\n",
      "/kaggle/input/covid19-image-dataset/Covid19-dataset/train/Covid/03.jpeg\n",
      "/kaggle/input/covid19-image-dataset/Covid19-dataset/train/Covid/02.jpeg\n",
      "/kaggle/input/covid19-image-dataset/Covid19-dataset/train/Covid/COVID-00003a.jpg\n",
      "/kaggle/input/covid19-image-dataset/Covid19-dataset/train/Covid/056.jpg\n",
      "/kaggle/input/covid19-image-dataset/Covid19-dataset/train/Covid/033.png\n",
      "/kaggle/input/covid19-image-dataset/Covid19-dataset/train/Covid/COVID-00016.jpg\n",
      "/kaggle/input/covid19-image-dataset/Covid19-dataset/train/Covid/COVID-00017.jpg\n",
      "/kaggle/input/covid19-image-dataset/Covid19-dataset/train/Covid/COVID-00022.jpg\n",
      "/kaggle/input/covid19-image-dataset/Covid19-dataset/train/Covid/09.png\n",
      "/kaggle/input/covid19-image-dataset/Covid19-dataset/train/Covid/088.jpeg\n",
      "/kaggle/input/covid19-image-dataset/Covid19-dataset/train/Covid/068.jpg\n",
      "/kaggle/input/covid19-image-dataset/Covid19-dataset/train/Covid/COVID-00034.jpg\n",
      "/kaggle/input/covid19-image-dataset/Covid19-dataset/train/Covid/064.jpg\n",
      "/kaggle/input/covid19-image-dataset/Covid19-dataset/train/Covid/COVID-00029.jpg\n",
      "/kaggle/input/covid19-image-dataset/Covid19-dataset/train/Covid/015.jpg\n",
      "/kaggle/input/covid19-image-dataset/Covid19-dataset/train/Covid/COVID-00030.jpg\n",
      "/kaggle/input/covid19-image-dataset/Covid19-dataset/train/Covid/054.jpeg\n",
      "/kaggle/input/covid19-image-dataset/Covid19-dataset/train/Covid/086.jpg\n",
      "/kaggle/input/covid19-image-dataset/Covid19-dataset/train/Covid/052.jpeg\n",
      "/kaggle/input/covid19-image-dataset/Covid19-dataset/train/Covid/COVID-00007.jpg\n",
      "/kaggle/input/covid19-image-dataset/Covid19-dataset/train/Covid/COVID-00025.jpg\n",
      "/kaggle/input/covid19-image-dataset/Covid19-dataset/train/Covid/084.jpeg\n",
      "/kaggle/input/covid19-image-dataset/Covid19-dataset/train/Covid/079.jpeg\n",
      "/kaggle/input/covid19-image-dataset/Covid19-dataset/train/Covid/042.jpeg\n",
      "/kaggle/input/covid19-image-dataset/Covid19-dataset/train/Covid/COVID-00038.jpg\n",
      "/kaggle/input/covid19-image-dataset/Covid19-dataset/train/Covid/COVID-00003b.jpg\n",
      "/kaggle/input/covid19-image-dataset/Covid19-dataset/train/Covid/041.jpeg\n",
      "/kaggle/input/covid19-image-dataset/Covid19-dataset/train/Covid/COVID-00026.jpg\n",
      "/kaggle/input/covid19-image-dataset/Covid19-dataset/train/Covid/057.jpeg\n",
      "/kaggle/input/covid19-image-dataset/Covid19-dataset/train/Covid/021.jpeg\n",
      "/kaggle/input/covid19-image-dataset/Covid19-dataset/train/Covid/COVID-00001.jpg\n",
      "/kaggle/input/covid19-image-dataset/Covid19-dataset/train/Covid/027.jpeg\n",
      "/kaggle/input/covid19-image-dataset/Covid19-dataset/train/Covid/046.jpeg\n",
      "/kaggle/input/covid19-image-dataset/Covid19-dataset/train/Covid/COVID-00028.jpg\n",
      "/kaggle/input/covid19-image-dataset/Covid19-dataset/train/Covid/039.jpeg\n",
      "/kaggle/input/covid19-image-dataset/Covid19-dataset/train/Covid/071.jpg\n",
      "/kaggle/input/covid19-image-dataset/Covid19-dataset/train/Covid/08.jpeg\n",
      "/kaggle/input/covid19-image-dataset/Covid19-dataset/train/Covid/COVID-00009.jpg\n",
      "/kaggle/input/covid19-image-dataset/Covid19-dataset/train/Covid/062.jpeg\n",
      "/kaggle/input/covid19-image-dataset/Covid19-dataset/train/Covid/COVID-00024.jpg\n",
      "/kaggle/input/covid19-image-dataset/Covid19-dataset/train/Covid/045.jpeg\n",
      "/kaggle/input/covid19-image-dataset/Covid19-dataset/train/Covid/COVID-00018.jpg\n",
      "/kaggle/input/covid19-image-dataset/Covid19-dataset/train/Covid/019.png\n",
      "/kaggle/input/covid19-image-dataset/Covid19-dataset/train/Covid/COVID-00015a.png\n",
      "/kaggle/input/covid19-image-dataset/Covid19-dataset/train/Covid/COVID-00020.jpg\n",
      "/kaggle/input/covid19-image-dataset/Covid19-dataset/train/Covid/06.jpeg\n",
      "/kaggle/input/covid19-image-dataset/Covid19-dataset/train/Covid/061.jpg\n",
      "/kaggle/input/covid19-image-dataset/Covid19-dataset/train/Covid/051.jpeg\n",
      "/kaggle/input/covid19-image-dataset/Covid19-dataset/train/Covid/073.jpg\n",
      "/kaggle/input/covid19-image-dataset/Covid19-dataset/train/Covid/078.jpeg\n",
      "/kaggle/input/covid19-image-dataset/Covid19-dataset/train/Covid/024.jpeg\n",
      "/kaggle/input/covid19-image-dataset/Covid19-dataset/train/Covid/020.jpg\n",
      "/kaggle/input/covid19-image-dataset/Covid19-dataset/train/Covid/040.jpeg\n",
      "/kaggle/input/covid19-image-dataset/Covid19-dataset/train/Covid/COVID-00021.jpg\n",
      "/kaggle/input/covid19-image-dataset/Covid19-dataset/train/Covid/012.jpeg\n",
      "/kaggle/input/covid19-image-dataset/Covid19-dataset/train/Covid/COVID-00019.jpg\n",
      "/kaggle/input/covid19-image-dataset/Covid19-dataset/train/Covid/COVID-00012.jpg\n",
      "/kaggle/input/covid19-image-dataset/Covid19-dataset/train/Covid/081.jpeg\n",
      "/kaggle/input/covid19-image-dataset/Covid19-dataset/train/Covid/COVID-00033.jpg\n",
      "/kaggle/input/covid19-image-dataset/Covid19-dataset/train/Covid/072.jpeg\n",
      "/kaggle/input/covid19-image-dataset/Covid19-dataset/train/Covid/COVID-00011.jpg\n",
      "/kaggle/input/covid19-image-dataset/Covid19-dataset/train/Covid/074.jpg\n",
      "/kaggle/input/covid19-image-dataset/Covid19-dataset/train/Covid/055.jpeg\n",
      "/kaggle/input/covid19-image-dataset/Covid19-dataset/train/Covid/026.jpeg\n",
      "/kaggle/input/covid19-image-dataset/Covid19-dataset/train/Covid/043.jpeg\n",
      "/kaggle/input/covid19-image-dataset/Covid19-dataset/train/Covid/049.jpeg\n",
      "/kaggle/input/covid19-image-dataset/Covid19-dataset/train/Covid/COVID-00023.jpg\n",
      "/kaggle/input/covid19-image-dataset/Covid19-dataset/train/Covid/COVID-00036.jpg\n",
      "/kaggle/input/covid19-image-dataset/Covid19-dataset/train/Covid/COVID-00013a.jpg\n",
      "/kaggle/input/covid19-image-dataset/Covid19-dataset/train/Covid/053.jpeg\n",
      "/kaggle/input/covid19-image-dataset/Covid19-dataset/train/Covid/025.jpeg\n",
      "/kaggle/input/covid19-image-dataset/Covid19-dataset/train/Covid/COVID-00035.jpg\n",
      "/kaggle/input/covid19-image-dataset/Covid19-dataset/train/Covid/082.jpg\n",
      "/kaggle/input/covid19-image-dataset/Covid19-dataset/train/Covid/022.jpeg\n",
      "/kaggle/input/covid19-image-dataset/Covid19-dataset/train/Covid/COVID-00006.jpg\n",
      "/kaggle/input/covid19-image-dataset/Covid19-dataset/train/Covid/07.jpg\n",
      "/kaggle/input/covid19-image-dataset/Covid19-dataset/train/Covid/065.jpeg\n",
      "/kaggle/input/covid19-image-dataset/Covid19-dataset/train/Covid/047.jpeg\n",
      "/kaggle/input/covid19-image-dataset/Covid19-dataset/train/Covid/COVID-00013b.jpg\n",
      "/kaggle/input/covid19-image-dataset/Covid19-dataset/train/Covid/COVID-00010.jpg\n",
      "/kaggle/input/covid19-image-dataset/Covid19-dataset/train/Covid/COVID-00015b.png\n",
      "/kaggle/input/covid19-image-dataset/Covid19-dataset/train/Covid/COVID-00004.jpg\n",
      "/kaggle/input/covid19-image-dataset/Covid19-dataset/train/Covid/010.png\n",
      "/kaggle/input/covid19-image-dataset/Covid19-dataset/train/Covid/091.jpg\n",
      "/kaggle/input/covid19-image-dataset/Covid19-dataset/train/Covid/090.jpeg\n",
      "/kaggle/input/covid19-image-dataset/Covid19-dataset/train/Covid/083.jpeg\n",
      "/kaggle/input/covid19-image-dataset/Covid19-dataset/train/Covid/048.jpeg\n",
      "/kaggle/input/covid19-image-dataset/Covid19-dataset/train/Covid/COVID-00008.jpg\n",
      "/kaggle/input/covid19-image-dataset/Covid19-dataset/train/Covid/031.jpeg\n",
      "/kaggle/input/covid19-image-dataset/Covid19-dataset/train/Covid/04.png\n",
      "/kaggle/input/covid19-image-dataset/Covid19-dataset/train/Covid/COVID-00002.jpg\n",
      "/kaggle/input/covid19-image-dataset/Covid19-dataset/train/Covid/085.jpeg\n"
     ]
    }
   ],
   "source": [
    "# This Python 3 environment comes with many helpful analytics libraries installed\n",
    "# It is defined by the kaggle/python Docker image: https://github.com/kaggle/docker-python\n",
    "# For example, here's several helpful packages to load\n",
    "\n",
    "import numpy as np # linear algebra\n",
    "import pandas as pd # data processing, CSV file I/O (e.g. pd.read_csv)\n",
    "\n",
    "# Input data files are available in the read-only \"../input/\" directory\n",
    "# For example, running this (by clicking run or pressing Shift+Enter) will list all files under the input directory\n",
    "\n",
    "import os\n",
    "for dirname, _, filenames in os.walk('/kaggle/input'):\n",
    "    for filename in filenames:\n",
    "        print(os.path.join(dirname, filename))\n",
    "\n",
    "# You can write up to 20GB to the current directory (/kaggle/working/) that gets preserved as output when you create a version using \"Save & Run All\" \n",
    "# You can also write temporary files to /kaggle/temp/, but they won't be saved outside of the current session"
   ]
  },
  {
   "cell_type": "code",
   "execution_count": 2,
   "id": "e2ae1831",
   "metadata": {
    "execution": {
     "iopub.execute_input": "2022-03-24T00:35:09.978849Z",
     "iopub.status.busy": "2022-03-24T00:35:09.978345Z",
     "iopub.status.idle": "2022-03-24T00:35:15.109467Z",
     "shell.execute_reply": "2022-03-24T00:35:15.108830Z",
     "shell.execute_reply.started": "2022-03-24T00:24:21.614366Z"
    },
    "papermill": {
     "duration": 5.152169,
     "end_time": "2022-03-24T00:35:15.109639",
     "exception": false,
     "start_time": "2022-03-24T00:35:09.957470",
     "status": "completed"
    },
    "tags": []
   },
   "outputs": [],
   "source": [
    "from tensorflow.keras.layers import Input, Lambda, Dense, Flatten\n",
    "from tensorflow.keras.models import Model\n",
    "from tensorflow.keras.applications.resnet50 import ResNet50\n",
    "from keras.applications.vgg16 import VGG16\n",
    "from keras.applications.vgg19 import VGG19\n",
    "from tensorflow.keras.applications.resnet50 import preprocess_input\n",
    "from tensorflow.keras.preprocessing import image\n",
    "from tensorflow.keras.preprocessing.image import ImageDataGenerator,load_img\n",
    "from tensorflow.keras.models import Sequential\n",
    "import numpy as np\n",
    "from glob import glob\n",
    "import matplotlib.pyplot as plt"
   ]
  },
  {
   "cell_type": "code",
   "execution_count": 3,
   "id": "b3164db4",
   "metadata": {
    "execution": {
     "iopub.execute_input": "2022-03-24T00:35:15.148395Z",
     "iopub.status.busy": "2022-03-24T00:35:15.147612Z",
     "iopub.status.idle": "2022-03-24T00:35:21.036988Z",
     "shell.execute_reply": "2022-03-24T00:35:21.036443Z",
     "shell.execute_reply.started": "2022-03-24T00:25:17.452250Z"
    },
    "papermill": {
     "duration": 5.911287,
     "end_time": "2022-03-24T00:35:21.037129",
     "exception": false,
     "start_time": "2022-03-24T00:35:15.125842",
     "status": "completed"
    },
    "tags": []
   },
   "outputs": [
    {
     "name": "stderr",
     "output_type": "stream",
     "text": [
      "2022-03-24 00:35:15.225615: I tensorflow/stream_executor/cuda/cuda_gpu_executor.cc:937] successful NUMA node read from SysFS had negative value (-1), but there must be at least one NUMA node, so returning NUMA node zero\n",
      "2022-03-24 00:35:15.308261: I tensorflow/stream_executor/cuda/cuda_gpu_executor.cc:937] successful NUMA node read from SysFS had negative value (-1), but there must be at least one NUMA node, so returning NUMA node zero\n",
      "2022-03-24 00:35:15.308943: I tensorflow/stream_executor/cuda/cuda_gpu_executor.cc:937] successful NUMA node read from SysFS had negative value (-1), but there must be at least one NUMA node, so returning NUMA node zero\n",
      "2022-03-24 00:35:15.310015: I tensorflow/core/platform/cpu_feature_guard.cc:142] This TensorFlow binary is optimized with oneAPI Deep Neural Network Library (oneDNN) to use the following CPU instructions in performance-critical operations:  AVX2 AVX512F FMA\n",
      "To enable them in other operations, rebuild TensorFlow with the appropriate compiler flags.\n",
      "2022-03-24 00:35:15.310738: I tensorflow/stream_executor/cuda/cuda_gpu_executor.cc:937] successful NUMA node read from SysFS had negative value (-1), but there must be at least one NUMA node, so returning NUMA node zero\n",
      "2022-03-24 00:35:15.311403: I tensorflow/stream_executor/cuda/cuda_gpu_executor.cc:937] successful NUMA node read from SysFS had negative value (-1), but there must be at least one NUMA node, so returning NUMA node zero\n",
      "2022-03-24 00:35:15.311982: I tensorflow/stream_executor/cuda/cuda_gpu_executor.cc:937] successful NUMA node read from SysFS had negative value (-1), but there must be at least one NUMA node, so returning NUMA node zero\n",
      "2022-03-24 00:35:17.054115: I tensorflow/stream_executor/cuda/cuda_gpu_executor.cc:937] successful NUMA node read from SysFS had negative value (-1), but there must be at least one NUMA node, so returning NUMA node zero\n",
      "2022-03-24 00:35:17.054922: I tensorflow/stream_executor/cuda/cuda_gpu_executor.cc:937] successful NUMA node read from SysFS had negative value (-1), but there must be at least one NUMA node, so returning NUMA node zero\n",
      "2022-03-24 00:35:17.055608: I tensorflow/stream_executor/cuda/cuda_gpu_executor.cc:937] successful NUMA node read from SysFS had negative value (-1), but there must be at least one NUMA node, so returning NUMA node zero\n",
      "2022-03-24 00:35:17.056169: I tensorflow/core/common_runtime/gpu/gpu_device.cc:1510] Created device /job:localhost/replica:0/task:0/device:GPU:0 with 15403 MB memory:  -> device: 0, name: Tesla P100-PCIE-16GB, pci bus id: 0000:00:04.0, compute capability: 6.0\n"
     ]
    },
    {
     "name": "stdout",
     "output_type": "stream",
     "text": [
      "Downloading data from https://storage.googleapis.com/tensorflow/keras-applications/vgg19/vgg19_weights_tf_dim_ordering_tf_kernels_notop.h5\n",
      "80142336/80134624 [==============================] - 2s 0us/step\n",
      "80150528/80134624 [==============================] - 2s 0us/step\n"
     ]
    }
   ],
   "source": [
    "IMAGE_SIZE = [224, 224] \n",
    "\n",
    "train_path = '../input/covid19-image-dataset/Covid19-dataset/train'\n",
    "valid_path = '../input/covid19-image-dataset/Covid19-dataset/test'\n",
    "vgg = VGG19(input_shape=IMAGE_SIZE + [3], weights='imagenet', include_top=False)\n"
   ]
  },
  {
   "cell_type": "code",
   "execution_count": 4,
   "id": "06d4aa43",
   "metadata": {
    "execution": {
     "iopub.execute_input": "2022-03-24T00:35:21.090937Z",
     "iopub.status.busy": "2022-03-24T00:35:21.090013Z",
     "iopub.status.idle": "2022-03-24T00:35:21.092008Z",
     "shell.execute_reply": "2022-03-24T00:35:21.092479Z",
     "shell.execute_reply.started": "2022-03-24T00:26:32.951844Z"
    },
    "papermill": {
     "duration": 0.031592,
     "end_time": "2022-03-24T00:35:21.092625",
     "exception": false,
     "start_time": "2022-03-24T00:35:21.061033",
     "status": "completed"
    },
    "tags": []
   },
   "outputs": [],
   "source": [
    "for layer in vgg.layers:\n",
    "  layer.trainable=False"
   ]
  },
  {
   "cell_type": "code",
   "execution_count": 5,
   "id": "a6aa302d",
   "metadata": {
    "execution": {
     "iopub.execute_input": "2022-03-24T00:35:21.143349Z",
     "iopub.status.busy": "2022-03-24T00:35:21.142804Z",
     "iopub.status.idle": "2022-03-24T00:35:21.147362Z",
     "shell.execute_reply": "2022-03-24T00:35:21.146873Z",
     "shell.execute_reply.started": "2022-03-24T00:26:46.293172Z"
    },
    "papermill": {
     "duration": 0.031162,
     "end_time": "2022-03-24T00:35:21.147485",
     "exception": false,
     "start_time": "2022-03-24T00:35:21.116323",
     "status": "completed"
    },
    "tags": []
   },
   "outputs": [],
   "source": [
    "folders=glob( '../input/covid19-image-dataset/Covid19-dataset/train/*')"
   ]
  },
  {
   "cell_type": "code",
   "execution_count": 6,
   "id": "ce2bf819",
   "metadata": {
    "execution": {
     "iopub.execute_input": "2022-03-24T00:35:21.194851Z",
     "iopub.status.busy": "2022-03-24T00:35:21.194064Z",
     "iopub.status.idle": "2022-03-24T00:35:21.211348Z",
     "shell.execute_reply": "2022-03-24T00:35:21.210841Z",
     "shell.execute_reply.started": "2022-03-24T00:27:04.704109Z"
    },
    "papermill": {
     "duration": 0.042829,
     "end_time": "2022-03-24T00:35:21.211473",
     "exception": false,
     "start_time": "2022-03-24T00:35:21.168644",
     "status": "completed"
    },
    "tags": []
   },
   "outputs": [],
   "source": [
    "x=Flatten()(vgg.output)\n",
    "\n",
    "prediction=Dense(len(folders),activation='softmax')(x)\n",
    "\n",
    "\n",
    "model = Model(inputs=vgg.input, outputs=prediction)\n"
   ]
  },
  {
   "cell_type": "code",
   "execution_count": 7,
   "id": "09abe54b",
   "metadata": {
    "execution": {
     "iopub.execute_input": "2022-03-24T00:35:21.258985Z",
     "iopub.status.busy": "2022-03-24T00:35:21.257555Z",
     "iopub.status.idle": "2022-03-24T00:35:21.269582Z",
     "shell.execute_reply": "2022-03-24T00:35:21.270021Z",
     "shell.execute_reply.started": "2022-03-24T00:27:15.159208Z"
    },
    "papermill": {
     "duration": 0.03794,
     "end_time": "2022-03-24T00:35:21.270155",
     "exception": false,
     "start_time": "2022-03-24T00:35:21.232215",
     "status": "completed"
    },
    "tags": []
   },
   "outputs": [
    {
     "name": "stdout",
     "output_type": "stream",
     "text": [
      "Model: \"model\"\n",
      "_________________________________________________________________\n",
      "Layer (type)                 Output Shape              Param #   \n",
      "=================================================================\n",
      "input_1 (InputLayer)         [(None, 224, 224, 3)]     0         \n",
      "_________________________________________________________________\n",
      "block1_conv1 (Conv2D)        (None, 224, 224, 64)      1792      \n",
      "_________________________________________________________________\n",
      "block1_conv2 (Conv2D)        (None, 224, 224, 64)      36928     \n",
      "_________________________________________________________________\n",
      "block1_pool (MaxPooling2D)   (None, 112, 112, 64)      0         \n",
      "_________________________________________________________________\n",
      "block2_conv1 (Conv2D)        (None, 112, 112, 128)     73856     \n",
      "_________________________________________________________________\n",
      "block2_conv2 (Conv2D)        (None, 112, 112, 128)     147584    \n",
      "_________________________________________________________________\n",
      "block2_pool (MaxPooling2D)   (None, 56, 56, 128)       0         \n",
      "_________________________________________________________________\n",
      "block3_conv1 (Conv2D)        (None, 56, 56, 256)       295168    \n",
      "_________________________________________________________________\n",
      "block3_conv2 (Conv2D)        (None, 56, 56, 256)       590080    \n",
      "_________________________________________________________________\n",
      "block3_conv3 (Conv2D)        (None, 56, 56, 256)       590080    \n",
      "_________________________________________________________________\n",
      "block3_conv4 (Conv2D)        (None, 56, 56, 256)       590080    \n",
      "_________________________________________________________________\n",
      "block3_pool (MaxPooling2D)   (None, 28, 28, 256)       0         \n",
      "_________________________________________________________________\n",
      "block4_conv1 (Conv2D)        (None, 28, 28, 512)       1180160   \n",
      "_________________________________________________________________\n",
      "block4_conv2 (Conv2D)        (None, 28, 28, 512)       2359808   \n",
      "_________________________________________________________________\n",
      "block4_conv3 (Conv2D)        (None, 28, 28, 512)       2359808   \n",
      "_________________________________________________________________\n",
      "block4_conv4 (Conv2D)        (None, 28, 28, 512)       2359808   \n",
      "_________________________________________________________________\n",
      "block4_pool (MaxPooling2D)   (None, 14, 14, 512)       0         \n",
      "_________________________________________________________________\n",
      "block5_conv1 (Conv2D)        (None, 14, 14, 512)       2359808   \n",
      "_________________________________________________________________\n",
      "block5_conv2 (Conv2D)        (None, 14, 14, 512)       2359808   \n",
      "_________________________________________________________________\n",
      "block5_conv3 (Conv2D)        (None, 14, 14, 512)       2359808   \n",
      "_________________________________________________________________\n",
      "block5_conv4 (Conv2D)        (None, 14, 14, 512)       2359808   \n",
      "_________________________________________________________________\n",
      "block5_pool (MaxPooling2D)   (None, 7, 7, 512)         0         \n",
      "_________________________________________________________________\n",
      "flatten (Flatten)            (None, 25088)             0         \n",
      "_________________________________________________________________\n",
      "dense (Dense)                (None, 3)                 75267     \n",
      "=================================================================\n",
      "Total params: 20,099,651\n",
      "Trainable params: 75,267\n",
      "Non-trainable params: 20,024,384\n",
      "_________________________________________________________________\n"
     ]
    }
   ],
   "source": [
    "model.summary()"
   ]
  },
  {
   "cell_type": "code",
   "execution_count": 8,
   "id": "16cec9e6",
   "metadata": {
    "execution": {
     "iopub.execute_input": "2022-03-24T00:35:21.315253Z",
     "iopub.status.busy": "2022-03-24T00:35:21.314435Z",
     "iopub.status.idle": "2022-03-24T00:35:21.326402Z",
     "shell.execute_reply": "2022-03-24T00:35:21.325906Z",
     "shell.execute_reply.started": "2022-03-24T00:27:35.057414Z"
    },
    "papermill": {
     "duration": 0.035646,
     "end_time": "2022-03-24T00:35:21.326525",
     "exception": false,
     "start_time": "2022-03-24T00:35:21.290879",
     "status": "completed"
    },
    "tags": []
   },
   "outputs": [],
   "source": [
    "model.compile(\n",
    "  loss='categorical_crossentropy',\n",
    "  optimizer='adam',\n",
    "  metrics=['accuracy']\n",
    ")"
   ]
  },
  {
   "cell_type": "code",
   "execution_count": 9,
   "id": "aae613e5",
   "metadata": {
    "execution": {
     "iopub.execute_input": "2022-03-24T00:35:21.374248Z",
     "iopub.status.busy": "2022-03-24T00:35:21.373445Z",
     "iopub.status.idle": "2022-03-24T00:35:21.375825Z",
     "shell.execute_reply": "2022-03-24T00:35:21.375397Z",
     "shell.execute_reply.started": "2022-03-24T00:27:53.648357Z"
    },
    "papermill": {
     "duration": 0.028246,
     "end_time": "2022-03-24T00:35:21.375943",
     "exception": false,
     "start_time": "2022-03-24T00:35:21.347697",
     "status": "completed"
    },
    "tags": []
   },
   "outputs": [],
   "source": [
    "from tensorflow.keras.preprocessing.image import ImageDataGenerator\n",
    "\n",
    "train_datagen = ImageDataGenerator(rescale = 1./255,\n",
    "                                    horizontal_flip = True,\n",
    "                                    rotation_range=20,\n",
    "                                    zoom_range=0.15,\n",
    "                                    width_shift_range=0.2,\n",
    "    height_shift_range=0.2,\n",
    "    shear_range=0.15,\n",
    "    fill_mode=\"nearest\")\n",
    "\n",
    "test_datagen = ImageDataGenerator(rescale = 1./255)"
   ]
  },
  {
   "cell_type": "code",
   "execution_count": 10,
   "id": "3bee6b30",
   "metadata": {
    "execution": {
     "iopub.execute_input": "2022-03-24T00:35:21.421687Z",
     "iopub.status.busy": "2022-03-24T00:35:21.420988Z",
     "iopub.status.idle": "2022-03-24T00:35:21.526701Z",
     "shell.execute_reply": "2022-03-24T00:35:21.527158Z",
     "shell.execute_reply.started": "2022-03-24T00:28:03.281296Z"
    },
    "papermill": {
     "duration": 0.130796,
     "end_time": "2022-03-24T00:35:21.527337",
     "exception": false,
     "start_time": "2022-03-24T00:35:21.396541",
     "status": "completed"
    },
    "tags": []
   },
   "outputs": [
    {
     "name": "stdout",
     "output_type": "stream",
     "text": [
      "Found 251 images belonging to 3 classes.\n"
     ]
    }
   ],
   "source": [
    "training_set = train_datagen.flow_from_directory('../input/covid19-image-dataset/Covid19-dataset/train',\n",
    "                                                 target_size = (224, 224),\n",
    "                                                 batch_size = 32,\n",
    "                                                 class_mode = 'categorical')"
   ]
  },
  {
   "cell_type": "code",
   "execution_count": 11,
   "id": "42ce7eb4",
   "metadata": {
    "execution": {
     "iopub.execute_input": "2022-03-24T00:35:21.574485Z",
     "iopub.status.busy": "2022-03-24T00:35:21.573829Z",
     "iopub.status.idle": "2022-03-24T00:35:21.678065Z",
     "shell.execute_reply": "2022-03-24T00:35:21.677610Z",
     "shell.execute_reply.started": "2022-03-24T00:28:14.992308Z"
    },
    "papermill": {
     "duration": 0.129652,
     "end_time": "2022-03-24T00:35:21.678181",
     "exception": false,
     "start_time": "2022-03-24T00:35:21.548529",
     "status": "completed"
    },
    "tags": []
   },
   "outputs": [
    {
     "name": "stdout",
     "output_type": "stream",
     "text": [
      "Found 66 images belonging to 3 classes.\n"
     ]
    }
   ],
   "source": [
    "test_set = test_datagen.flow_from_directory('../input/covid19-image-dataset/Covid19-dataset/test',\n",
    "                                            target_size = (224, 224),\n",
    "                                            batch_size = 32,\n",
    "                                            class_mode = 'categorical')"
   ]
  },
  {
   "cell_type": "code",
   "execution_count": 12,
   "id": "f3106f72",
   "metadata": {
    "execution": {
     "iopub.execute_input": "2022-03-24T00:35:21.725512Z",
     "iopub.status.busy": "2022-03-24T00:35:21.724746Z",
     "iopub.status.idle": "2022-03-24T00:39:17.479145Z",
     "shell.execute_reply": "2022-03-24T00:39:17.478660Z",
     "shell.execute_reply.started": "2022-03-24T00:28:33.036287Z"
    },
    "papermill": {
     "duration": 235.777904,
     "end_time": "2022-03-24T00:39:17.479319",
     "exception": false,
     "start_time": "2022-03-24T00:35:21.701415",
     "status": "completed"
    },
    "tags": []
   },
   "outputs": [
    {
     "name": "stderr",
     "output_type": "stream",
     "text": [
      "/opt/conda/lib/python3.7/site-packages/keras/engine/training.py:1972: UserWarning: `Model.fit_generator` is deprecated and will be removed in a future version. Please use `Model.fit`, which supports generators.\n",
      "  warnings.warn('`Model.fit_generator` is deprecated and '\n",
      "2022-03-24 00:35:24.900677: I tensorflow/compiler/mlir/mlir_graph_optimization_pass.cc:185] None of the MLIR Optimization Passes are enabled (registered 2)\n"
     ]
    },
    {
     "name": "stdout",
     "output_type": "stream",
     "text": [
      "Epoch 1/15\n"
     ]
    },
    {
     "name": "stderr",
     "output_type": "stream",
     "text": [
      "2022-03-24 00:35:28.959116: I tensorflow/stream_executor/cuda/cuda_dnn.cc:369] Loaded cuDNN version 8005\n"
     ]
    },
    {
     "name": "stdout",
     "output_type": "stream",
     "text": [
      "8/8 [==============================] - 29s 3s/step - loss: 1.8540 - accuracy: 0.4582 - val_loss: 0.9980 - val_accuracy: 0.4848\n",
      "Epoch 2/15\n",
      "8/8 [==============================] - 14s 2s/step - loss: 0.8630 - accuracy: 0.6932 - val_loss: 0.7361 - val_accuracy: 0.6364\n",
      "Epoch 3/15\n",
      "8/8 [==============================] - 14s 2s/step - loss: 0.5376 - accuracy: 0.8088 - val_loss: 0.3561 - val_accuracy: 0.8333\n",
      "Epoch 4/15\n",
      "8/8 [==============================] - 13s 2s/step - loss: 0.4001 - accuracy: 0.8446 - val_loss: 0.2455 - val_accuracy: 0.9091\n",
      "Epoch 5/15\n",
      "8/8 [==============================] - 14s 2s/step - loss: 0.2681 - accuracy: 0.9163 - val_loss: 0.3003 - val_accuracy: 0.8636\n",
      "Epoch 6/15\n",
      "8/8 [==============================] - 13s 2s/step - loss: 0.2348 - accuracy: 0.9283 - val_loss: 0.1815 - val_accuracy: 0.8939\n",
      "Epoch 7/15\n",
      "8/8 [==============================] - 14s 2s/step - loss: 0.2087 - accuracy: 0.9163 - val_loss: 0.1574 - val_accuracy: 0.9394\n",
      "Epoch 8/15\n",
      "8/8 [==============================] - 13s 2s/step - loss: 0.2151 - accuracy: 0.9163 - val_loss: 0.1490 - val_accuracy: 0.9091\n",
      "Epoch 9/15\n",
      "8/8 [==============================] - 13s 2s/step - loss: 0.2088 - accuracy: 0.9203 - val_loss: 0.1744 - val_accuracy: 0.9242\n",
      "Epoch 10/15\n",
      "8/8 [==============================] - 14s 2s/step - loss: 0.2204 - accuracy: 0.9163 - val_loss: 0.1857 - val_accuracy: 0.9242\n",
      "Epoch 11/15\n",
      "8/8 [==============================] - 13s 2s/step - loss: 0.1982 - accuracy: 0.9363 - val_loss: 0.1553 - val_accuracy: 0.8939\n",
      "Epoch 12/15\n",
      "8/8 [==============================] - 14s 2s/step - loss: 0.1193 - accuracy: 0.9681 - val_loss: 0.2344 - val_accuracy: 0.9091\n",
      "Epoch 13/15\n",
      "8/8 [==============================] - 13s 2s/step - loss: 0.1396 - accuracy: 0.9482 - val_loss: 0.1945 - val_accuracy: 0.9242\n",
      "Epoch 14/15\n",
      "8/8 [==============================] - 13s 2s/step - loss: 0.1564 - accuracy: 0.9602 - val_loss: 0.1593 - val_accuracy: 0.9091\n",
      "Epoch 15/15\n",
      "8/8 [==============================] - 14s 2s/step - loss: 0.1317 - accuracy: 0.9562 - val_loss: 0.2766 - val_accuracy: 0.8939\n"
     ]
    }
   ],
   "source": [
    "r = model.fit_generator(\n",
    "  training_set,\n",
    "  validation_data=test_set,\n",
    "  epochs=15,\n",
    "  steps_per_epoch=len(training_set),\n",
    "  validation_steps=len(test_set)\n",
    ")"
   ]
  },
  {
   "cell_type": "code",
   "execution_count": 13,
   "id": "35559d46",
   "metadata": {
    "execution": {
     "iopub.execute_input": "2022-03-24T00:39:17.622299Z",
     "iopub.status.busy": "2022-03-24T00:39:17.621164Z",
     "iopub.status.idle": "2022-03-24T00:39:17.624706Z",
     "shell.execute_reply": "2022-03-24T00:39:17.625098Z",
     "shell.execute_reply.started": "2022-03-24T00:32:41.228280Z"
    },
    "papermill": {
     "duration": 0.078374,
     "end_time": "2022-03-24T00:39:17.625217",
     "exception": false,
     "start_time": "2022-03-24T00:39:17.546843",
     "status": "completed"
    },
    "tags": []
   },
   "outputs": [
    {
     "data": {
      "text/plain": [
       "{'loss': [1.8539958000183105,\n",
       "  0.8630096316337585,\n",
       "  0.5376406908035278,\n",
       "  0.4001467227935791,\n",
       "  0.26810938119888306,\n",
       "  0.23477351665496826,\n",
       "  0.20865240693092346,\n",
       "  0.21508224308490753,\n",
       "  0.20879408717155457,\n",
       "  0.2203962653875351,\n",
       "  0.19821737706661224,\n",
       "  0.11927212029695511,\n",
       "  0.13959619402885437,\n",
       "  0.15640799701213837,\n",
       "  0.131731316447258],\n",
       " 'accuracy': [0.45816734433174133,\n",
       "  0.6932271122932434,\n",
       "  0.8087649345397949,\n",
       "  0.8446215391159058,\n",
       "  0.9163346886634827,\n",
       "  0.9282868504524231,\n",
       "  0.9163346886634827,\n",
       "  0.9163346886634827,\n",
       "  0.9203187227249146,\n",
       "  0.9163346886634827,\n",
       "  0.9362549781799316,\n",
       "  0.9681274890899658,\n",
       "  0.9482071995735168,\n",
       "  0.9601593613624573,\n",
       "  0.9561753273010254],\n",
       " 'val_loss': [0.9980393648147583,\n",
       "  0.7361092567443848,\n",
       "  0.35614803433418274,\n",
       "  0.2455323189496994,\n",
       "  0.3002564013004303,\n",
       "  0.18146052956581116,\n",
       "  0.1574377715587616,\n",
       "  0.14900195598602295,\n",
       "  0.1743869036436081,\n",
       "  0.18570712208747864,\n",
       "  0.1553301066160202,\n",
       "  0.23436091840267181,\n",
       "  0.19449284672737122,\n",
       "  0.15930268168449402,\n",
       "  0.27660688757896423],\n",
       " 'val_accuracy': [0.4848484992980957,\n",
       "  0.6363636255264282,\n",
       "  0.8333333134651184,\n",
       "  0.9090909361839294,\n",
       "  0.8636363744735718,\n",
       "  0.8939393758773804,\n",
       "  0.939393937587738,\n",
       "  0.9090909361839294,\n",
       "  0.9242424368858337,\n",
       "  0.9242424368858337,\n",
       "  0.8939393758773804,\n",
       "  0.9090909361839294,\n",
       "  0.9242424368858337,\n",
       "  0.9090909361839294,\n",
       "  0.8939393758773804]}"
      ]
     },
     "execution_count": 13,
     "metadata": {},
     "output_type": "execute_result"
    }
   ],
   "source": [
    "r.history"
   ]
  },
  {
   "cell_type": "code",
   "execution_count": 14,
   "id": "ff6af68c",
   "metadata": {
    "execution": {
     "iopub.execute_input": "2022-03-24T00:39:17.769712Z",
     "iopub.status.busy": "2022-03-24T00:39:17.769009Z",
     "iopub.status.idle": "2022-03-24T00:39:17.966370Z",
     "shell.execute_reply": "2022-03-24T00:39:17.965918Z",
     "shell.execute_reply.started": "2022-03-24T00:32:54.715833Z"
    },
    "papermill": {
     "duration": 0.274073,
     "end_time": "2022-03-24T00:39:17.966490",
     "exception": false,
     "start_time": "2022-03-24T00:39:17.692417",
     "status": "completed"
    },
    "tags": []
   },
   "outputs": [
    {
     "data": {
      "image/png": "[encoded data removed]",
      "text/plain": [
       "<Figure size 432x288 with 1 Axes>"
      ]
     },
     "metadata": {
      "needs_background": "light"
     },
     "output_type": "display_data"
    },
    {
     "data": {
      "text/plain": [
       "<Figure size 432x288 with 0 Axes>"
      ]
     },
     "metadata": {},
     "output_type": "display_data"
    }
   ],
   "source": [
    "plt.plot(r.history['loss'], label='train loss')\n",
    "plt.plot(r.history['val_loss'], label='val loss')\n",
    "plt.legend()\n",
    "plt.show()\n",
    "plt.savefig('LossVal_loss')"
   ]
  },
  {
   "cell_type": "code",
   "execution_count": 15,
   "id": "b7557987",
   "metadata": {
    "execution": {
     "iopub.execute_input": "2022-03-24T00:39:18.149718Z",
     "iopub.status.busy": "2022-03-24T00:39:18.148912Z",
     "iopub.status.idle": "2022-03-24T00:39:18.316470Z",
     "shell.execute_reply": "2022-03-24T00:39:18.315947Z",
     "shell.execute_reply.started": "2022-03-24T00:33:05.416243Z"
    },
    "papermill": {
     "duration": 0.271201,
     "end_time": "2022-03-24T00:39:18.316599",
     "exception": false,
     "start_time": "2022-03-24T00:39:18.045398",
     "status": "completed"
    },
    "tags": []
   },
   "outputs": [
    {
     "data": {
      "image/png": "[encoded data removed]",
      "text/plain": [
       "<Figure size 432x288 with 1 Axes>"
      ]
     },
     "metadata": {
      "needs_background": "light"
     },
     "output_type": "display_data"
    },
    {
     "data": {
      "text/plain": [
       "<Figure size 432x288 with 0 Axes>"
      ]
     },
     "metadata": {},
     "output_type": "display_data"
    }
   ],
   "source": [
    "plt.plot(r.history['accuracy'], label='train acc')\n",
    "plt.plot(r.history['val_accuracy'], label='val acc')\n",
    "plt.legend()\n",
    "plt.show()\n",
    "plt.savefig('AccVal_acc')"
   ]
  },
  {
   "cell_type": "code",
   "execution_count": 16,
   "id": "9962f0e7",
   "metadata": {
    "execution": {
     "iopub.execute_input": "2022-03-24T00:39:18.467147Z",
     "iopub.status.busy": "2022-03-24T00:39:18.465689Z",
     "iopub.status.idle": "2022-03-24T00:39:20.709312Z",
     "shell.execute_reply": "2022-03-24T00:39:20.709731Z",
     "shell.execute_reply.started": "2022-03-24T00:33:20.169218Z"
    },
    "papermill": {
     "duration": 2.320017,
     "end_time": "2022-03-24T00:39:20.709888",
     "exception": false,
     "start_time": "2022-03-24T00:39:18.389871",
     "status": "completed"
    },
    "tags": []
   },
   "outputs": [
    {
     "data": {
      "text/plain": [
       "array([[2.92064063e-02, 9.28598225e-01, 4.21953797e-02],\n",
       "       [1.91695173e-04, 1.06930487e-01, 8.92877877e-01],\n",
       "       [9.75163817e-01, 2.56854546e-04, 2.45792437e-02],\n",
       "       [9.87285912e-01, 1.32838753e-03, 1.13857193e-02],\n",
       "       [9.77455139e-01, 9.93519672e-04, 2.15514284e-02],\n",
       "       [1.87297264e-04, 8.04642618e-01, 1.95170060e-01],\n",
       "       [2.28536184e-04, 6.36453256e-02, 9.36126173e-01],\n",
       "       [2.74417427e-04, 8.70371580e-01, 1.29354000e-01],\n",
       "       [7.01482277e-05, 5.69137275e-01, 4.30792540e-01],\n",
       "       [9.77455139e-01, 9.93519672e-04, 2.15514284e-02],\n",
       "       [1.06916390e-03, 7.62537448e-03, 9.91305411e-01],\n",
       "       [3.42513958e-05, 6.02778928e-05, 9.99905467e-01],\n",
       "       [9.95797753e-01, 2.14150961e-04, 3.98818264e-03],\n",
       "       [8.88671668e-04, 1.76393073e-02, 9.81472015e-01],\n",
       "       [9.86071408e-01, 7.14083535e-06, 1.39214536e-02],\n",
       "       [1.82384640e-04, 7.25574315e-01, 2.74243265e-01],\n",
       "       [5.29845056e-06, 6.39439188e-03, 9.93600368e-01],\n",
       "       [3.88949184e-06, 7.03945931e-04, 9.99292135e-01],\n",
       "       [9.94541228e-01, 3.26047521e-05, 5.42623643e-03],\n",
       "       [9.66380298e-01, 7.49969855e-03, 2.61199586e-02],\n",
       "       [9.98757958e-01, 2.74544368e-06, 1.23930315e-03],\n",
       "       [3.19179450e-03, 7.37460330e-02, 9.23062146e-01],\n",
       "       [1.33874157e-04, 2.06639394e-01, 7.93226719e-01],\n",
       "       [9.84208643e-01, 3.70909664e-04, 1.54204899e-02],\n",
       "       [1.22029718e-03, 1.74694418e-04, 9.98605072e-01],\n",
       "       [9.09047842e-01, 2.95279577e-04, 9.06568468e-02],\n",
       "       [5.31170401e-04, 7.48600066e-01, 2.50868767e-01],\n",
       "       [9.93915737e-01, 2.38069426e-03, 3.70356790e-03],\n",
       "       [9.91036177e-01, 1.00331730e-03, 7.96041917e-03],\n",
       "       [1.87151181e-06, 2.81231552e-01, 7.18766570e-01],\n",
       "       [1.03038992e-03, 2.95439195e-02, 9.69425678e-01],\n",
       "       [9.80429292e-01, 2.01969245e-03, 1.75509844e-02],\n",
       "       [1.42021672e-04, 8.84986937e-01, 1.14871033e-01],\n",
       "       [8.03022413e-05, 9.88194346e-01, 1.17252925e-02],\n",
       "       [9.93939519e-01, 8.02222639e-04, 5.25817275e-03],\n",
       "       [9.62125659e-01, 2.03607008e-02, 1.75137576e-02],\n",
       "       [9.89947736e-01, 5.24014991e-04, 9.52831656e-03],\n",
       "       [9.94759738e-01, 5.50591503e-05, 5.18526370e-03],\n",
       "       [9.87379670e-01, 5.24422358e-05, 1.25678517e-02],\n",
       "       [3.21295054e-04, 8.83633196e-01, 1.16045542e-01],\n",
       "       [2.53495295e-03, 8.77442658e-01, 1.20022357e-01],\n",
       "       [4.30129439e-05, 7.63668194e-02, 9.23590124e-01],\n",
       "       [2.19956208e-02, 1.77738667e-01, 8.00265729e-01],\n",
       "       [7.75455119e-05, 9.84696001e-02, 9.01452839e-01],\n",
       "       [9.93877828e-01, 3.88705885e-05, 6.08335761e-03],\n",
       "       [6.48241394e-06, 2.51726247e-04, 9.99741733e-01],\n",
       "       [2.31084297e-04, 3.34775485e-02, 9.66291368e-01],\n",
       "       [8.64944086e-05, 1.48115335e-02, 9.85101938e-01],\n",
       "       [6.65900952e-05, 9.29545999e-01, 7.03873560e-02],\n",
       "       [9.78048205e-01, 4.28969925e-03, 1.76621769e-02],\n",
       "       [5.48640732e-04, 6.60106316e-02, 9.33440745e-01],\n",
       "       [3.27999114e-05, 6.47768192e-03, 9.93489504e-01],\n",
       "       [9.69275117e-01, 1.92844903e-03, 2.87964512e-02],\n",
       "       [1.13868555e-05, 4.46308783e-04, 9.99542356e-01],\n",
       "       [8.98612916e-01, 2.16117132e-05, 1.01365499e-01],\n",
       "       [1.12899266e-04, 1.23331626e-03, 9.98653769e-01],\n",
       "       [9.83034611e-01, 5.08463068e-04, 1.64568666e-02],\n",
       "       [9.60537791e-01, 2.64002680e-04, 3.91981974e-02],\n",
       "       [4.98837153e-06, 1.75582565e-04, 9.99819458e-01],\n",
       "       [9.98529792e-01, 5.20165522e-05, 1.41817820e-03],\n",
       "       [8.67569074e-03, 9.21423454e-03, 9.82110083e-01],\n",
       "       [2.57431733e-04, 8.66965763e-03, 9.91072953e-01],\n",
       "       [4.39735486e-05, 4.57725108e-01, 5.42230904e-01],\n",
       "       [2.80986987e-05, 7.96974957e-01, 2.02996895e-01],\n",
       "       [6.83500002e-06, 6.25737361e-04, 9.99367416e-01],\n",
       "       [4.58623283e-03, 9.84543979e-01, 1.08697526e-02]], dtype=float32)"
      ]
     },
     "execution_count": 16,
     "metadata": {},
     "output_type": "execute_result"
    }
   ],
   "source": [
    "y_pred=model.predict(test_set)\n",
    "y_pred"
   ]
  },
  {
   "cell_type": "code",
   "execution_count": null,
   "id": "f941ba40",
   "metadata": {
    "papermill": {
     "duration": 0.07046,
     "end_time": "2022-03-24T00:39:20.854359",
     "exception": false,
     "start_time": "2022-03-24T00:39:20.783899",
     "status": "completed"
    },
    "tags": []
   },
   "outputs": [],
   "source": []
  }
 ],
 "metadata": {
  "kernelspec": {
   "display_name": "Python 3",
   "language": "python",
   "name": "python3"
  },
  "language_info": {
   "codemirror_mode": {
    "name": "ipython",
    "version": 3
   },
   "file_extension": ".py",
   "mimetype": "text/x-python",
   "name": "python",
   "nbconvert_exporter": "python",
   "pygments_lexer": "ipython3",
   "version": "3.7.12"
  },
  "papermill": {
   "default_parameters": {},
   "duration": 262.445027,
   "end_time": "2022-03-24T00:39:23.780595",
   "environment_variables": {},
   "exception": null,
   "input_path": "__notebook__.ipynb",
   "output_path": "__notebook__.ipynb",
   "parameters": {},
   "start_time": "2022-03-24T00:35:01.335568",
   "version": "2.3.3"
  }
 },
 "nbformat": 4,
 "nbformat_minor": 5
}
